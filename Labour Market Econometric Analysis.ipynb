{
 "cells": [
  {
   "cell_type": "markdown",
   "metadata": {},
   "source": [
    "## Econometric Analysis of Race and Ethnicity on Earnings Gap \n",
    "## Course: Applied Econometrics"
   ]
  },
  {
   "cell_type": "markdown",
   "metadata": {},
   "source": [
    "### Setting-up"
   ]
  },
  {
   "cell_type": "code",
   "execution_count": 1,
   "metadata": {},
   "outputs": [
    {
     "name": "stderr",
     "output_type": "stream",
     "text": [
      "-- Attaching packages --------------------------------------- tidyverse 1.2.1 --\n",
      "v ggplot2 3.0.0     v purrr   0.2.5\n",
      "v tibble  1.4.2     v dplyr   0.7.6\n",
      "v tidyr   0.8.1     v stringr 1.3.1\n",
      "v readr   1.1.1     v forcats 0.3.0\n",
      "-- Conflicts ------------------------------------------ tidyverse_conflicts() --\n",
      "x dplyr::filter() masks stats::filter()\n",
      "x dplyr::lag()    masks stats::lag()\n",
      "\n",
      "Attaching package: 'psych'\n",
      "\n",
      "The following objects are masked from 'package:ggplot2':\n",
      "\n",
      "    %+%, alpha\n",
      "\n",
      "corrplot 0.84 loaded\n",
      "\n",
      "Please cite as: \n",
      "\n",
      " Hlavac, Marek (2018). stargazer: Well-Formatted Regression and Summary Statistics Tables.\n",
      " R package version 5.2.2. https://CRAN.R-project.org/package=stargazer \n",
      "\n",
      "Loading required package: zoo\n",
      "\n",
      "Attaching package: 'zoo'\n",
      "\n",
      "The following objects are masked from 'package:base':\n",
      "\n",
      "    as.Date, as.Date.numeric\n",
      "\n"
     ]
    }
   ],
   "source": [
    "# Load the libraries\n",
    "library(tidyverse)\n",
    "library(psych)\n",
    "library(corrplot)\n",
    "library(stargazer)\n",
    "library(sandwich)\n",
    "library(lmtest)\n",
    "\n",
    "options(message = -1)\n",
    "options(warn = -1)"
   ]
  },
  {
   "cell_type": "markdown",
   "metadata": {},
   "source": [
    "### Data pre-processing"
   ]
  },
  {
   "cell_type": "code",
   "execution_count": 2,
   "metadata": {},
   "outputs": [
    {
     "name": "stdout",
     "output_type": "stream",
     "text": [
      "Observations: 64,999\n",
      "Variables: 26\n",
      "$ Age                                    <int> 18, 53, 61, 32, 49, 58, 18, ...\n",
      "$ Earnings.Past.12.Months                <int> 1200, 0, 0, 350, 0, 0, 0, 0,...\n",
      "$ Usual.Weekly.Hours                     <int> 16, NA, 70, 24, 30, NA, NA, ...\n",
      "$ Female                                 <int> 0, 1, 0, 1, 0, 0, 0, 1, 0, 0...\n",
      "$ Married                                <int> 0, 0, 1, 0, 0, 1, 0, 0, 1, 1...\n",
      "$ No.High.School.Degree                  <int> 1, 0, 0, 0, 0, 1, 1, 0, 0, 0...\n",
      "$ High.School.Degree.or.GED              <int> 0, 1, 0, 0, 0, 0, 0, 0, 1, 0...\n",
      "$ Some.College                           <int> 0, 0, 1, 1, 0, 0, 0, 0, 0, 0...\n",
      "$ Associates.Degree                      <int> 0, 0, 0, 0, 0, 0, 0, 0, 0, 1...\n",
      "$ Bachelors.Degree                       <int> 0, 0, 0, 0, 0, 0, 0, 0, 0, 0...\n",
      "$ Masters.Degree                         <int> 0, 0, 0, 0, 1, 0, 0, 1, 0, 0...\n",
      "$ Professional.Degree                    <int> 0, 0, 0, 0, 0, 0, 0, 0, 0, 0...\n",
      "$ Doctorate                              <int> 0, 0, 0, 0, 0, 0, 0, 0, 0, 0...\n",
      "$ Educational.Attainment                 <fct> No High School Degree, High ...\n",
      "$ Employed                               <int> 1, 0, 1, 1, 1, 0, 0, 0, 1, 1...\n",
      "$ White                                  <int> 1, 0, 1, 1, 1, 1, 1, 1, 1, 1...\n",
      "$ Black                                  <int> 0, 0, 0, 0, 0, 0, 0, 0, 0, 0...\n",
      "$ American.Indian.or.Native.American     <int> 0, 0, 0, 0, 0, 0, 0, 0, 0, 0...\n",
      "$ Asian                                  <int> 0, 0, 0, 0, 0, 0, 0, 0, 0, 0...\n",
      "$ Hawaiian.or.Pacific.Islander           <int> 0, 0, 0, 0, 0, 0, 0, 0, 0, 0...\n",
      "$ Other.Race                             <int> 0, 0, 0, 0, 0, 0, 0, 0, 0, 0...\n",
      "$ Biracial                               <int> 0, 0, 0, 0, 0, 0, 0, 0, 0, 0...\n",
      "$ Hispanic                               <int> 0, 1, 0, 0, 0, 0, 0, 0, 0, 0...\n",
      "$ Race.Ethnicity                         <fct> White, Hispanic, White, Whit...\n",
      "$ Worked.40..Weeks.During.Past.12.Months <int> 0, 0, 1, 0, 1, 0, 0, 0, 0, 1...\n",
      "$ Worked.35..Hours.in.a.Typical.Week     <int> 0, 0, 1, 0, 0, 0, 0, 0, 0, 1...\n"
     ]
    }
   ],
   "source": [
    "# load the sampled office sales data\n",
    "lma <- read.csv(\"C:/GitHub/Econometric Analysis of Labour Market/ACS_Data.csv\", header = TRUE)\n",
    "\n",
    "# Verify data loaded\n",
    "glimpse(lma)"
   ]
  },
  {
   "cell_type": "markdown",
   "metadata": {},
   "source": [
    "#### There are 64,999 observations of Labor Market Data having 26 variables \n",
    "#### Three variables \"Age\", \"Earnings.Past.12.Months\" and \"Usual.Weekly.Hours\" are numerical, \n",
    "+ All other variables are categorical but defined as integers so will need to convert them to factor variables \n",
    "+ Before that we will look at the summary of the data as we will need to look at the Min., Max. and Proportions"
   ]
  },
  {
   "cell_type": "markdown",
   "metadata": {},
   "source": [
    "### Univariate non-graphical analysis"
   ]
  },
  {
   "cell_type": "code",
   "execution_count": 3,
   "metadata": {},
   "outputs": [
    {
     "name": "stdout",
     "output_type": "stream",
     "text": [
      "\n",
      "==========================================================================================================\n",
      "Statistic                                N       Mean     St. Dev.   Min  Pctl(25) Median Pctl(75)   Max  \n",
      "----------------------------------------------------------------------------------------------------------\n",
      "Age                                    64,999   41.689     13.734    18      30      43      54      64   \n",
      "Earnings.Past.12.Months                64,999 29,776.370 45,915.830   0      0     16,000  42,000  577,000\n",
      "Usual.Weekly.Hours                     48,868   38.513     12.847   1.000  35.000  40.000  42.000  99.000 \n",
      "Female                                 64,999   0.508      0.500      0      0       1       1        1   \n",
      "Married                                64,999   0.531      0.499      0      0       1       1        1   \n",
      "No.High.School.Degree                  64,999   0.123      0.329      0      0       0       0        1   \n",
      "High.School.Degree.or.GED              64,999   0.276      0.447      0      0       0       1        1   \n",
      "Some.College                           64,999   0.248      0.432      0      0       0       0        1   \n",
      "Associates.Degree                      64,999   0.081      0.272      0      0       0       0        1   \n",
      "Bachelors.Degree                       64,999   0.174      0.379      0      0       0       0        1   \n",
      "Masters.Degree                         64,999   0.070      0.254      0      0       0       0        1   \n",
      "Professional.Degree                    64,999   0.018      0.133      0      0       0       0        1   \n",
      "Doctorate                              64,999   0.010      0.101      0      0       0       0        1   \n",
      "Employed                               64,999   0.847      0.360      0      1       1       1        1   \n",
      "White                                  64,999   0.675      0.468      0      0       1       1        1   \n",
      "Black                                  64,999   0.111      0.314      0      0       0       0        1   \n",
      "American.Indian.or.Native.American     64,999   0.010      0.098      0      0       0       0        1   \n",
      "Asian                                  64,999   0.051      0.219      0      0       0       0        1   \n",
      "Hawaiian.or.Pacific.Islander           64,999   0.001      0.033      0      0       0       0        1   \n",
      "Other.Race                             64,999   0.001      0.033      0      0       0       0        1   \n",
      "Biracial                               64,999   0.016      0.126      0      0       0       0        1   \n",
      "Hispanic                               64,999   0.136      0.342      0      0       0       0        1   \n",
      "Worked.40..Weeks.During.Past.12.Months 64,999   0.609      0.488      0      0       1       1        1   \n",
      "Worked.35..Hours.in.a.Typical.Week     64,999   0.572      0.495      0      0       1       1        1   \n",
      "----------------------------------------------------------------------------------------------------------\n"
     ]
    }
   ],
   "source": [
    "stargazer(lma, type=\"text\", header=FALSE, median=TRUE)"
   ]
  },
  {
   "cell_type": "markdown",
   "metadata": {},
   "source": [
    "#### Age \n",
    "+ Minimum Age is 18 Years and Maximum Age is 64 years \n",
    "+ Average Age is 41.7 Years\n",
    "+ 25% individuals are between 18 to 30 Years (both included)\n",
    "+ 75% individuals are between 18 to 54 Years (both included)\n",
    "        \n",
    "#### Earnings.Past.12.Months \n",
    "+ Earnings in the past 12 months, range from \"Nil\" to over half a million   \n",
    "+ The Median earnings in the past 12 months was $16000     \n",
    "+ Average earnings in the past 12 months was $29776 \n",
    "+ 25% individuals have had zero earnings \n",
    "+ Many individuals in this group could be in the 18-25 years age group\n",
    "+ Some others might be those who do not earn themselves but somebody else in their household does    \n",
    "          \n",
    "#### Usual.Weekly.Hours\n",
    "+ Usual Weekly Hours, range from  \"1 hour\" to \"99 hours\"   \n",
    "+ However there are large number of missing values 16131 which may pertain to individuals with zero Earnings  \n",
    "+ The Median weekly hours are  40 hours \n",
    "+ However, the average weekly hours is lesser by an hour than the median indicating   \n",
    "       \n",
    "#### Gender\n",
    "+ The sample has almost equal proportions of males and females, Females being 50.8% of the sample    \n",
    "    \n",
    "#### Marital Status\n",
    "+ 53.1% of individuals are married or \"now married\", to be more \n",
    "+ Others include never married, divorced, separated etc.\n",
    "\n",
    "#### Worked.40..Weeks.During.Past.12.Months \n",
    "+ 60.9% individuals worked 40 weeks or more, in the last 12 months  \n",
    "\n",
    "#### Worked.35..Hours.in.a.Typical.Week\n",
    "+ 57.2% of individuals worked 35 hours or more, in a typical week \n",
    "\n",
    "#### Educational.Attainment\n",
    "+ At 27.6%, \"High School Degree\" happens to be the most common educational attainment, in the sample   \n",
    "+ 17.8% of individuals completed their \"Bachelors\" degree\n",
    "+ 12.3% of individuals do not have a high school degree\n",
    "    \n",
    "#### Race. Ethnicity\n",
    "+ At 67.5%, \"Whites\" is the most common race/ethnicity, in the sample    \n",
    "+ Whites are followed by Hispanics at 13.6% of individuals \n",
    "+ 11.1% of individuals are \"Black\""
   ]
  },
  {
   "cell_type": "markdown",
   "metadata": {},
   "source": [
    "### Converting categorical variables to factor variables  "
   ]
  },
  {
   "cell_type": "code",
   "execution_count": 4,
   "metadata": {},
   "outputs": [],
   "source": [
    "# Convert Educational Attainment varriables as factor variables: 10 variables \n",
    "lma$Female <- as.factor(lma$Female)\n",
    "lma$Married <- as.factor(lma$Married)\n",
    "lma$No.High.School.Degree <- as.factor(lma$No.High.School.Degree)\n",
    "lma$High.School.Degree.or.GED <- as.factor(lma$High.School.Degree.or.GED)  \n",
    "lma$Some.College <- as.factor(lma$Some.College)\n",
    "lma$Associates.Degree <- as.factor(lma$Associates.Degree)\n",
    "lma$Bachelors.Degree <- as.factor(lma$Bachelors.Degree)\n",
    "lma$Masters.Degree <- as.factor(lma$Masters.Degree)\n",
    "lma$Professional.Degree <- as.factor(lma$Professional.Degree)\n",
    "lma$Doctorate <- as.factor(lma$Doctorate)\n",
    "\n",
    "# Convert Race Ethnicity varriables as factor variables: 8 variable\n",
    "lma$White <- as.factor(lma$White) \n",
    "lma$Black <-as.factor(lma$Black)\n",
    "lma$American.Indian.or.Native.American <-as.factor(lma$American.Indian.or.Native.American)\n",
    "lma$Asian <-as.factor(lma$Asian)\n",
    "lma$Hawaiian.or.Pacific.Islander <- as.factor(lma$Hawaiian.or.Pacific.Islander)\n",
    "lma$Other.Race <-as.factor(lma$Other.Race ) \n",
    "lma$Biracial <- as.factor(lma$Biracial)\n",
    "lma$Hispanic <- as.factor(lma$Hispanic)\n",
    "\n",
    "# Convert Emplyment varriables as factor variables: 3 variable\n",
    "lma$Employed <- as.factor(lma$Employed)\n",
    "lma$Worked.40..Weeks.During.Past.12.Months <- as.factor(lma$Worked.40..Weeks.During.Past.12.Months)\n",
    "lma$Worked.35..Hours.in.a.Typical.Week <- as.factor(lma$Worked.35..Hours.in.a.Typical.Week)\n"
   ]
  },
  {
   "cell_type": "markdown",
   "metadata": {},
   "source": [
    "### Univariate graphical analysis"
   ]
  },
  {
   "cell_type": "code",
   "execution_count": 5,
   "metadata": {},
   "outputs": [
    {
     "data": {
      "image/png": "[encoded data removed]",
      "text/plain": [
       "Plot with title \"Histogram of lma$Usual.Weekly.Hours\""
      ]
     },
     "metadata": {},
     "output_type": "display_data"
    }
   ],
   "source": [
    "# Verify observations from summary()\n",
    "par(mfrow=c(2,2))\n",
    "  hist(lma$Age, col = \"orange\")\n",
    "  hist(lma$Earnings.Past.12.Months, col = \"orange\")\n",
    "  hist(log(lma$Earnings.Past.12.Months), col = \"orange\")\n",
    "  hist(lma$Usual.Weekly.Hours, col = \"orange\")"
   ]
  },
  {
   "cell_type": "markdown",
   "metadata": {},
   "source": [
    "#### Age\n",
    "+ Generally, uniform distribution of ages\n",
    "+ Peak at 18 years and a slight bump around 50 years\n",
    "    \n",
    "#### Earnings.Past.12.Monts\n",
    "+ Most earnings, including the zero-level, are within USD 100,000\n",
    "\n",
    "#### Usual Weekly Hours\n",
    "+ Peak around 35-40 hours per week\n",
    "+ However, distribution has a positive tail stretching beyond 60 hours per week"
   ]
  },
  {
   "cell_type": "code",
   "execution_count": 6,
   "metadata": {},
   "outputs": [
    {
     "data": {
      "image/png": "[encoded data removed]",
      "text/plain": [
       "Plot with title \"Weekly Hours\""
      ]
     },
     "metadata": {},
     "output_type": "display_data"
    }
   ],
   "source": [
    "# Verify observations from summary()\n",
    "\n",
    "par(mfrow=c(2,2))\n",
    "  boxplot(lma$Age, main=\"Age\", col = \"orange\")\n",
    "  boxplot(lma$Earnings.Past.12.Months, main=\"Earnings\", col = \"orange\")\n",
    "  boxplot(log(lma$Earnings.Past.12.Months), main=\"Log(Earnings)\", col = \"orange\")\n",
    "  boxplot(lma$Usual.Weekly.Hours, main=\"Weekly Hours\", col = \"orange\")"
   ]
  },
  {
   "cell_type": "markdown",
   "metadata": {},
   "source": [
    "#### Boxplot confirms median and range of ages we observed earlier in the non-graphical summaries \n",
    "\n",
    "#### Earnings are skewed to the lower levels\n",
    "\n",
    "#### Weekly hours has long whiskers at both below the lower quartile and the higher quartile "
   ]
  },
  {
   "cell_type": "code",
   "execution_count": 7,
   "metadata": {},
   "outputs": [
    {
     "data": {
      "image/png": "[encoded data removed]",
      "text/plain": [
       "Plot with title \"Ethnicity\""
      ]
     },
     "metadata": {},
     "output_type": "display_data"
    }
   ],
   "source": [
    "# Visually confirm findings from summary()\n",
    "par(mfrow=c(2,2), mar = c(10, 2, 2, 2))\n",
    "  barplot(table(lma$Female), main = \"Gender\", col = \"orange\")\n",
    "  barplot(table(lma$Married), main = \"Married\", col = \"orange\")\n",
    "  barplot(table(lma$Educational.Attainment), main = \"Education\", las=2, col = \"orange\")\n",
    "  barplot(table(lma$Race.Ethnicity), main = \"Ethnicity\", las=2, col = \"orange\")"
   ]
  },
  {
   "cell_type": "markdown",
   "metadata": {},
   "source": [
    "#### Gender\n",
    "+ As seen before, almost equal distribution between male/female\n",
    "\n",
    "#### Married\n",
    "+ Slightly more married than non-married\n",
    "\n",
    "#### Education\n",
    "+ \"Some College\" and \"High School Degree\" has the highest proportion\n",
    "+ Next highest is \"Bachelors\" and then \"No High School\"\n",
    "+ Lowest proportions is that of \"Doctorate\"\"\n",
    "\n",
    "#### Ethnicity\n",
    "+ White is the largest ethnic group \n",
    "+ Individuals under \"Other Race\", \"Biracial\"\" and \"Hawaiian\" form smaller groups\n",
    "+ Are these percentages similar to whole population?\n",
    "\n",
    "### Multivariate non-graphical analysis "
   ]
  },
  {
   "cell_type": "code",
   "execution_count": 8,
   "metadata": {},
   "outputs": [
    {
     "data": {
      "image/png": "[encoded data removed]",
      "text/plain": [
       "Plot with title \"\""
      ]
     },
     "metadata": {},
     "output_type": "display_data"
    }
   ],
   "source": [
    "lma %>%\n",
    "  select(Age, Earnings.Past.12.Months, Usual.Weekly.Hours) %>%\n",
    "  cor(use=\"pairwise.complete.obs\", method=\"pearson\") %>%\n",
    "  corrplot(type=\"full\", method=\"number\", diag=FALSE)"
   ]
  },
  {
   "cell_type": "markdown",
   "metadata": {},
   "source": [
    "#### Some correlation between Usual.Weekly.Hours and Earnings.Past.12.Months\n",
    "\n",
    "#### Low correlation between Age and Earnings.Past.12.Months\n",
    "\n",
    "#### Collinearity should not be a concern if we use these variable in a model"
   ]
  },
  {
   "cell_type": "code",
   "execution_count": 9,
   "metadata": {},
   "outputs": [
    {
     "data": {
      "text/html": [
       "<table>\n",
       "<thead><tr><th></th><th scope=col>Asian</th><th scope=col>Biracial</th><th scope=col>Black</th><th scope=col>Hawaiian</th><th scope=col>Hispanic</th><th scope=col>Native American</th><th scope=col>Other Race</th><th scope=col>White</th><th scope=col>Sum</th></tr></thead>\n",
       "<tbody>\n",
       "\t<tr><th scope=row>Associates Degree</th><td>0.003  </td><td>0.00143</td><td>0.0078 </td><td>0.00008</td><td>0.0075 </td><td>0.00057</td><td>0.00009</td><td>0.060  </td><td>0.08   </td></tr>\n",
       "\t<tr><th scope=row>Bachelors Degree</th><td>0.014  </td><td>0.00229</td><td>0.0114 </td><td>0.00012</td><td>0.0119 </td><td>0.00052</td><td>0.00022</td><td>0.133  </td><td>0.17   </td></tr>\n",
       "\t<tr><th scope=row>Doctorate</th><td>0.002  </td><td>0.00009</td><td>0.0006 </td><td>0.00000</td><td>0.0003 </td><td>0.00002</td><td>0.00000</td><td>0.008  </td><td>0.01   </td></tr>\n",
       "\t<tr><th scope=row>High School Degree</th><td>0.008  </td><td>0.00418</td><td>0.0346 </td><td>0.00046</td><td>0.0377 </td><td>0.00386</td><td>0.00031</td><td>0.187  </td><td>0.28   </td></tr>\n",
       "\t<tr><th scope=row>Masters Degree</th><td>0.006  </td><td>0.00095</td><td>0.0052 </td><td>0.00002</td><td>0.0039 </td><td>0.00020</td><td>0.00008</td><td>0.053  </td><td>0.07   </td></tr>\n",
       "\t<tr><th scope=row>No High School Degree</th><td>0.006  </td><td>0.00166</td><td>0.0194 </td><td>0.00012</td><td>0.0432 </td><td>0.00208</td><td>0.00017</td><td>0.051  </td><td>0.12   </td></tr>\n",
       "\t<tr><th scope=row>Professional Degree</th><td>0.002  </td><td>0.00034</td><td>0.0006 </td><td>0.00000</td><td>0.0014 </td><td>0.00002</td><td>0.00002</td><td>0.014  </td><td>0.02   </td></tr>\n",
       "\t<tr><th scope=row>Some College</th><td>0.009  </td><td>0.00528</td><td>0.0313 </td><td>0.00032</td><td>0.0297 </td><td>0.00249</td><td>0.00020</td><td>0.170  </td><td>0.25   </td></tr>\n",
       "\t<tr><th scope=row>Sum</th><td>0.051  </td><td>0.01623</td><td>0.1107 </td><td>0.00112</td><td>0.1357 </td><td>0.00975</td><td>0.00108</td><td>0.675  </td><td>1.00   </td></tr>\n",
       "</tbody>\n",
       "</table>\n"
      ],
      "text/latex": [
       "\\begin{tabular}{r|lllllllll}\n",
       "  & Asian & Biracial & Black & Hawaiian & Hispanic & Native American & Other Race & White & Sum\\\\\n",
       "\\hline\n",
       "\tAssociates Degree & 0.003   & 0.00143 & 0.0078  & 0.00008 & 0.0075  & 0.00057 & 0.00009 & 0.060   & 0.08   \\\\\n",
       "\tBachelors Degree & 0.014   & 0.00229 & 0.0114  & 0.00012 & 0.0119  & 0.00052 & 0.00022 & 0.133   & 0.17   \\\\\n",
       "\tDoctorate & 0.002   & 0.00009 & 0.0006  & 0.00000 & 0.0003  & 0.00002 & 0.00000 & 0.008   & 0.01   \\\\\n",
       "\tHigh School Degree & 0.008   & 0.00418 & 0.0346  & 0.00046 & 0.0377  & 0.00386 & 0.00031 & 0.187   & 0.28   \\\\\n",
       "\tMasters Degree & 0.006   & 0.00095 & 0.0052  & 0.00002 & 0.0039  & 0.00020 & 0.00008 & 0.053   & 0.07   \\\\\n",
       "\tNo High School Degree & 0.006   & 0.00166 & 0.0194  & 0.00012 & 0.0432  & 0.00208 & 0.00017 & 0.051   & 0.12   \\\\\n",
       "\tProfessional Degree & 0.002   & 0.00034 & 0.0006  & 0.00000 & 0.0014  & 0.00002 & 0.00002 & 0.014   & 0.02   \\\\\n",
       "\tSome College & 0.009   & 0.00528 & 0.0313  & 0.00032 & 0.0297  & 0.00249 & 0.00020 & 0.170   & 0.25   \\\\\n",
       "\tSum & 0.051   & 0.01623 & 0.1107  & 0.00112 & 0.1357  & 0.00975 & 0.00108 & 0.675   & 1.00   \\\\\n",
       "\\end{tabular}\n"
      ],
      "text/markdown": [
       "\n",
       "| <!--/--> | Asian | Biracial | Black | Hawaiian | Hispanic | Native American | Other Race | White | Sum | \n",
       "|---|---|---|---|---|---|---|---|---|\n",
       "| Associates Degree | 0.003   | 0.00143 | 0.0078  | 0.00008 | 0.0075  | 0.00057 | 0.00009 | 0.060   | 0.08    | \n",
       "| Bachelors Degree | 0.014   | 0.00229 | 0.0114  | 0.00012 | 0.0119  | 0.00052 | 0.00022 | 0.133   | 0.17    | \n",
       "| Doctorate | 0.002   | 0.00009 | 0.0006  | 0.00000 | 0.0003  | 0.00002 | 0.00000 | 0.008   | 0.01    | \n",
       "| High School Degree | 0.008   | 0.00418 | 0.0346  | 0.00046 | 0.0377  | 0.00386 | 0.00031 | 0.187   | 0.28    | \n",
       "| Masters Degree | 0.006   | 0.00095 | 0.0052  | 0.00002 | 0.0039  | 0.00020 | 0.00008 | 0.053   | 0.07    | \n",
       "| No High School Degree | 0.006   | 0.00166 | 0.0194  | 0.00012 | 0.0432  | 0.00208 | 0.00017 | 0.051   | 0.12    | \n",
       "| Professional Degree | 0.002   | 0.00034 | 0.0006  | 0.00000 | 0.0014  | 0.00002 | 0.00002 | 0.014   | 0.02    | \n",
       "| Some College | 0.009   | 0.00528 | 0.0313  | 0.00032 | 0.0297  | 0.00249 | 0.00020 | 0.170   | 0.25    | \n",
       "| Sum | 0.051   | 0.01623 | 0.1107  | 0.00112 | 0.1357  | 0.00975 | 0.00108 | 0.675   | 1.00    | \n",
       "\n",
       "\n"
      ],
      "text/plain": [
       "                       \n",
       "                        Asian Biracial Black  Hawaiian Hispanic Native American\n",
       "  Associates Degree     0.003 0.00143  0.0078 0.00008  0.0075   0.00057        \n",
       "  Bachelors Degree      0.014 0.00229  0.0114 0.00012  0.0119   0.00052        \n",
       "  Doctorate             0.002 0.00009  0.0006 0.00000  0.0003   0.00002        \n",
       "  High School Degree    0.008 0.00418  0.0346 0.00046  0.0377   0.00386        \n",
       "  Masters Degree        0.006 0.00095  0.0052 0.00002  0.0039   0.00020        \n",
       "  No High School Degree 0.006 0.00166  0.0194 0.00012  0.0432   0.00208        \n",
       "  Professional Degree   0.002 0.00034  0.0006 0.00000  0.0014   0.00002        \n",
       "  Some College          0.009 0.00528  0.0313 0.00032  0.0297   0.00249        \n",
       "  Sum                   0.051 0.01623  0.1107 0.00112  0.1357   0.00975        \n",
       "                       \n",
       "                        Other Race White Sum \n",
       "  Associates Degree     0.00009    0.060 0.08\n",
       "  Bachelors Degree      0.00022    0.133 0.17\n",
       "  Doctorate             0.00000    0.008 0.01\n",
       "  High School Degree    0.00031    0.187 0.28\n",
       "  Masters Degree        0.00008    0.053 0.07\n",
       "  No High School Degree 0.00017    0.051 0.12\n",
       "  Professional Degree   0.00002    0.014 0.02\n",
       "  Some College          0.00020    0.170 0.25\n",
       "  Sum                   0.00108    0.675 1.00"
      ]
     },
     "metadata": {},
     "output_type": "display_data"
    }
   ],
   "source": [
    "# Inspect intersection of Education and Ethnicity\n",
    "# set options for better display\n",
    "options(scipen=999)\n",
    "options(digits=1)\n",
    "addmargins(prop.table(table(lma$Educational.Attainment, lma$Race.Ethnicity)))\n",
    "\n",
    "# reset options\n",
    "options(scipen=0)\n",
    "options(digits=7)"
   ]
  },
  {
   "cell_type": "markdown",
   "metadata": {},
   "source": [
    "#### As we had observed earlier, \"White\" is the largest ethnic group  with \"OtherRace\" the lowest\n",
    "+ \"Hawaiin\", \"Native American\" and \"Other Race\", each make less than 1% of the sample   \n",
    "\n",
    "#### \"White-High School Degree\" is the highest proportion of Race-Education group "
   ]
  },
  {
   "cell_type": "code",
   "execution_count": 10,
   "metadata": {},
   "outputs": [
    {
     "data": {
      "text/html": [
       "<table>\n",
       "<thead><tr><th></th><th scope=col>Male</th><th scope=col>Female</th><th scope=col>Sum</th></tr></thead>\n",
       "<tbody>\n",
       "\t<tr><th scope=row>Unmarried</th><td>0.2330497</td><td>0.2356344</td><td>0.4686841</td></tr>\n",
       "\t<tr><th scope=row>Married</th><td>0.2587578</td><td>0.2725580</td><td>0.5313159</td></tr>\n",
       "\t<tr><th scope=row>Sum</th><td>0.4918076</td><td>0.5081924</td><td>1.0000000</td></tr>\n",
       "</tbody>\n",
       "</table>\n"
      ],
      "text/latex": [
       "\\begin{tabular}{r|lll}\n",
       "  & Male & Female & Sum\\\\\n",
       "\\hline\n",
       "\tUnmarried & 0.2330497 & 0.2356344 & 0.4686841\\\\\n",
       "\tMarried & 0.2587578 & 0.2725580 & 0.5313159\\\\\n",
       "\tSum & 0.4918076 & 0.5081924 & 1.0000000\\\\\n",
       "\\end{tabular}\n"
      ],
      "text/markdown": [
       "\n",
       "| <!--/--> | Male | Female | Sum | \n",
       "|---|---|---|\n",
       "| Unmarried | 0.2330497 | 0.2356344 | 0.4686841 | \n",
       "| Married | 0.2587578 | 0.2725580 | 0.5313159 | \n",
       "| Sum | 0.4918076 | 0.5081924 | 1.0000000 | \n",
       "\n",
       "\n"
      ],
      "text/plain": [
       "           \n",
       "            Male      Female    Sum      \n",
       "  Unmarried 0.2330497 0.2356344 0.4686841\n",
       "  Married   0.2587578 0.2725580 0.5313159\n",
       "  Sum       0.4918076 0.5081924 1.0000000"
      ]
     },
     "metadata": {},
     "output_type": "display_data"
    }
   ],
   "source": [
    "# Inspect intersection of Married and Gender\n",
    "levels(lma$Female) = c('Male','Female')\n",
    "levels(lma$Married) = c('Unmarried', 'Married')\n",
    "lma$Married <- as.factor(lma$Married)\n",
    "addmargins(prop.table(table(lma$Married, lma$Female)))"
   ]
  },
  {
   "cell_type": "markdown",
   "metadata": {},
   "source": [
    "#### Very similar distribution across all four quadrants\n",
    "+ However, females have higher percentage within the married group "
   ]
  },
  {
   "cell_type": "code",
   "execution_count": 11,
   "metadata": {},
   "outputs": [
    {
     "data": {
      "text/html": [
       "<table>\n",
       "<thead><tr><th></th><th scope=col>Male</th><th scope=col>Female</th><th scope=col>Sum</th></tr></thead>\n",
       "<tbody>\n",
       "\t<tr><th scope=row>Associates Degree</th><td>0.033969753</td><td>0.046662256</td><td>0.08063201 </td></tr>\n",
       "\t<tr><th scope=row>Bachelors Degree</th><td>0.080401237</td><td>0.093432207</td><td>0.17383344 </td></tr>\n",
       "\t<tr><th scope=row>Doctorate</th><td>0.005984707</td><td>0.004261604</td><td>0.01024631 </td></tr>\n",
       "\t<tr><th scope=row>High School Degree</th><td>0.144294528</td><td>0.131694334</td><td>0.27598886 </td></tr>\n",
       "\t<tr><th scope=row>Masters Degree</th><td>0.029738919</td><td>0.039769843</td><td>0.06950876 </td></tr>\n",
       "\t<tr><th scope=row>No High School Degree</th><td>0.069370298</td><td>0.054046985</td><td>0.12341728 </td></tr>\n",
       "\t<tr><th scope=row>Professional Degree</th><td>0.009861690</td><td>0.008015508</td><td>0.01787720 </td></tr>\n",
       "\t<tr><th scope=row>Some College</th><td>0.118186434</td><td>0.130309697</td><td>0.24849613 </td></tr>\n",
       "\t<tr><th scope=row>Sum</th><td>0.491807566</td><td>0.508192434</td><td>1.00000000 </td></tr>\n",
       "</tbody>\n",
       "</table>\n"
      ],
      "text/latex": [
       "\\begin{tabular}{r|lll}\n",
       "  & Male & Female & Sum\\\\\n",
       "\\hline\n",
       "\tAssociates Degree & 0.033969753 & 0.046662256 & 0.08063201 \\\\\n",
       "\tBachelors Degree & 0.080401237 & 0.093432207 & 0.17383344 \\\\\n",
       "\tDoctorate & 0.005984707 & 0.004261604 & 0.01024631 \\\\\n",
       "\tHigh School Degree & 0.144294528 & 0.131694334 & 0.27598886 \\\\\n",
       "\tMasters Degree & 0.029738919 & 0.039769843 & 0.06950876 \\\\\n",
       "\tNo High School Degree & 0.069370298 & 0.054046985 & 0.12341728 \\\\\n",
       "\tProfessional Degree & 0.009861690 & 0.008015508 & 0.01787720 \\\\\n",
       "\tSome College & 0.118186434 & 0.130309697 & 0.24849613 \\\\\n",
       "\tSum & 0.491807566 & 0.508192434 & 1.00000000 \\\\\n",
       "\\end{tabular}\n"
      ],
      "text/markdown": [
       "\n",
       "| <!--/--> | Male | Female | Sum | \n",
       "|---|---|---|---|---|---|---|---|---|\n",
       "| Associates Degree | 0.033969753 | 0.046662256 | 0.08063201  | \n",
       "| Bachelors Degree | 0.080401237 | 0.093432207 | 0.17383344  | \n",
       "| Doctorate | 0.005984707 | 0.004261604 | 0.01024631  | \n",
       "| High School Degree | 0.144294528 | 0.131694334 | 0.27598886  | \n",
       "| Masters Degree | 0.029738919 | 0.039769843 | 0.06950876  | \n",
       "| No High School Degree | 0.069370298 | 0.054046985 | 0.12341728  | \n",
       "| Professional Degree | 0.009861690 | 0.008015508 | 0.01787720  | \n",
       "| Some College | 0.118186434 | 0.130309697 | 0.24849613  | \n",
       "| Sum | 0.491807566 | 0.508192434 | 1.00000000  | \n",
       "\n",
       "\n"
      ],
      "text/plain": [
       "                       \n",
       "                        Male        Female      Sum       \n",
       "  Associates Degree     0.033969753 0.046662256 0.08063201\n",
       "  Bachelors Degree      0.080401237 0.093432207 0.17383344\n",
       "  Doctorate             0.005984707 0.004261604 0.01024631\n",
       "  High School Degree    0.144294528 0.131694334 0.27598886\n",
       "  Masters Degree        0.029738919 0.039769843 0.06950876\n",
       "  No High School Degree 0.069370298 0.054046985 0.12341728\n",
       "  Professional Degree   0.009861690 0.008015508 0.01787720\n",
       "  Some College          0.118186434 0.130309697 0.24849613\n",
       "  Sum                   0.491807566 0.508192434 1.00000000"
      ]
     },
     "metadata": {},
     "output_type": "display_data"
    }
   ],
   "source": [
    "# Inspect intersection of Education and Gender\n",
    "addmargins(prop.table(table(lma$Educational.Attainment , lma$Female)))"
   ]
  },
  {
   "cell_type": "markdown",
   "metadata": {},
   "source": [
    "#### Similar distribution of gender across all Educational Attainments"
   ]
  },
  {
   "cell_type": "code",
   "execution_count": 12,
   "metadata": {},
   "outputs": [
    {
     "data": {
      "text/html": [
       "<table>\n",
       "<thead><tr><th></th><th scope=col>Unmarried</th><th scope=col>Married</th><th scope=col>Sum</th></tr></thead>\n",
       "<tbody>\n",
       "\t<tr><th scope=row>Associates Degree</th><td>0.032538962</td><td>0.048093048</td><td>0.08063201 </td></tr>\n",
       "\t<tr><th scope=row>Bachelors Degree</th><td>0.064062524</td><td>0.109770920</td><td>0.17383344 </td></tr>\n",
       "\t<tr><th scope=row>Doctorate</th><td>0.002938507</td><td>0.007307805</td><td>0.01024631 </td></tr>\n",
       "\t<tr><th scope=row>High School Degree</th><td>0.137417499</td><td>0.138571363</td><td>0.27598886 </td></tr>\n",
       "\t<tr><th scope=row>Masters Degree</th><td>0.020892629</td><td>0.048616133</td><td>0.06950876 </td></tr>\n",
       "\t<tr><th scope=row>No High School Degree</th><td>0.069877998</td><td>0.053539285</td><td>0.12341728 </td></tr>\n",
       "\t<tr><th scope=row>Professional Degree</th><td>0.005092386</td><td>0.012784812</td><td>0.01787720 </td></tr>\n",
       "\t<tr><th scope=row>Some College</th><td>0.135863629</td><td>0.112632502</td><td>0.24849613 </td></tr>\n",
       "\t<tr><th scope=row>Sum</th><td>0.468684134</td><td>0.531315866</td><td>1.00000000 </td></tr>\n",
       "</tbody>\n",
       "</table>\n"
      ],
      "text/latex": [
       "\\begin{tabular}{r|lll}\n",
       "  & Unmarried & Married & Sum\\\\\n",
       "\\hline\n",
       "\tAssociates Degree & 0.032538962 & 0.048093048 & 0.08063201 \\\\\n",
       "\tBachelors Degree & 0.064062524 & 0.109770920 & 0.17383344 \\\\\n",
       "\tDoctorate & 0.002938507 & 0.007307805 & 0.01024631 \\\\\n",
       "\tHigh School Degree & 0.137417499 & 0.138571363 & 0.27598886 \\\\\n",
       "\tMasters Degree & 0.020892629 & 0.048616133 & 0.06950876 \\\\\n",
       "\tNo High School Degree & 0.069877998 & 0.053539285 & 0.12341728 \\\\\n",
       "\tProfessional Degree & 0.005092386 & 0.012784812 & 0.01787720 \\\\\n",
       "\tSome College & 0.135863629 & 0.112632502 & 0.24849613 \\\\\n",
       "\tSum & 0.468684134 & 0.531315866 & 1.00000000 \\\\\n",
       "\\end{tabular}\n"
      ],
      "text/markdown": [
       "\n",
       "| <!--/--> | Unmarried | Married | Sum | \n",
       "|---|---|---|---|---|---|---|---|---|\n",
       "| Associates Degree | 0.032538962 | 0.048093048 | 0.08063201  | \n",
       "| Bachelors Degree | 0.064062524 | 0.109770920 | 0.17383344  | \n",
       "| Doctorate | 0.002938507 | 0.007307805 | 0.01024631  | \n",
       "| High School Degree | 0.137417499 | 0.138571363 | 0.27598886  | \n",
       "| Masters Degree | 0.020892629 | 0.048616133 | 0.06950876  | \n",
       "| No High School Degree | 0.069877998 | 0.053539285 | 0.12341728  | \n",
       "| Professional Degree | 0.005092386 | 0.012784812 | 0.01787720  | \n",
       "| Some College | 0.135863629 | 0.112632502 | 0.24849613  | \n",
       "| Sum | 0.468684134 | 0.531315866 | 1.00000000  | \n",
       "\n",
       "\n"
      ],
      "text/plain": [
       "                       \n",
       "                        Unmarried   Married     Sum       \n",
       "  Associates Degree     0.032538962 0.048093048 0.08063201\n",
       "  Bachelors Degree      0.064062524 0.109770920 0.17383344\n",
       "  Doctorate             0.002938507 0.007307805 0.01024631\n",
       "  High School Degree    0.137417499 0.138571363 0.27598886\n",
       "  Masters Degree        0.020892629 0.048616133 0.06950876\n",
       "  No High School Degree 0.069877998 0.053539285 0.12341728\n",
       "  Professional Degree   0.005092386 0.012784812 0.01787720\n",
       "  Some College          0.135863629 0.112632502 0.24849613\n",
       "  Sum                   0.468684134 0.531315866 1.00000000"
      ]
     },
     "metadata": {},
     "output_type": "display_data"
    }
   ],
   "source": [
    "# Inspect intersection of Education and Married\n",
    "addmargins(prop.table(table(lma$Educational.Attainment , lma$Married)))"
   ]
  },
  {
   "cell_type": "markdown",
   "metadata": {},
   "source": [
    "#### Similar distribution of of married/unmarried across all Educational Attainments\n",
    "+ Largest difference in Married Bachelors and Married Professional Degrees compared to Unmarried.\n",
    "\n",
    "### Multivariate graphical analysis "
   ]
  },
  {
   "cell_type": "code",
   "execution_count": 13,
   "metadata": {},
   "outputs": [
    {
     "data": {},
     "metadata": {},
     "output_type": "display_data"
    },
    {
     "data": {
      "image/png": "[encoded data removed]",
      "text/plain": [
       "plot without title"
      ]
     },
     "metadata": {},
     "output_type": "display_data"
    }
   ],
   "source": [
    "lma %>%\n",
    "  select(Age, Earnings.Past.12.Months) %>%\n",
    "  ggplot(aes(x = Age, y = Earnings.Past.12.Months)) +\n",
    "  geom_point(color = \"steelblue\")+\n",
    "  theme_minimal()"
   ]
  },
  {
   "cell_type": "markdown",
   "metadata": {},
   "source": [
    "#### Earnings increase with age,\n",
    "\n",
    "#### Although the earnings seems to peak at around 35 years, the distribution becomes similar beyond this age and up to age 64"
   ]
  },
  {
   "cell_type": "code",
   "execution_count": 14,
   "metadata": {},
   "outputs": [
    {
     "data": {},
     "metadata": {},
     "output_type": "display_data"
    },
    {
     "data": {
      "image/png": "[encoded data removed]",
      "text/plain": [
       "plot without title"
      ]
     },
     "metadata": {},
     "output_type": "display_data"
    }
   ],
   "source": [
    "# How do age and earnings look with gender\n",
    "lma %>%\n",
    "  select(Age, Earnings.Past.12.Months, Female) %>%\n",
    "  ggplot(aes(x = Age, y = Earnings.Past.12.Months, color = Female)) +\n",
    "  geom_point()+\n",
    "  theme_minimal()"
   ]
  },
  {
   "cell_type": "markdown",
   "metadata": {},
   "source": [
    "#### Females lag behind males in earnings, across all ages,  "
   ]
  },
  {
   "cell_type": "code",
   "execution_count": 15,
   "metadata": {},
   "outputs": [
    {
     "data": {},
     "metadata": {},
     "output_type": "display_data"
    },
    {
     "data": {
      "image/png": "[encoded data removed]",
      "text/plain": [
       "plot without title"
      ]
     },
     "metadata": {},
     "output_type": "display_data"
    }
   ],
   "source": [
    "lma %>%\n",
    "  select(Age, Usual.Weekly.Hours) %>%\n",
    "  ggplot(aes(x = Age, y = Usual.Weekly.Hours)) +\n",
    "  geom_point(color = \"steelblue\")+\n",
    "  theme_minimal()"
   ]
  },
  {
   "cell_type": "markdown",
   "metadata": {},
   "source": [
    "#### For 16131 rows in the sample, usual weekly hours data has missing values\n",
    "\n",
    "#### Usual weekly hours has a similar distribution across ages"
   ]
  },
  {
   "cell_type": "code",
   "execution_count": 16,
   "metadata": {},
   "outputs": [
    {
     "data": {},
     "metadata": {},
     "output_type": "display_data"
    },
    {
     "data": {
      "image/png": "[encoded data removed]",
      "text/plain": [
       "plot without title"
      ]
     },
     "metadata": {},
     "output_type": "display_data"
    }
   ],
   "source": [
    "lma %>%\n",
    "  select(Earnings.Past.12.Months, Usual.Weekly.Hours) %>%\n",
    "  ggplot(aes(x = Usual.Weekly.Hours, y = Earnings.Past.12.Months)) +\n",
    "  geom_point(color = \"steelblue\") + \n",
    "  theme_minimal()"
   ]
  },
  {
   "cell_type": "markdown",
   "metadata": {},
   "source": [
    "#### Earnings increase with weekly hours, with largest earnings between 40 and 60 (approx.)\n",
    "\n",
    "#### Earnings decline as the weekly hours go beyond 60 hours "
   ]
  },
  {
   "cell_type": "code",
   "execution_count": 17,
   "metadata": {},
   "outputs": [
    {
     "data": {},
     "metadata": {},
     "output_type": "display_data"
    },
    {
     "data": {
      "image/png": "[encoded data removed]",
      "text/plain": [
       "plot without title"
      ]
     },
     "metadata": {},
     "output_type": "display_data"
    }
   ],
   "source": [
    "# How does the distrbution of weekly hours and earnings look with gender\n",
    "lma %>%\n",
    "  select(Earnings.Past.12.Months, Usual.Weekly.Hours, Female) %>%\n",
    "  ggplot(aes(x = Usual.Weekly.Hours, y = Earnings.Past.12.Months, color=Female)) +\n",
    "  geom_point()+\n",
    "  theme_minimal()"
   ]
  },
  {
   "cell_type": "markdown",
   "metadata": {},
   "source": [
    "#### Longer weekly hours and higher earnings are dominated by males \n",
    "\n",
    "#### Conversely, the lower ends are represented more by females "
   ]
  },
  {
   "cell_type": "code",
   "execution_count": 18,
   "metadata": {},
   "outputs": [
    {
     "data": {},
     "metadata": {},
     "output_type": "display_data"
    },
    {
     "data": {
      "image/png": "[encoded data removed]",
      "text/plain": [
       "plot without title"
      ]
     },
     "metadata": {},
     "output_type": "display_data"
    }
   ],
   "source": [
    "# How does the distrbution of weekly hours and earnings look with education\n",
    "lma %>%\n",
    "  select(Earnings.Past.12.Months, Usual.Weekly.Hours, Educational.Attainment) %>%\n",
    "  ggplot(aes(x = Usual.Weekly.Hours, y = Earnings.Past.12.Months, color=Educational.Attainment)) +\n",
    "  geom_point()+\n",
    "  theme_minimal()"
   ]
  },
  {
   "cell_type": "markdown",
   "metadata": {},
   "source": [
    "## Sample Selection Criteria\n",
    "\n",
    "Observing the large range of Earnings and Usual Weekly Hours, including some individuals reporting 0 earnings, we decided we wanted to focus on the full time employed. Since we do not have detail on hours worked weekly for the entire year, we decided to limit our record set to those individuals with earnings about the federal minimum wage in 2011.  The federal minimum wage in 2011 was *USD 7.25* per hour and if we assume 2080 hours in a typical work year that years a minimum earnings of *USD 15,080*.  We also look to work only with individuals that are employed.\n",
    "\n",
    "Based upon feedback, we will also filter those individuals to ones that have worked 40 or more weeks in the past 12 months and worked 35 or more hours in a typical week."
   ]
  },
  {
   "cell_type": "code",
   "execution_count": 19,
   "metadata": {},
   "outputs": [
    {
     "data": {
      "text/html": [
       "29067"
      ],
      "text/latex": [
       "29067"
      ],
      "text/markdown": [
       "29067"
      ],
      "text/plain": [
       "[1] 29067"
      ]
     },
     "metadata": {},
     "output_type": "display_data"
    }
   ],
   "source": [
    "lma_filtered <- filter(lma, Earnings.Past.12.Months >= 15080 & Worked.40..Weeks.During.Past.12.Months == 1 & Worked.35..Hours.in.a.Typical.Week == 1)\n",
    "nrow(lma_filtered)"
   ]
  },
  {
   "cell_type": "markdown",
   "metadata": {},
   "source": [
    "#### Thus, we have selected a subset of 29067 for our econometric model,from the original sample of 64999"
   ]
  },
  {
   "cell_type": "code",
   "execution_count": 20,
   "metadata": {},
   "outputs": [
    {
     "data": {
      "text/plain": [
       "      Age        Earnings.Past.12.Months Usual.Weekly.Hours    Female     \n",
       " Min.   :18.00   Min.   : 15100          Min.   :35.00      Male  :16291  \n",
       " 1st Qu.:34.00   1st Qu.: 30000          1st Qu.:40.00      Female:12776  \n",
       " Median :45.00   Median : 45000          Median :40.00                    \n",
       " Mean   :43.58   Mean   : 58681          Mean   :44.03                    \n",
       " 3rd Qu.:53.00   3rd Qu.: 68000          3rd Qu.:46.00                    \n",
       " Max.   :64.00   Max.   :577000          Max.   :99.00                    \n",
       "                                                                          \n",
       "      Married      No.High.School.Degree High.School.Degree.or.GED Some.College\n",
       " Unmarried:10535   0:27264               0:22028                   0:22683     \n",
       " Married  :18532   1: 1803               1: 7039                   1: 6384     \n",
       "                                                                               \n",
       "                                                                               \n",
       "                                                                               \n",
       "                                                                               \n",
       "                                                                               \n",
       " Associates.Degree Bachelors.Degree Masters.Degree Professional.Degree\n",
       " 0:26288           0:22259          0:26070        0:28286            \n",
       " 1: 2779           1: 6808          1: 2997        1:  781            \n",
       "                                                                      \n",
       "                                                                      \n",
       "                                                                      \n",
       "                                                                      \n",
       "                                                                      \n",
       " Doctorate           Educational.Attainment Employed  White     Black    \n",
       " 0:28591   High School Degree   :7039       0:    0   0: 8113   0:26506  \n",
       " 1:  476   Bachelors Degree     :6808       1:29067   1:20954   1: 2561  \n",
       "           Some College         :6384                                    \n",
       "           Masters Degree       :2997                                    \n",
       "           Associates Degree    :2779                                    \n",
       "           No High School Degree:1803                                    \n",
       "           (Other)              :1257                                    \n",
       " American.Indian.or.Native.American Asian     Hawaiian.or.Pacific.Islander\n",
       " 0:28885                            0:27512   0:29037                     \n",
       " 1:  182                            1: 1555   1:   30                     \n",
       "                                                                          \n",
       "                                                                          \n",
       "                                                                          \n",
       "                                                                          \n",
       "                                                                          \n",
       " Other.Race Biracial  Hispanic          Race.Ethnicity \n",
       " 0:29035    0:28676   0:25705   White          :20954  \n",
       " 1:   32    1:  391   1: 3362   Hispanic       : 3362  \n",
       "                                Black          : 2561  \n",
       "                                Asian          : 1555  \n",
       "                                Biracial       :  391  \n",
       "                                Native American:  182  \n",
       "                                (Other)        :   62  \n",
       " Worked.40..Weeks.During.Past.12.Months Worked.35..Hours.in.a.Typical.Week\n",
       " 0:    0                                0:    0                           \n",
       " 1:29067                                1:29067                           \n",
       "                                                                          \n",
       "                                                                          \n",
       "                                                                          \n",
       "                                                                          \n",
       "                                                                          "
      ]
     },
     "metadata": {},
     "output_type": "display_data"
    }
   ],
   "source": [
    "summary(lma_filtered)"
   ]
  },
  {
   "cell_type": "markdown",
   "metadata": {},
   "source": [
    "#### Age appears symmetrical with Median and Mean approximately equalling \n",
    "+ Age rage is maintained - 18 - 64 years of age\n",
    "    \n",
    "#### Earnings are now between USD 15,100 and  USD 577,000\n",
    "+ Earnings are slightly skewed to the negative tail, with Median less than Mean\n",
    "    \n",
    "* Usual Weekly Hours are now between 35 and 99\n",
    "+ Mean and median are approximately equal at around 40 hours, which is considered as a full-time employment\n",
    "    \n",
    "#### All individuals in the subset are employed"
   ]
  },
  {
   "cell_type": "code",
   "execution_count": 21,
   "metadata": {},
   "outputs": [
    {
     "name": "stdout",
     "output_type": "stream",
     "text": [
      "\n",
      "============================================================================================\n",
      "Statistic                 N       Mean     St. Dev.   Min   Pctl(25) Median Pctl(75)   Max  \n",
      "--------------------------------------------------------------------------------------------\n",
      "Age                     29,067   43.578     11.507     18      34      45      53      64   \n",
      "Earnings.Past.12.Months 29,067 58,681.440 53,998.470 15,100  30,000  45,000  68,000  577,000\n",
      "Usual.Weekly.Hours      29,067   44.031     8.116      35      40      40      46      99   \n",
      "--------------------------------------------------------------------------------------------\n"
     ]
    }
   ],
   "source": [
    "stargazer(lma_filtered, type=\"text\", header=FALSE, median=TRUE)"
   ]
  },
  {
   "cell_type": "code",
   "execution_count": 22,
   "metadata": {},
   "outputs": [
    {
     "data": {
      "image/png": "[encoded data removed]",
      "text/plain": [
       "Plot with title \"Ethnicity  (subset)\""
      ]
     },
     "metadata": {},
     "output_type": "display_data"
    }
   ],
   "source": [
    "# Visually confirm findings from summary()\n",
    "par(mfrow=c(2,2), mar = c(10, 2, 2, 2))\n",
    "  barplot(table(lma_filtered$Female), main = \"Gender (subset)\",col = \"orange\")\n",
    "  barplot(table(lma_filtered$Married), main = \"Married  (subset)\",col = \"orange\")\n",
    "  barplot(table(lma_filtered$Educational.Attainment), main = \"Education  (subset)\", las=2,col = \"orange\")\n",
    "  barplot(table(lma_filtered$Race.Ethnicity), main = \"Ethnicity  (subset)\", las=2,col = \"orange\")"
   ]
  },
  {
   "cell_type": "markdown",
   "metadata": {},
   "source": [
    "#### Gender distribution slightly skewed to Males now \n",
    "\n",
    "#### Skew also observed towards Married individuals \n",
    "\n",
    "#### Education\n",
    "+ Proportion of Bachelors degrees has now increased  \n",
    "+ Proportion of Masters degrees has also increased\n",
    "+ Proportion of No High School degree has decreased\n",
    "\n",
    "#### Distribution of ethnicities is approximately the same as it was in the original sample   "
   ]
  },
  {
   "cell_type": "code",
   "execution_count": 23,
   "metadata": {},
   "outputs": [
    {
     "data": {
      "text/html": [
       "<table>\n",
       "<tbody>\n",
       "\t<tr><th scope=row>Male</th><td>56.04638</td></tr>\n",
       "\t<tr><th scope=row>Female</th><td>43.95362</td></tr>\n",
       "</tbody>\n",
       "</table>\n"
      ],
      "text/latex": [
       "\\begin{tabular}{r|l}\n",
       "\tMale & 56.04638\\\\\n",
       "\tFemale & 43.95362\\\\\n",
       "\\end{tabular}\n"
      ],
      "text/markdown": [
       "\n",
       "| Male | 56.04638 | \n",
       "| Female | 43.95362 | \n",
       "\n",
       "\n"
      ],
      "text/plain": [
       "       [,1]    \n",
       "Male   56.04638\n",
       "Female 43.95362"
      ]
     },
     "metadata": {},
     "output_type": "display_data"
    }
   ],
   "source": [
    "# What is the percentage by gender?\n",
    "prop.table(as.matrix(table(lma_filtered$Female)))*100"
   ]
  },
  {
   "cell_type": "code",
   "execution_count": 24,
   "metadata": {},
   "outputs": [
    {
     "data": {
      "text/html": [
       "<table>\n",
       "<tbody>\n",
       "\t<tr><th scope=row>Unmarried</th><td>36.24385</td></tr>\n",
       "\t<tr><th scope=row>Married</th><td>63.75615</td></tr>\n",
       "</tbody>\n",
       "</table>\n"
      ],
      "text/latex": [
       "\\begin{tabular}{r|l}\n",
       "\tUnmarried & 36.24385\\\\\n",
       "\tMarried & 63.75615\\\\\n",
       "\\end{tabular}\n"
      ],
      "text/markdown": [
       "\n",
       "| Unmarried | 36.24385 | \n",
       "| Married | 63.75615 | \n",
       "\n",
       "\n"
      ],
      "text/plain": [
       "          [,1]    \n",
       "Unmarried 36.24385\n",
       "Married   63.75615"
      ]
     },
     "metadata": {},
     "output_type": "display_data"
    }
   ],
   "source": [
    "# What is the percentage by marital status?\n",
    "prop.table(as.matrix(table(lma_filtered$Married)))*100"
   ]
  },
  {
   "cell_type": "code",
   "execution_count": 25,
   "metadata": {},
   "outputs": [
    {
     "data": {
      "text/html": [
       "<table>\n",
       "<tbody>\n",
       "\t<tr><th scope=row>Asian</th><td> 5.3497093</td></tr>\n",
       "\t<tr><th scope=row>Biracial</th><td> 1.3451681</td></tr>\n",
       "\t<tr><th scope=row>Black</th><td> 8.8106788</td></tr>\n",
       "\t<tr><th scope=row>Hawaiian</th><td> 0.1032098</td></tr>\n",
       "\t<tr><th scope=row>Hispanic</th><td>11.5663811</td></tr>\n",
       "\t<tr><th scope=row>Native American</th><td> 0.6261396</td></tr>\n",
       "\t<tr><th scope=row>Other Race</th><td> 0.1100905</td></tr>\n",
       "\t<tr><th scope=row>White</th><td>72.0886228</td></tr>\n",
       "</tbody>\n",
       "</table>\n"
      ],
      "text/latex": [
       "\\begin{tabular}{r|l}\n",
       "\tAsian &  5.3497093\\\\\n",
       "\tBiracial &  1.3451681\\\\\n",
       "\tBlack &  8.8106788\\\\\n",
       "\tHawaiian &  0.1032098\\\\\n",
       "\tHispanic & 11.5663811\\\\\n",
       "\tNative American &  0.6261396\\\\\n",
       "\tOther Race &  0.1100905\\\\\n",
       "\tWhite & 72.0886228\\\\\n",
       "\\end{tabular}\n"
      ],
      "text/markdown": [
       "\n",
       "| Asian |  5.3497093 | \n",
       "| Biracial |  1.3451681 | \n",
       "| Black |  8.8106788 | \n",
       "| Hawaiian |  0.1032098 | \n",
       "| Hispanic | 11.5663811 | \n",
       "| Native American |  0.6261396 | \n",
       "| Other Race |  0.1100905 | \n",
       "| White | 72.0886228 | \n",
       "\n",
       "\n"
      ],
      "text/plain": [
       "                [,1]      \n",
       "Asian            5.3497093\n",
       "Biracial         1.3451681\n",
       "Black            8.8106788\n",
       "Hawaiian         0.1032098\n",
       "Hispanic        11.5663811\n",
       "Native American  0.6261396\n",
       "Other Race       0.1100905\n",
       "White           72.0886228"
      ]
     },
     "metadata": {},
     "output_type": "display_data"
    }
   ],
   "source": [
    "# What is the percentage by ethnicity?\n",
    "prop.table(as.matrix(table(lma_filtered$Race.Ethnicity)))*100"
   ]
  },
  {
   "cell_type": "code",
   "execution_count": 26,
   "metadata": {},
   "outputs": [
    {
     "data": {
      "text/html": [
       "<table>\n",
       "<tbody>\n",
       "\t<tr><th scope=row>Associates Degree</th><td> 9.560670</td></tr>\n",
       "\t<tr><th scope=row>Bachelors Degree</th><td>23.421750</td></tr>\n",
       "\t<tr><th scope=row>Doctorate</th><td> 1.637596</td></tr>\n",
       "\t<tr><th scope=row>High School Degree</th><td>24.216465</td></tr>\n",
       "\t<tr><th scope=row>Masters Degree</th><td>10.310662</td></tr>\n",
       "\t<tr><th scope=row>No High School Degree</th><td> 6.202911</td></tr>\n",
       "\t<tr><th scope=row>Professional Degree</th><td> 2.686896</td></tr>\n",
       "\t<tr><th scope=row>Some College</th><td>21.963051</td></tr>\n",
       "</tbody>\n",
       "</table>\n"
      ],
      "text/latex": [
       "\\begin{tabular}{r|l}\n",
       "\tAssociates Degree &  9.560670\\\\\n",
       "\tBachelors Degree & 23.421750\\\\\n",
       "\tDoctorate &  1.637596\\\\\n",
       "\tHigh School Degree & 24.216465\\\\\n",
       "\tMasters Degree & 10.310662\\\\\n",
       "\tNo High School Degree &  6.202911\\\\\n",
       "\tProfessional Degree &  2.686896\\\\\n",
       "\tSome College & 21.963051\\\\\n",
       "\\end{tabular}\n"
      ],
      "text/markdown": [
       "\n",
       "| Associates Degree |  9.560670 | \n",
       "| Bachelors Degree | 23.421750 | \n",
       "| Doctorate |  1.637596 | \n",
       "| High School Degree | 24.216465 | \n",
       "| Masters Degree | 10.310662 | \n",
       "| No High School Degree |  6.202911 | \n",
       "| Professional Degree |  2.686896 | \n",
       "| Some College | 21.963051 | \n",
       "\n",
       "\n"
      ],
      "text/plain": [
       "                      [,1]     \n",
       "Associates Degree      9.560670\n",
       "Bachelors Degree      23.421750\n",
       "Doctorate              1.637596\n",
       "High School Degree    24.216465\n",
       "Masters Degree        10.310662\n",
       "No High School Degree  6.202911\n",
       "Professional Degree    2.686896\n",
       "Some College          21.963051"
      ]
     },
     "metadata": {},
     "output_type": "display_data"
    }
   ],
   "source": [
    "# What is the percentage by education?\n",
    "prop.table(as.matrix(table(lma_filtered$Educational.Attainment)))*100"
   ]
  },
  {
   "cell_type": "code",
   "execution_count": 27,
   "metadata": {},
   "outputs": [
    {
     "data": {
      "text/html": [
       "<table>\n",
       "<thead><tr><th></th><th scope=col>Asian</th><th scope=col>Biracial</th><th scope=col>Black</th><th scope=col>Hawaiian</th><th scope=col>Hispanic</th><th scope=col>Native American</th><th scope=col>Other Race</th><th scope=col>White</th><th scope=col>Sum</th></tr></thead>\n",
       "<tbody>\n",
       "\t<tr><th scope=row>Associates Degree</th><td>0.004  </td><td>0.0015 </td><td>0.008  </td><td>0.00010</td><td>0.0089 </td><td>0.0006 </td><td>0.00017</td><td>0.07   </td><td>0.10   </td></tr>\n",
       "\t<tr><th scope=row>Bachelors Degree</th><td>0.018  </td><td>0.0031 </td><td>0.015  </td><td>0.00021</td><td>0.0149 </td><td>0.0006 </td><td>0.00024</td><td>0.18   </td><td>0.23   </td></tr>\n",
       "\t<tr><th scope=row>Doctorate</th><td>0.003  </td><td>0.0001 </td><td>0.001  </td><td>0.00000</td><td>0.0004 </td><td>0.0000 </td><td>0.00000</td><td>0.01   </td><td>0.02   </td></tr>\n",
       "\t<tr><th scope=row>High School Degree</th><td>0.007  </td><td>0.0028 </td><td>0.024  </td><td>0.00045</td><td>0.0313 </td><td>0.0023 </td><td>0.00038</td><td>0.17   </td><td>0.24   </td></tr>\n",
       "\t<tr><th scope=row>Masters Degree</th><td>0.009  </td><td>0.0011 </td><td>0.008  </td><td>0.00003</td><td>0.0057 </td><td>0.0002 </td><td>0.00010</td><td>0.08   </td><td>0.10   </td></tr>\n",
       "\t<tr><th scope=row>No High School Degree</th><td>0.004  </td><td>0.0003 </td><td>0.006  </td><td>0.00007</td><td>0.0271 </td><td>0.0006 </td><td>0.00007</td><td>0.02   </td><td>0.06   </td></tr>\n",
       "\t<tr><th scope=row>Professional Degree</th><td>0.003  </td><td>0.0006 </td><td>0.001  </td><td>0.00000</td><td>0.0019 </td><td>0.0000 </td><td>0.00003</td><td>0.02   </td><td>0.03   </td></tr>\n",
       "\t<tr><th scope=row>Some College</th><td>0.006  </td><td>0.0040 </td><td>0.025  </td><td>0.00017</td><td>0.0253 </td><td>0.0019 </td><td>0.00010</td><td>0.16   </td><td>0.22   </td></tr>\n",
       "\t<tr><th scope=row>Sum</th><td>0.053  </td><td>0.0135 </td><td>0.088  </td><td>0.00103</td><td>0.1157 </td><td>0.0063 </td><td>0.00110</td><td>0.72   </td><td>1.00   </td></tr>\n",
       "</tbody>\n",
       "</table>\n"
      ],
      "text/latex": [
       "\\begin{tabular}{r|lllllllll}\n",
       "  & Asian & Biracial & Black & Hawaiian & Hispanic & Native American & Other Race & White & Sum\\\\\n",
       "\\hline\n",
       "\tAssociates Degree & 0.004   & 0.0015  & 0.008   & 0.00010 & 0.0089  & 0.0006  & 0.00017 & 0.07    & 0.10   \\\\\n",
       "\tBachelors Degree & 0.018   & 0.0031  & 0.015   & 0.00021 & 0.0149  & 0.0006  & 0.00024 & 0.18    & 0.23   \\\\\n",
       "\tDoctorate & 0.003   & 0.0001  & 0.001   & 0.00000 & 0.0004  & 0.0000  & 0.00000 & 0.01    & 0.02   \\\\\n",
       "\tHigh School Degree & 0.007   & 0.0028  & 0.024   & 0.00045 & 0.0313  & 0.0023  & 0.00038 & 0.17    & 0.24   \\\\\n",
       "\tMasters Degree & 0.009   & 0.0011  & 0.008   & 0.00003 & 0.0057  & 0.0002  & 0.00010 & 0.08    & 0.10   \\\\\n",
       "\tNo High School Degree & 0.004   & 0.0003  & 0.006   & 0.00007 & 0.0271  & 0.0006  & 0.00007 & 0.02    & 0.06   \\\\\n",
       "\tProfessional Degree & 0.003   & 0.0006  & 0.001   & 0.00000 & 0.0019  & 0.0000  & 0.00003 & 0.02    & 0.03   \\\\\n",
       "\tSome College & 0.006   & 0.0040  & 0.025   & 0.00017 & 0.0253  & 0.0019  & 0.00010 & 0.16    & 0.22   \\\\\n",
       "\tSum & 0.053   & 0.0135  & 0.088   & 0.00103 & 0.1157  & 0.0063  & 0.00110 & 0.72    & 1.00   \\\\\n",
       "\\end{tabular}\n"
      ],
      "text/markdown": [
       "\n",
       "| <!--/--> | Asian | Biracial | Black | Hawaiian | Hispanic | Native American | Other Race | White | Sum | \n",
       "|---|---|---|---|---|---|---|---|---|\n",
       "| Associates Degree | 0.004   | 0.0015  | 0.008   | 0.00010 | 0.0089  | 0.0006  | 0.00017 | 0.07    | 0.10    | \n",
       "| Bachelors Degree | 0.018   | 0.0031  | 0.015   | 0.00021 | 0.0149  | 0.0006  | 0.00024 | 0.18    | 0.23    | \n",
       "| Doctorate | 0.003   | 0.0001  | 0.001   | 0.00000 | 0.0004  | 0.0000  | 0.00000 | 0.01    | 0.02    | \n",
       "| High School Degree | 0.007   | 0.0028  | 0.024   | 0.00045 | 0.0313  | 0.0023  | 0.00038 | 0.17    | 0.24    | \n",
       "| Masters Degree | 0.009   | 0.0011  | 0.008   | 0.00003 | 0.0057  | 0.0002  | 0.00010 | 0.08    | 0.10    | \n",
       "| No High School Degree | 0.004   | 0.0003  | 0.006   | 0.00007 | 0.0271  | 0.0006  | 0.00007 | 0.02    | 0.06    | \n",
       "| Professional Degree | 0.003   | 0.0006  | 0.001   | 0.00000 | 0.0019  | 0.0000  | 0.00003 | 0.02    | 0.03    | \n",
       "| Some College | 0.006   | 0.0040  | 0.025   | 0.00017 | 0.0253  | 0.0019  | 0.00010 | 0.16    | 0.22    | \n",
       "| Sum | 0.053   | 0.0135  | 0.088   | 0.00103 | 0.1157  | 0.0063  | 0.00110 | 0.72    | 1.00    | \n",
       "\n",
       "\n"
      ],
      "text/plain": [
       "                       \n",
       "                        Asian Biracial Black Hawaiian Hispanic Native American\n",
       "  Associates Degree     0.004 0.0015   0.008 0.00010  0.0089   0.0006         \n",
       "  Bachelors Degree      0.018 0.0031   0.015 0.00021  0.0149   0.0006         \n",
       "  Doctorate             0.003 0.0001   0.001 0.00000  0.0004   0.0000         \n",
       "  High School Degree    0.007 0.0028   0.024 0.00045  0.0313   0.0023         \n",
       "  Masters Degree        0.009 0.0011   0.008 0.00003  0.0057   0.0002         \n",
       "  No High School Degree 0.004 0.0003   0.006 0.00007  0.0271   0.0006         \n",
       "  Professional Degree   0.003 0.0006   0.001 0.00000  0.0019   0.0000         \n",
       "  Some College          0.006 0.0040   0.025 0.00017  0.0253   0.0019         \n",
       "  Sum                   0.053 0.0135   0.088 0.00103  0.1157   0.0063         \n",
       "                       \n",
       "                        Other Race White Sum \n",
       "  Associates Degree     0.00017    0.07  0.10\n",
       "  Bachelors Degree      0.00024    0.18  0.23\n",
       "  Doctorate             0.00000    0.01  0.02\n",
       "  High School Degree    0.00038    0.17  0.24\n",
       "  Masters Degree        0.00010    0.08  0.10\n",
       "  No High School Degree 0.00007    0.02  0.06\n",
       "  Professional Degree   0.00003    0.02  0.03\n",
       "  Some College          0.00010    0.16  0.22\n",
       "  Sum                   0.00110    0.72  1.00"
      ]
     },
     "metadata": {},
     "output_type": "display_data"
    }
   ],
   "source": [
    "# Inspect intersection of Education and Ethnicity\n",
    "# set options for better display\n",
    "options(scipen=999)\n",
    "options(digits=1)\n",
    "addmargins(prop.table(table(lma_filtered$Educational.Attainment, lma_filtered$Race.Ethnicity)))\n",
    "\n",
    "# reset options\n",
    "options(scipen=0)\n",
    "options(digits=7)"
   ]
  },
  {
   "cell_type": "markdown",
   "metadata": {},
   "source": [
    "#### Highest proportion is White High School Degree\n",
    "\n",
    "#### White has the highest percentage but now Hawaiian the lowest (previously it was the Other Race)\n",
    "\n",
    "#### High School Degree has the highest percentage with Doctorate the lowest"
   ]
  },
  {
   "cell_type": "code",
   "execution_count": 28,
   "metadata": {},
   "outputs": [
    {
     "data": {
      "text/html": [
       "<table>\n",
       "<thead><tr><th></th><th scope=col>Male</th><th scope=col>Female</th><th scope=col>Sum</th></tr></thead>\n",
       "<tbody>\n",
       "\t<tr><th scope=row>Unmarried</th><td>0.1779337</td><td>0.1845048</td><td>0.3624385</td></tr>\n",
       "\t<tr><th scope=row>Married</th><td>0.3825300</td><td>0.2550315</td><td>0.6375615</td></tr>\n",
       "\t<tr><th scope=row>Sum</th><td>0.5604638</td><td>0.4395362</td><td>1.0000000</td></tr>\n",
       "</tbody>\n",
       "</table>\n"
      ],
      "text/latex": [
       "\\begin{tabular}{r|lll}\n",
       "  & Male & Female & Sum\\\\\n",
       "\\hline\n",
       "\tUnmarried & 0.1779337 & 0.1845048 & 0.3624385\\\\\n",
       "\tMarried & 0.3825300 & 0.2550315 & 0.6375615\\\\\n",
       "\tSum & 0.5604638 & 0.4395362 & 1.0000000\\\\\n",
       "\\end{tabular}\n"
      ],
      "text/markdown": [
       "\n",
       "| <!--/--> | Male | Female | Sum | \n",
       "|---|---|---|\n",
       "| Unmarried | 0.1779337 | 0.1845048 | 0.3624385 | \n",
       "| Married | 0.3825300 | 0.2550315 | 0.6375615 | \n",
       "| Sum | 0.5604638 | 0.4395362 | 1.0000000 | \n",
       "\n",
       "\n"
      ],
      "text/plain": [
       "           \n",
       "            Male      Female    Sum      \n",
       "  Unmarried 0.1779337 0.1845048 0.3624385\n",
       "  Married   0.3825300 0.2550315 0.6375615\n",
       "  Sum       0.5604638 0.4395362 1.0000000"
      ]
     },
     "metadata": {},
     "output_type": "display_data"
    }
   ],
   "source": [
    "# Inspect intersection of Married and Gender\n",
    "addmargins(prop.table(table(lma_filtered$Married, lma_filtered$Female)))"
   ]
  },
  {
   "cell_type": "markdown",
   "metadata": {},
   "source": [
    "#### Married Male individuals are now the highest proportion, in the original sample it was Married-Female \n",
    "\n",
    "#### Lowest are Unmarried Males (although unmarried females not far behind)"
   ]
  },
  {
   "cell_type": "code",
   "execution_count": 29,
   "metadata": {},
   "outputs": [
    {
     "data": {
      "text/html": [
       "<table>\n",
       "<thead><tr><th></th><th scope=col>Male</th><th scope=col>Female</th><th scope=col>Sum</th></tr></thead>\n",
       "<tbody>\n",
       "\t<tr><th scope=row>Associates Degree</th><td>0.04668524 </td><td>0.048921457</td><td>0.09560670 </td></tr>\n",
       "\t<tr><th scope=row>Bachelors Degree</th><td>0.12464307 </td><td>0.109574431</td><td>0.23421750 </td></tr>\n",
       "\t<tr><th scope=row>Doctorate</th><td>0.01042419 </td><td>0.005951767</td><td>0.01637596 </td></tr>\n",
       "\t<tr><th scope=row>High School Degree</th><td>0.14769326 </td><td>0.094471394</td><td>0.24216465 </td></tr>\n",
       "\t<tr><th scope=row>Masters Degree</th><td>0.05002236 </td><td>0.053084254</td><td>0.10310662 </td></tr>\n",
       "\t<tr><th scope=row>No High School Degree</th><td>0.04345134 </td><td>0.018577769</td><td>0.06202911 </td></tr>\n",
       "\t<tr><th scope=row>Professional Degree</th><td>0.01620394 </td><td>0.010665015</td><td>0.02686896 </td></tr>\n",
       "\t<tr><th scope=row>Some College</th><td>0.12134035 </td><td>0.098290157</td><td>0.21963051 </td></tr>\n",
       "\t<tr><th scope=row>Sum</th><td>0.56046376 </td><td>0.439536244</td><td>1.00000000 </td></tr>\n",
       "</tbody>\n",
       "</table>\n"
      ],
      "text/latex": [
       "\\begin{tabular}{r|lll}\n",
       "  & Male & Female & Sum\\\\\n",
       "\\hline\n",
       "\tAssociates Degree & 0.04668524  & 0.048921457 & 0.09560670 \\\\\n",
       "\tBachelors Degree & 0.12464307  & 0.109574431 & 0.23421750 \\\\\n",
       "\tDoctorate & 0.01042419  & 0.005951767 & 0.01637596 \\\\\n",
       "\tHigh School Degree & 0.14769326  & 0.094471394 & 0.24216465 \\\\\n",
       "\tMasters Degree & 0.05002236  & 0.053084254 & 0.10310662 \\\\\n",
       "\tNo High School Degree & 0.04345134  & 0.018577769 & 0.06202911 \\\\\n",
       "\tProfessional Degree & 0.01620394  & 0.010665015 & 0.02686896 \\\\\n",
       "\tSome College & 0.12134035  & 0.098290157 & 0.21963051 \\\\\n",
       "\tSum & 0.56046376  & 0.439536244 & 1.00000000 \\\\\n",
       "\\end{tabular}\n"
      ],
      "text/markdown": [
       "\n",
       "| <!--/--> | Male | Female | Sum | \n",
       "|---|---|---|---|---|---|---|---|---|\n",
       "| Associates Degree | 0.04668524  | 0.048921457 | 0.09560670  | \n",
       "| Bachelors Degree | 0.12464307  | 0.109574431 | 0.23421750  | \n",
       "| Doctorate | 0.01042419  | 0.005951767 | 0.01637596  | \n",
       "| High School Degree | 0.14769326  | 0.094471394 | 0.24216465  | \n",
       "| Masters Degree | 0.05002236  | 0.053084254 | 0.10310662  | \n",
       "| No High School Degree | 0.04345134  | 0.018577769 | 0.06202911  | \n",
       "| Professional Degree | 0.01620394  | 0.010665015 | 0.02686896  | \n",
       "| Some College | 0.12134035  | 0.098290157 | 0.21963051  | \n",
       "| Sum | 0.56046376  | 0.439536244 | 1.00000000  | \n",
       "\n",
       "\n"
      ],
      "text/plain": [
       "                       \n",
       "                        Male       Female      Sum       \n",
       "  Associates Degree     0.04668524 0.048921457 0.09560670\n",
       "  Bachelors Degree      0.12464307 0.109574431 0.23421750\n",
       "  Doctorate             0.01042419 0.005951767 0.01637596\n",
       "  High School Degree    0.14769326 0.094471394 0.24216465\n",
       "  Masters Degree        0.05002236 0.053084254 0.10310662\n",
       "  No High School Degree 0.04345134 0.018577769 0.06202911\n",
       "  Professional Degree   0.01620394 0.010665015 0.02686896\n",
       "  Some College          0.12134035 0.098290157 0.21963051\n",
       "  Sum                   0.56046376 0.439536244 1.00000000"
      ]
     },
     "metadata": {},
     "output_type": "display_data"
    }
   ],
   "source": [
    "# Inspect intersection of Education and Gender\n",
    "addmargins(prop.table(table(lma_filtered$Educational.Attainment , lma_filtered$Female)))"
   ]
  },
  {
   "cell_type": "markdown",
   "metadata": {},
   "source": [
    "#### Similar percentages of gender across most Educational Attainments\n",
    "+ Largest difference between Males with High School Degree over Females with High School Degree"
   ]
  },
  {
   "cell_type": "code",
   "execution_count": 30,
   "metadata": {},
   "outputs": [
    {
     "data": {
      "text/html": [
       "<table>\n",
       "<thead><tr><th></th><th scope=col>Unmarried</th><th scope=col>Married</th><th scope=col>Sum</th></tr></thead>\n",
       "<tbody>\n",
       "\t<tr><th scope=row>Associates Degree</th><td>0.034093646</td><td>0.06151306 </td><td>0.09560670 </td></tr>\n",
       "\t<tr><th scope=row>Bachelors Degree</th><td>0.081673375</td><td>0.15254412 </td><td>0.23421750 </td></tr>\n",
       "\t<tr><th scope=row>Doctorate</th><td>0.004300409</td><td>0.01207555 </td><td>0.01637596 </td></tr>\n",
       "\t<tr><th scope=row>High School Degree</th><td>0.092888843</td><td>0.14927581 </td><td>0.24216465 </td></tr>\n",
       "\t<tr><th scope=row>Masters Degree</th><td>0.030274882</td><td>0.07283173 </td><td>0.10310662 </td></tr>\n",
       "\t<tr><th scope=row>No High School Degree</th><td>0.025079988</td><td>0.03694912 </td><td>0.06202911 </td></tr>\n",
       "\t<tr><th scope=row>Professional Degree</th><td>0.007155881</td><td>0.01971308 </td><td>0.02686896 </td></tr>\n",
       "\t<tr><th scope=row>Some College</th><td>0.086971480</td><td>0.13265903 </td><td>0.21963051 </td></tr>\n",
       "\t<tr><th scope=row>Sum</th><td>0.362438504</td><td>0.63756150 </td><td>1.00000000 </td></tr>\n",
       "</tbody>\n",
       "</table>\n"
      ],
      "text/latex": [
       "\\begin{tabular}{r|lll}\n",
       "  & Unmarried & Married & Sum\\\\\n",
       "\\hline\n",
       "\tAssociates Degree & 0.034093646 & 0.06151306  & 0.09560670 \\\\\n",
       "\tBachelors Degree & 0.081673375 & 0.15254412  & 0.23421750 \\\\\n",
       "\tDoctorate & 0.004300409 & 0.01207555  & 0.01637596 \\\\\n",
       "\tHigh School Degree & 0.092888843 & 0.14927581  & 0.24216465 \\\\\n",
       "\tMasters Degree & 0.030274882 & 0.07283173  & 0.10310662 \\\\\n",
       "\tNo High School Degree & 0.025079988 & 0.03694912  & 0.06202911 \\\\\n",
       "\tProfessional Degree & 0.007155881 & 0.01971308  & 0.02686896 \\\\\n",
       "\tSome College & 0.086971480 & 0.13265903  & 0.21963051 \\\\\n",
       "\tSum & 0.362438504 & 0.63756150  & 1.00000000 \\\\\n",
       "\\end{tabular}\n"
      ],
      "text/markdown": [
       "\n",
       "| <!--/--> | Unmarried | Married | Sum | \n",
       "|---|---|---|---|---|---|---|---|---|\n",
       "| Associates Degree | 0.034093646 | 0.06151306  | 0.09560670  | \n",
       "| Bachelors Degree | 0.081673375 | 0.15254412  | 0.23421750  | \n",
       "| Doctorate | 0.004300409 | 0.01207555  | 0.01637596  | \n",
       "| High School Degree | 0.092888843 | 0.14927581  | 0.24216465  | \n",
       "| Masters Degree | 0.030274882 | 0.07283173  | 0.10310662  | \n",
       "| No High School Degree | 0.025079988 | 0.03694912  | 0.06202911  | \n",
       "| Professional Degree | 0.007155881 | 0.01971308  | 0.02686896  | \n",
       "| Some College | 0.086971480 | 0.13265903  | 0.21963051  | \n",
       "| Sum | 0.362438504 | 0.63756150  | 1.00000000  | \n",
       "\n",
       "\n"
      ],
      "text/plain": [
       "                       \n",
       "                        Unmarried   Married    Sum       \n",
       "  Associates Degree     0.034093646 0.06151306 0.09560670\n",
       "  Bachelors Degree      0.081673375 0.15254412 0.23421750\n",
       "  Doctorate             0.004300409 0.01207555 0.01637596\n",
       "  High School Degree    0.092888843 0.14927581 0.24216465\n",
       "  Masters Degree        0.030274882 0.07283173 0.10310662\n",
       "  No High School Degree 0.025079988 0.03694912 0.06202911\n",
       "  Professional Degree   0.007155881 0.01971308 0.02686896\n",
       "  Some College          0.086971480 0.13265903 0.21963051\n",
       "  Sum                   0.362438504 0.63756150 1.00000000"
      ]
     },
     "metadata": {},
     "output_type": "display_data"
    }
   ],
   "source": [
    "# Inspect intersection of Education and Married\n",
    "addmargins(prop.table(table(lma_filtered$Educational.Attainment , lma_filtered$Married)))"
   ]
  },
  {
   "cell_type": "markdown",
   "metadata": {},
   "source": [
    "#### In general, more Married individuals over Unmarried ones, at different education levels\n",
    "+ However, No High School degree has almost the same distribution between Unmarred and Married"
   ]
  },
  {
   "cell_type": "code",
   "execution_count": 31,
   "metadata": {},
   "outputs": [],
   "source": [
    "# Filter out under represented ethnicities \n",
    "lma_filtered_ethnicity <- filter(lma_filtered, Race.Ethnicity %in% c(\"Asian\", \"Black\", \"Hispanic\", \"White\"))"
   ]
  },
  {
   "cell_type": "markdown",
   "metadata": {},
   "source": [
    "#### Setup refrence ranges (No High School Degree and White)"
   ]
  },
  {
   "cell_type": "code",
   "execution_count": 32,
   "metadata": {},
   "outputs": [],
   "source": [
    "# Setup reference ranges\n",
    "lma_filtered_ethnicity$Race.Ethnicity = factor(lma_filtered_ethnicity$Race.Ethnicity, levels=c(\"White\", \"Asian\", \"Black\", \"Hispanic\"))\n",
    "\n",
    "lma_filtered_ethnicity$Educational.Attainment = factor(lma_filtered_ethnicity$Educational.Attainment, \n",
    "                                                       levels=c(\"No High School Degree\", \"High School Degree\",\n",
    "                                                                \"Some College\", \"Associates Degree\",\n",
    "                                                                \"Bachelors Degree\",\n",
    "                                                                \"Professional Degree\", \"Masters Degree\",\n",
    "                                                                \"Doctorate\"))\n",
    "\n",
    "lma_filtered_ethnicity$Educational.Attainment = factor(lma_filtered_ethnicity$Educational.Attainment,\n",
    "                                                       levels=c(\"No High School Degree\", \n",
    "                                                                \"High School Degree\",\n",
    "                                                                \"Some College\", \n",
    "                                                                \"Associates Degree\",\n",
    "                                                                \"Bachelors Degree\",\n",
    "                                                                \"Professional Degree\", \n",
    "                                                                \"Masters Degree\",\n",
    "                                                                \"Doctorate\"))"
   ]
  },
  {
   "cell_type": "markdown",
   "metadata": {},
   "source": [
    "## Research questions : \n",
    "#### Q1. How do earnings vary by educational attainment?\n",
    "#### Q2. Does the relationship between age and educational attainment vary by race/ethnicity?\n",
    "\n",
    "### Preliminary Econometric Estimates"
   ]
  },
  {
   "cell_type": "code",
   "execution_count": 33,
   "metadata": {},
   "outputs": [
    {
     "data": {
      "text/plain": [
       "\n",
       "Call:\n",
       "lm(formula = Earnings.Past.12.Months ~ Age + Female + Married + \n",
       "    Educational.Attainment + Race.Ethnicity, data = lma_filtered_ethnicity)\n",
       "\n",
       "Residuals:\n",
       "    Min      1Q  Median      3Q     Max \n",
       "-153206  -21445   -6670   10073  521440 \n",
       "\n",
       "Coefficients:\n",
       "                                           Estimate Std. Error t value Pr(>|t|)\n",
       "(Intercept)                                 8591.49    1668.74   5.148 2.64e-07\n",
       "Age                                          690.64      25.24  27.363  < 2e-16\n",
       "FemaleFemale                              -19457.61     572.87 -33.965  < 2e-16\n",
       "MarriedMarried                              7149.41     607.39  11.771  < 2e-16\n",
       "Educational.AttainmentHigh School Degree    6492.06    1290.98   5.029 4.97e-07\n",
       "Educational.AttainmentSome College         14844.58    1309.28  11.338  < 2e-16\n",
       "Educational.AttainmentAssociates Degree    18535.05    1482.71  12.501  < 2e-16\n",
       "Educational.AttainmentBachelors Degree     39248.41    1315.24  29.841  < 2e-16\n",
       "Educational.AttainmentProfessional Degree 113426.04    2074.88  54.666  < 2e-16\n",
       "Educational.AttainmentMasters Degree       51929.54    1468.44  35.364  < 2e-16\n",
       "Educational.AttainmentDoctorate            66854.91    2476.55  26.995  < 2e-16\n",
       "Race.EthnicityAsian                         2012.43    1250.10   1.610    0.107\n",
       "Race.EthnicityBlack                        -6755.65    1001.63  -6.745 1.56e-11\n",
       "Race.EthnicityHispanic                     -6286.36     921.34  -6.823 9.09e-12\n",
       "                                             \n",
       "(Intercept)                               ***\n",
       "Age                                       ***\n",
       "FemaleFemale                              ***\n",
       "MarriedMarried                            ***\n",
       "Educational.AttainmentHigh School Degree  ***\n",
       "Educational.AttainmentSome College        ***\n",
       "Educational.AttainmentAssociates Degree   ***\n",
       "Educational.AttainmentBachelors Degree    ***\n",
       "Educational.AttainmentProfessional Degree ***\n",
       "Educational.AttainmentMasters Degree      ***\n",
       "Educational.AttainmentDoctorate           ***\n",
       "Race.EthnicityAsian                          \n",
       "Race.EthnicityBlack                       ***\n",
       "Race.EthnicityHispanic                    ***\n",
       "---\n",
       "Signif. codes:  0 '***' 0.001 '**' 0.01 '*' 0.05 '.' 0.1 ' ' 1\n",
       "\n",
       "Residual standard error: 47170 on 28418 degrees of freedom\n",
       "Multiple R-squared:  0.2442,\tAdjusted R-squared:  0.2438 \n",
       "F-statistic: 706.2 on 13 and 28418 DF,  p-value: < 2.2e-16\n"
      ]
     },
     "metadata": {},
     "output_type": "display_data"
    }
   ],
   "source": [
    "prelim <- lm(Earnings.Past.12.Months ~ Age + Female + Married + Educational.Attainment + Race.Ethnicity, data = lma_filtered_ethnicity)\n",
    "summary(prelim)"
   ]
  },
  {
   "cell_type": "markdown",
   "metadata": {},
   "source": [
    "### Relevant subsample descriptive statistics"
   ]
  },
  {
   "cell_type": "code",
   "execution_count": 34,
   "metadata": {},
   "outputs": [
    {
     "data": {
      "text/html": [
       "<table>\n",
       "<tbody>\n",
       "\t<tr><th scope=row>Male</th><td>52.52525</td></tr>\n",
       "\t<tr><th scope=row>Female</th><td>47.47475</td></tr>\n",
       "</tbody>\n",
       "</table>\n"
      ],
      "text/latex": [
       "\\begin{tabular}{r|l}\n",
       "\tMale & 52.52525\\\\\n",
       "\tFemale & 47.47475\\\\\n",
       "\\end{tabular}\n"
      ],
      "text/markdown": [
       "\n",
       "| Male | 52.52525 | \n",
       "| Female | 47.47475 | \n",
       "\n",
       "\n"
      ],
      "text/plain": [
       "       [,1]    \n",
       "Male   52.52525\n",
       "Female 47.47475"
      ]
     },
     "metadata": {},
     "output_type": "display_data"
    },
    {
     "data": {
      "text/html": [
       "<table>\n",
       "<tbody>\n",
       "\t<tr><th scope=row>Unmarried</th><td>27.27273</td></tr>\n",
       "\t<tr><th scope=row>Married</th><td>72.72727</td></tr>\n",
       "</tbody>\n",
       "</table>\n"
      ],
      "text/latex": [
       "\\begin{tabular}{r|l}\n",
       "\tUnmarried & 27.27273\\\\\n",
       "\tMarried & 72.72727\\\\\n",
       "\\end{tabular}\n"
      ],
      "text/markdown": [
       "\n",
       "| Unmarried | 27.27273 | \n",
       "| Married | 72.72727 | \n",
       "\n",
       "\n"
      ],
      "text/plain": [
       "          [,1]    \n",
       "Unmarried 27.27273\n",
       "Married   72.72727"
      ]
     },
     "metadata": {},
     "output_type": "display_data"
    },
    {
     "name": "stdout",
     "output_type": "stream",
     "text": [
      "\n",
      "=========================================================================================\n",
      "Statistic                N     Mean     St. Dev.   Min   Pctl(25) Median Pctl(75)   Max  \n",
      "-----------------------------------------------------------------------------------------\n",
      "Age                     198   43.818     11.010     22     35.2     44      53      64   \n",
      "Earnings.Past.12.Months 198 35,315.660 23,142.110 15,600  21,025  30,000  40,000  241,000\n",
      "Usual.Weekly.Hours      198   43.343     8.561      35      40      40      40      90   \n",
      "-----------------------------------------------------------------------------------------\n"
     ]
    }
   ],
   "source": [
    "# What is the percentage by gender?\n",
    "prop.table(as.matrix(table(lma_filtered_ethnicity[lma_filtered_ethnicity$Race.Ethnicity == \"Asian\" & lma_filtered_ethnicity$Educational.Attainment == \"High School Degree\",]$Female))) * 100\n",
    "# What is the percentage by marital status?\n",
    "prop.table(as.matrix(table(lma_filtered_ethnicity[lma_filtered_ethnicity$Race.Ethnicity == \"Asian\" & lma_filtered_ethnicity$Educational.Attainment == \"High School Degree\",]$Married))) * 100\n",
    "stargazer(lma_filtered_ethnicity[lma_filtered_ethnicity$Race.Ethnicity == \"Asian\" & lma_filtered_ethnicity$Educational.Attainment == \"High School Degree\",], type=\"text\", header=FALSE, median=TRUE)"
   ]
  },
  {
   "cell_type": "code",
   "execution_count": 35,
   "metadata": {},
   "outputs": [
    {
     "data": {
      "text/html": [
       "<table>\n",
       "<tbody>\n",
       "\t<tr><th scope=row>Male</th><td>51.05566</td></tr>\n",
       "\t<tr><th scope=row>Female</th><td>48.94434</td></tr>\n",
       "</tbody>\n",
       "</table>\n"
      ],
      "text/latex": [
       "\\begin{tabular}{r|l}\n",
       "\tMale & 51.05566\\\\\n",
       "\tFemale & 48.94434\\\\\n",
       "\\end{tabular}\n"
      ],
      "text/markdown": [
       "\n",
       "| Male | 51.05566 | \n",
       "| Female | 48.94434 | \n",
       "\n",
       "\n"
      ],
      "text/plain": [
       "       [,1]    \n",
       "Male   51.05566\n",
       "Female 48.94434"
      ]
     },
     "metadata": {},
     "output_type": "display_data"
    },
    {
     "data": {
      "text/html": [
       "<table>\n",
       "<tbody>\n",
       "\t<tr><th scope=row>Unmarried</th><td>34.16507</td></tr>\n",
       "\t<tr><th scope=row>Married</th><td>65.83493</td></tr>\n",
       "</tbody>\n",
       "</table>\n"
      ],
      "text/latex": [
       "\\begin{tabular}{r|l}\n",
       "\tUnmarried & 34.16507\\\\\n",
       "\tMarried & 65.83493\\\\\n",
       "\\end{tabular}\n"
      ],
      "text/markdown": [
       "\n",
       "| Unmarried | 34.16507 | \n",
       "| Married | 65.83493 | \n",
       "\n",
       "\n"
      ],
      "text/plain": [
       "          [,1]    \n",
       "Unmarried 34.16507\n",
       "Married   65.83493"
      ]
     },
     "metadata": {},
     "output_type": "display_data"
    },
    {
     "name": "stdout",
     "output_type": "stream",
     "text": [
      "\n",
      "=========================================================================================\n",
      "Statistic                N     Mean     St. Dev.   Min   Pctl(25) Median Pctl(75)   Max  \n",
      "-----------------------------------------------------------------------------------------\n",
      "Age                     521   41.075     10.886     23      32      40      50      64   \n",
      "Earnings.Past.12.Months 521 73,968.710 57,705.000 15,600  39,000  62,000  91,000  507,000\n",
      "Usual.Weekly.Hours      521   42.770     7.904      35      40      40      40      99   \n",
      "-----------------------------------------------------------------------------------------\n"
     ]
    }
   ],
   "source": [
    "# What is the percentage by gender?\n",
    "prop.table(as.matrix(table(lma_filtered_ethnicity[lma_filtered_ethnicity$Race.Ethnicity == \"Asian\" & lma_filtered_ethnicity$Educational.Attainment == \"Bachelors Degree\",]$Female))) * 100\n",
    "\n",
    "# What is the percentage by marital status?\n",
    "prop.table(as.matrix(table(lma_filtered_ethnicity[lma_filtered_ethnicity$Race.Ethnicity == \"Asian\" & lma_filtered_ethnicity$Educational.Attainment == \"Bachelors Degree\",]$Married))) * 100\n",
    "stargazer(lma_filtered_ethnicity[lma_filtered_ethnicity$Race.Ethnicity == \"Asian\" & lma_filtered_ethnicity$Educational.Attainment == \"Bachelors Degree\",], type=\"text\", header=FALSE, median=TRUE)"
   ]
  },
  {
   "cell_type": "code",
   "execution_count": 36,
   "metadata": {},
   "outputs": [
    {
     "data": {
      "text/html": [
       "<table>\n",
       "<tbody>\n",
       "\t<tr><th scope=row>Male</th><td>55.67568</td></tr>\n",
       "\t<tr><th scope=row>Female</th><td>44.32432</td></tr>\n",
       "</tbody>\n",
       "</table>\n"
      ],
      "text/latex": [
       "\\begin{tabular}{r|l}\n",
       "\tMale & 55.67568\\\\\n",
       "\tFemale & 44.32432\\\\\n",
       "\\end{tabular}\n"
      ],
      "text/markdown": [
       "\n",
       "| Male | 55.67568 | \n",
       "| Female | 44.32432 | \n",
       "\n",
       "\n"
      ],
      "text/plain": [
       "       [,1]    \n",
       "Male   55.67568\n",
       "Female 44.32432"
      ]
     },
     "metadata": {},
     "output_type": "display_data"
    },
    {
     "data": {
      "text/html": [
       "<table>\n",
       "<tbody>\n",
       "\t<tr><th scope=row>Unmarried</th><td>34.05405</td></tr>\n",
       "\t<tr><th scope=row>Married</th><td>65.94595</td></tr>\n",
       "</tbody>\n",
       "</table>\n"
      ],
      "text/latex": [
       "\\begin{tabular}{r|l}\n",
       "\tUnmarried & 34.05405\\\\\n",
       "\tMarried & 65.94595\\\\\n",
       "\\end{tabular}\n"
      ],
      "text/markdown": [
       "\n",
       "| Unmarried | 34.05405 | \n",
       "| Married | 65.94595 | \n",
       "\n",
       "\n"
      ],
      "text/plain": [
       "          [,1]    \n",
       "Unmarried 34.05405\n",
       "Married   65.94595"
      ]
     },
     "metadata": {},
     "output_type": "display_data"
    },
    {
     "name": "stdout",
     "output_type": "stream",
     "text": [
      "\n",
      "=========================================================================================\n",
      "Statistic                N     Mean     St. Dev.   Min   Pctl(25) Median Pctl(75)   Max  \n",
      "-----------------------------------------------------------------------------------------\n",
      "Age                     185   43.351     11.920     19      33      45      54      64   \n",
      "Earnings.Past.12.Months 185 46,150.270 29,569.800 15,200  29,500  40,000  52,000  301,000\n",
      "Usual.Weekly.Hours      185   43.411     9.538      35      40      40      40      99   \n",
      "-----------------------------------------------------------------------------------------\n"
     ]
    }
   ],
   "source": [
    "# What is the percentage by gender?\n",
    "prop.table(as.matrix(table(lma_filtered_ethnicity[lma_filtered_ethnicity$Race.Ethnicity == \"Asian\" & lma_filtered_ethnicity$Educational.Attainment == \"Some College\",]$Female))) * 100\n",
    "# What is the percentage by marital status?\n",
    "prop.table(as.matrix(table(lma_filtered_ethnicity[lma_filtered_ethnicity$Race.Ethnicity == \"Asian\" & lma_filtered_ethnicity$Educational.Attainment == \"Some College\",]$Married))) * 100\n",
    "stargazer(lma_filtered_ethnicity[lma_filtered_ethnicity$Race.Ethnicity == \"Asian\" & lma_filtered_ethnicity$Educational.Attainment == \"Some College\",], type=\"text\", header=FALSE, median=TRUE)"
   ]
  },
  {
   "cell_type": "code",
   "execution_count": 37,
   "metadata": {},
   "outputs": [
    {
     "data": {
      "text/html": [
       "<table>\n",
       "<tbody>\n",
       "\t<tr><th scope=row>Male</th><td>63.19703</td></tr>\n",
       "\t<tr><th scope=row>Female</th><td>36.80297</td></tr>\n",
       "</tbody>\n",
       "</table>\n"
      ],
      "text/latex": [
       "\\begin{tabular}{r|l}\n",
       "\tMale & 63.19703\\\\\n",
       "\tFemale & 36.80297\\\\\n",
       "\\end{tabular}\n"
      ],
      "text/markdown": [
       "\n",
       "| Male | 63.19703 | \n",
       "| Female | 36.80297 | \n",
       "\n",
       "\n"
      ],
      "text/plain": [
       "       [,1]    \n",
       "Male   63.19703\n",
       "Female 36.80297"
      ]
     },
     "metadata": {},
     "output_type": "display_data"
    },
    {
     "data": {
      "text/html": [
       "<table>\n",
       "<tbody>\n",
       "\t<tr><th scope=row>Unmarried</th><td>21.93309</td></tr>\n",
       "\t<tr><th scope=row>Married</th><td>78.06691</td></tr>\n",
       "</tbody>\n",
       "</table>\n"
      ],
      "text/latex": [
       "\\begin{tabular}{r|l}\n",
       "\tUnmarried & 21.93309\\\\\n",
       "\tMarried & 78.06691\\\\\n",
       "\\end{tabular}\n"
      ],
      "text/markdown": [
       "\n",
       "| Unmarried | 21.93309 | \n",
       "| Married | 78.06691 | \n",
       "\n",
       "\n"
      ],
      "text/plain": [
       "          [,1]    \n",
       "Unmarried 21.93309\n",
       "Married   78.06691"
      ]
     },
     "metadata": {},
     "output_type": "display_data"
    },
    {
     "name": "stdout",
     "output_type": "stream",
     "text": [
      "\n",
      "=========================================================================================\n",
      "Statistic                N     Mean     St. Dev.   Min   Pctl(25) Median Pctl(75)   Max  \n",
      "-----------------------------------------------------------------------------------------\n",
      "Age                     269   41.357     9.608      25      34      40      49      63   \n",
      "Earnings.Past.12.Months 269 93,925.650 66,344.570 18,000  57,000  80,000 110,000  491,000\n",
      "Usual.Weekly.Hours      269   42.963     6.197      35      40      40      45      80   \n",
      "-----------------------------------------------------------------------------------------\n"
     ]
    }
   ],
   "source": [
    "# What is the percentage by gender?\n",
    "prop.table(as.matrix(table(lma_filtered_ethnicity[lma_filtered_ethnicity$Race.Ethnicity == \"Asian\" & lma_filtered_ethnicity$Educational.Attainment == \"Masters Degree\",]$Female))) * 100\n",
    "# What is the percentage by marital status?\n",
    "prop.table(as.matrix(table(lma_filtered_ethnicity[lma_filtered_ethnicity$Race.Ethnicity == \"Asian\" & lma_filtered_ethnicity$Educational.Attainment == \"Masters Degree\",]$Married))) * 100\n",
    "stargazer(lma_filtered_ethnicity[lma_filtered_ethnicity$Race.Ethnicity == \"Asian\" & lma_filtered_ethnicity$Educational.Attainment == \"Masters Degree\",], type=\"text\", header=FALSE, median=TRUE)"
   ]
  },
  {
   "cell_type": "code",
   "execution_count": 38,
   "metadata": {},
   "outputs": [
    {
     "data": {
      "text/html": [
       "<table>\n",
       "<thead><tr><th></th><th scope=col>No High School Degree</th><th scope=col>High School Degree</th><th scope=col>Some College</th><th scope=col>Associates Degree</th><th scope=col>Bachelors Degree</th><th scope=col>Professional Degree</th><th scope=col>Masters Degree</th><th scope=col>Doctorate</th></tr></thead>\n",
       "<tbody>\n",
       "\t<tr><th scope=row>White</th><td>704 </td><td>5065</td><td>4568</td><td>2099</td><td>5297</td><td>593 </td><td>2277</td><td>351 </td></tr>\n",
       "\t<tr><th scope=row>Asian</th><td>107 </td><td> 198</td><td> 185</td><td> 112</td><td> 521</td><td> 83 </td><td> 269</td><td> 80 </td></tr>\n",
       "\t<tr><th scope=row>Black</th><td>173 </td><td> 694</td><td> 715</td><td> 240</td><td> 438</td><td> 30 </td><td> 242</td><td> 29 </td></tr>\n",
       "\t<tr><th scope=row>Hispanic</th><td>789 </td><td> 910</td><td> 735</td><td> 260</td><td> 434</td><td> 56 </td><td> 166</td><td> 12 </td></tr>\n",
       "</tbody>\n",
       "</table>\n"
      ],
      "text/latex": [
       "\\begin{tabular}{r|llllllll}\n",
       "  & No High School Degree & High School Degree & Some College & Associates Degree & Bachelors Degree & Professional Degree & Masters Degree & Doctorate\\\\\n",
       "\\hline\n",
       "\tWhite & 704  & 5065 & 4568 & 2099 & 5297 & 593  & 2277 & 351 \\\\\n",
       "\tAsian & 107  &  198 &  185 &  112 &  521 &  83  &  269 &  80 \\\\\n",
       "\tBlack & 173  &  694 &  715 &  240 &  438 &  30  &  242 &  29 \\\\\n",
       "\tHispanic & 789  &  910 &  735 &  260 &  434 &  56  &  166 &  12 \\\\\n",
       "\\end{tabular}\n"
      ],
      "text/markdown": [
       "\n",
       "| <!--/--> | No High School Degree | High School Degree | Some College | Associates Degree | Bachelors Degree | Professional Degree | Masters Degree | Doctorate | \n",
       "|---|---|---|---|\n",
       "| White | 704  | 5065 | 4568 | 2099 | 5297 | 593  | 2277 | 351  | \n",
       "| Asian | 107  |  198 |  185 |  112 |  521 |  83  |  269 |  80  | \n",
       "| Black | 173  |  694 |  715 |  240 |  438 |  30  |  242 |  29  | \n",
       "| Hispanic | 789  |  910 |  735 |  260 |  434 |  56  |  166 |  12  | \n",
       "\n",
       "\n"
      ],
      "text/plain": [
       "         No High School Degree High School Degree Some College\n",
       "White    704                   5065               4568        \n",
       "Asian    107                    198                185        \n",
       "Black    173                    694                715        \n",
       "Hispanic 789                    910                735        \n",
       "         Associates Degree Bachelors Degree Professional Degree Masters Degree\n",
       "White    2099              5297             593                 2277          \n",
       "Asian     112               521              83                  269          \n",
       "Black     240               438              30                  242          \n",
       "Hispanic  260               434              56                  166          \n",
       "         Doctorate\n",
       "White    351      \n",
       "Asian     80      \n",
       "Black     29      \n",
       "Hispanic  12      "
      ]
     },
     "metadata": {},
     "output_type": "display_data"
    },
    {
     "data": {
      "text/html": [
       "<table>\n",
       "<thead><tr><th></th><th scope=col>No High School Degree</th><th scope=col>High School Degree</th><th scope=col>Some College</th><th scope=col>Associates Degree</th><th scope=col>Bachelors Degree</th><th scope=col>Professional Degree</th><th scope=col>Masters Degree</th><th scope=col>Doctorate</th></tr></thead>\n",
       "<tbody>\n",
       "\t<tr><th scope=row>White</th><td>31000 </td><td>36000 </td><td>41000 </td><td>45000 </td><td>58000 </td><td>110000</td><td>66000 </td><td>81000 </td></tr>\n",
       "\t<tr><th scope=row>Asian</th><td>25000 </td><td>30000 </td><td>40000 </td><td>43600 </td><td>62000 </td><td>120000</td><td>80000 </td><td>93000 </td></tr>\n",
       "\t<tr><th scope=row>Black</th><td>27000 </td><td>30000 </td><td>34000 </td><td>37150 </td><td>50000 </td><td> 89500</td><td>59500 </td><td>70000 </td></tr>\n",
       "\t<tr><th scope=row>Hispanic</th><td>25000 </td><td>30000 </td><td>33300 </td><td>40000 </td><td>46000 </td><td> 70000</td><td>60000 </td><td>69000 </td></tr>\n",
       "</tbody>\n",
       "</table>\n"
      ],
      "text/latex": [
       "\\begin{tabular}{r|llllllll}\n",
       "  & No High School Degree & High School Degree & Some College & Associates Degree & Bachelors Degree & Professional Degree & Masters Degree & Doctorate\\\\\n",
       "\\hline\n",
       "\tWhite & 31000  & 36000  & 41000  & 45000  & 58000  & 110000 & 66000  & 81000 \\\\\n",
       "\tAsian & 25000  & 30000  & 40000  & 43600  & 62000  & 120000 & 80000  & 93000 \\\\\n",
       "\tBlack & 27000  & 30000  & 34000  & 37150  & 50000  &  89500 & 59500  & 70000 \\\\\n",
       "\tHispanic & 25000  & 30000  & 33300  & 40000  & 46000  &  70000 & 60000  & 69000 \\\\\n",
       "\\end{tabular}\n"
      ],
      "text/markdown": [
       "\n",
       "| <!--/--> | No High School Degree | High School Degree | Some College | Associates Degree | Bachelors Degree | Professional Degree | Masters Degree | Doctorate | \n",
       "|---|---|---|---|\n",
       "| White | 31000  | 36000  | 41000  | 45000  | 58000  | 110000 | 66000  | 81000  | \n",
       "| Asian | 25000  | 30000  | 40000  | 43600  | 62000  | 120000 | 80000  | 93000  | \n",
       "| Black | 27000  | 30000  | 34000  | 37150  | 50000  |  89500 | 59500  | 70000  | \n",
       "| Hispanic | 25000  | 30000  | 33300  | 40000  | 46000  |  70000 | 60000  | 69000  | \n",
       "\n",
       "\n"
      ],
      "text/plain": [
       "         No High School Degree High School Degree Some College\n",
       "White    31000                 36000              41000       \n",
       "Asian    25000                 30000              40000       \n",
       "Black    27000                 30000              34000       \n",
       "Hispanic 25000                 30000              33300       \n",
       "         Associates Degree Bachelors Degree Professional Degree Masters Degree\n",
       "White    45000             58000            110000              66000         \n",
       "Asian    43600             62000            120000              80000         \n",
       "Black    37150             50000             89500              59500         \n",
       "Hispanic 40000             46000             70000              60000         \n",
       "         Doctorate\n",
       "White    81000    \n",
       "Asian    93000    \n",
       "Black    70000    \n",
       "Hispanic 69000    "
      ]
     },
     "metadata": {},
     "output_type": "display_data"
    },
    {
     "data": {
      "text/html": [
       "<table>\n",
       "<thead><tr><th></th><th scope=col>No High School Degree</th><th scope=col>High School Degree</th><th scope=col>Some College</th><th scope=col>Associates Degree</th><th scope=col>Bachelors Degree</th><th scope=col>Professional Degree</th><th scope=col>Masters Degree</th><th scope=col>Doctorate</th></tr></thead>\n",
       "<tbody>\n",
       "\t<tr><th scope=row>White</th><td>152000</td><td>507000</td><td>507000</td><td>398000</td><td>577000</td><td>507000</td><td>577000</td><td>507000</td></tr>\n",
       "\t<tr><th scope=row>Asian</th><td>210000</td><td>241000</td><td>301000</td><td>217000</td><td>507000</td><td>450000</td><td>491000</td><td>450000</td></tr>\n",
       "\t<tr><th scope=row>Black</th><td>400000</td><td>230000</td><td>250000</td><td>127000</td><td>491000</td><td>318000</td><td>399000</td><td>150000</td></tr>\n",
       "\t<tr><th scope=row>Hispanic</th><td>285000</td><td>150000</td><td>360000</td><td>340000</td><td>398000</td><td>507000</td><td>360000</td><td>330000</td></tr>\n",
       "</tbody>\n",
       "</table>\n"
      ],
      "text/latex": [
       "\\begin{tabular}{r|llllllll}\n",
       "  & No High School Degree & High School Degree & Some College & Associates Degree & Bachelors Degree & Professional Degree & Masters Degree & Doctorate\\\\\n",
       "\\hline\n",
       "\tWhite & 152000 & 507000 & 507000 & 398000 & 577000 & 507000 & 577000 & 507000\\\\\n",
       "\tAsian & 210000 & 241000 & 301000 & 217000 & 507000 & 450000 & 491000 & 450000\\\\\n",
       "\tBlack & 400000 & 230000 & 250000 & 127000 & 491000 & 318000 & 399000 & 150000\\\\\n",
       "\tHispanic & 285000 & 150000 & 360000 & 340000 & 398000 & 507000 & 360000 & 330000\\\\\n",
       "\\end{tabular}\n"
      ],
      "text/markdown": [
       "\n",
       "| <!--/--> | No High School Degree | High School Degree | Some College | Associates Degree | Bachelors Degree | Professional Degree | Masters Degree | Doctorate | \n",
       "|---|---|---|---|\n",
       "| White | 152000 | 507000 | 507000 | 398000 | 577000 | 507000 | 577000 | 507000 | \n",
       "| Asian | 210000 | 241000 | 301000 | 217000 | 507000 | 450000 | 491000 | 450000 | \n",
       "| Black | 400000 | 230000 | 250000 | 127000 | 491000 | 318000 | 399000 | 150000 | \n",
       "| Hispanic | 285000 | 150000 | 360000 | 340000 | 398000 | 507000 | 360000 | 330000 | \n",
       "\n",
       "\n"
      ],
      "text/plain": [
       "         No High School Degree High School Degree Some College\n",
       "White    152000                507000             507000      \n",
       "Asian    210000                241000             301000      \n",
       "Black    400000                230000             250000      \n",
       "Hispanic 285000                150000             360000      \n",
       "         Associates Degree Bachelors Degree Professional Degree Masters Degree\n",
       "White    398000            577000           507000              577000        \n",
       "Asian    217000            507000           450000              491000        \n",
       "Black    127000            491000           318000              399000        \n",
       "Hispanic 340000            398000           507000              360000        \n",
       "         Doctorate\n",
       "White    507000   \n",
       "Asian    450000   \n",
       "Black    150000   \n",
       "Hispanic 330000   "
      ]
     },
     "metadata": {},
     "output_type": "display_data"
    },
    {
     "data": {
      "text/html": [
       "<table>\n",
       "<thead><tr><th></th><th scope=col>No High School Degree</th><th scope=col>High School Degree</th><th scope=col>Some College</th><th scope=col>Associates Degree</th><th scope=col>Bachelors Degree</th><th scope=col>Professional Degree</th><th scope=col>Masters Degree</th><th scope=col>Doctorate</th></tr></thead>\n",
       "<tbody>\n",
       "\t<tr><th scope=row>White</th><td>15100</td><td>15100</td><td>15100</td><td>15500</td><td>15200</td><td>17400</td><td>15600</td><td>16300</td></tr>\n",
       "\t<tr><th scope=row>Asian</th><td>15400</td><td>15600</td><td>15200</td><td>15400</td><td>15600</td><td>22500</td><td>18000</td><td>24000</td></tr>\n",
       "\t<tr><th scope=row>Black</th><td>15500</td><td>15400</td><td>15400</td><td>16800</td><td>15100</td><td>15700</td><td>17200</td><td>34800</td></tr>\n",
       "\t<tr><th scope=row>Hispanic</th><td>15100</td><td>15400</td><td>15300</td><td>15600</td><td>15600</td><td>16000</td><td>18000</td><td>18000</td></tr>\n",
       "</tbody>\n",
       "</table>\n"
      ],
      "text/latex": [
       "\\begin{tabular}{r|llllllll}\n",
       "  & No High School Degree & High School Degree & Some College & Associates Degree & Bachelors Degree & Professional Degree & Masters Degree & Doctorate\\\\\n",
       "\\hline\n",
       "\tWhite & 15100 & 15100 & 15100 & 15500 & 15200 & 17400 & 15600 & 16300\\\\\n",
       "\tAsian & 15400 & 15600 & 15200 & 15400 & 15600 & 22500 & 18000 & 24000\\\\\n",
       "\tBlack & 15500 & 15400 & 15400 & 16800 & 15100 & 15700 & 17200 & 34800\\\\\n",
       "\tHispanic & 15100 & 15400 & 15300 & 15600 & 15600 & 16000 & 18000 & 18000\\\\\n",
       "\\end{tabular}\n"
      ],
      "text/markdown": [
       "\n",
       "| <!--/--> | No High School Degree | High School Degree | Some College | Associates Degree | Bachelors Degree | Professional Degree | Masters Degree | Doctorate | \n",
       "|---|---|---|---|\n",
       "| White | 15100 | 15100 | 15100 | 15500 | 15200 | 17400 | 15600 | 16300 | \n",
       "| Asian | 15400 | 15600 | 15200 | 15400 | 15600 | 22500 | 18000 | 24000 | \n",
       "| Black | 15500 | 15400 | 15400 | 16800 | 15100 | 15700 | 17200 | 34800 | \n",
       "| Hispanic | 15100 | 15400 | 15300 | 15600 | 15600 | 16000 | 18000 | 18000 | \n",
       "\n",
       "\n"
      ],
      "text/plain": [
       "         No High School Degree High School Degree Some College\n",
       "White    15100                 15100              15100       \n",
       "Asian    15400                 15600              15200       \n",
       "Black    15500                 15400              15400       \n",
       "Hispanic 15100                 15400              15300       \n",
       "         Associates Degree Bachelors Degree Professional Degree Masters Degree\n",
       "White    15500             15200            17400               15600         \n",
       "Asian    15400             15600            22500               18000         \n",
       "Black    16800             15100            15700               17200         \n",
       "Hispanic 15600             15600            16000               18000         \n",
       "         Doctorate\n",
       "White    16300    \n",
       "Asian    24000    \n",
       "Black    34800    \n",
       "Hispanic 18000    "
      ]
     },
     "metadata": {},
     "output_type": "display_data"
    },
    {
     "data": {
      "text/html": [
       "<table>\n",
       "<thead><tr><th></th><th scope=col>No High School Degree</th><th scope=col>High School Degree</th><th scope=col>Some College</th><th scope=col>Associates Degree</th><th scope=col>Bachelors Degree</th><th scope=col>Professional Degree</th><th scope=col>Masters Degree</th><th scope=col>Doctorate</th></tr></thead>\n",
       "<tbody>\n",
       "\t<tr><th scope=row>White</th><td>21397.94 </td><td>29818.16 </td><td>34964.69 </td><td>34607.31 </td><td>62277.52 </td><td>119485.74</td><td>74882.33 </td><td>83224.76 </td></tr>\n",
       "\t<tr><th scope=row>Asian</th><td>24810.20 </td><td>23142.11 </td><td>29569.80 </td><td>31793.96 </td><td>57705.00 </td><td>125795.45</td><td>66344.57 </td><td>85981.12 </td></tr>\n",
       "\t<tr><th scope=row>Black</th><td>32854.05 </td><td>18891.01 </td><td>21772.74 </td><td>21489.17 </td><td>39510.40 </td><td> 72451.74</td><td>48149.19 </td><td>31532.82 </td></tr>\n",
       "\t<tr><th scope=row>Hispanic</th><td>17118.35 </td><td>18372.10 </td><td>27712.93 </td><td>30304.78 </td><td>43948.80 </td><td>110893.90</td><td>52072.52 </td><td>78554.94 </td></tr>\n",
       "</tbody>\n",
       "</table>\n"
      ],
      "text/latex": [
       "\\begin{tabular}{r|llllllll}\n",
       "  & No High School Degree & High School Degree & Some College & Associates Degree & Bachelors Degree & Professional Degree & Masters Degree & Doctorate\\\\\n",
       "\\hline\n",
       "\tWhite & 21397.94  & 29818.16  & 34964.69  & 34607.31  & 62277.52  & 119485.74 & 74882.33  & 83224.76 \\\\\n",
       "\tAsian & 24810.20  & 23142.11  & 29569.80  & 31793.96  & 57705.00  & 125795.45 & 66344.57  & 85981.12 \\\\\n",
       "\tBlack & 32854.05  & 18891.01  & 21772.74  & 21489.17  & 39510.40  &  72451.74 & 48149.19  & 31532.82 \\\\\n",
       "\tHispanic & 17118.35  & 18372.10  & 27712.93  & 30304.78  & 43948.80  & 110893.90 & 52072.52  & 78554.94 \\\\\n",
       "\\end{tabular}\n"
      ],
      "text/markdown": [
       "\n",
       "| <!--/--> | No High School Degree | High School Degree | Some College | Associates Degree | Bachelors Degree | Professional Degree | Masters Degree | Doctorate | \n",
       "|---|---|---|---|\n",
       "| White | 21397.94  | 29818.16  | 34964.69  | 34607.31  | 62277.52  | 119485.74 | 74882.33  | 83224.76  | \n",
       "| Asian | 24810.20  | 23142.11  | 29569.80  | 31793.96  | 57705.00  | 125795.45 | 66344.57  | 85981.12  | \n",
       "| Black | 32854.05  | 18891.01  | 21772.74  | 21489.17  | 39510.40  |  72451.74 | 48149.19  | 31532.82  | \n",
       "| Hispanic | 17118.35  | 18372.10  | 27712.93  | 30304.78  | 43948.80  | 110893.90 | 52072.52  | 78554.94  | \n",
       "\n",
       "\n"
      ],
      "text/plain": [
       "         No High School Degree High School Degree Some College\n",
       "White    21397.94              29818.16           34964.69    \n",
       "Asian    24810.20              23142.11           29569.80    \n",
       "Black    32854.05              18891.01           21772.74    \n",
       "Hispanic 17118.35              18372.10           27712.93    \n",
       "         Associates Degree Bachelors Degree Professional Degree Masters Degree\n",
       "White    34607.31          62277.52         119485.74           74882.33      \n",
       "Asian    31793.96          57705.00         125795.45           66344.57      \n",
       "Black    21489.17          39510.40          72451.74           48149.19      \n",
       "Hispanic 30304.78          43948.80         110893.90           52072.52      \n",
       "         Doctorate\n",
       "White    83224.76 \n",
       "Asian    85981.12 \n",
       "Black    31532.82 \n",
       "Hispanic 78554.94 "
      ]
     },
     "metadata": {},
     "output_type": "display_data"
    },
    {
     "data": {
      "text/html": [
       "<table>\n",
       "<thead><tr><th></th><th scope=col>No High School Degree</th><th scope=col>High School Degree</th><th scope=col>Some College</th><th scope=col>Associates Degree</th><th scope=col>Bachelors Degree</th><th scope=col>Professional Degree</th><th scope=col>Masters Degree</th><th scope=col>Doctorate</th></tr></thead>\n",
       "<tbody>\n",
       "\t<tr><th scope=row>White</th><td>37974.57 </td><td>43240.16 </td><td>49980.43 </td><td>51984.14 </td><td>74162.19 </td><td>154120.7 </td><td>86783.05 </td><td>106358.69</td></tr>\n",
       "\t<tr><th scope=row>Asian</th><td>32782.24 </td><td>35315.66 </td><td>46150.27 </td><td>51620.54 </td><td>73968.71 </td><td>171861.4 </td><td>93925.65 </td><td>112262.50</td></tr>\n",
       "\t<tr><th scope=row>Black</th><td>34373.99 </td><td>35208.50 </td><td>39825.17 </td><td>43522.08 </td><td>56015.98 </td><td>108073.3 </td><td>70473.97 </td><td> 76682.76</td></tr>\n",
       "\t<tr><th scope=row>Hispanic</th><td>30264.26 </td><td>35973.08 </td><td>40952.24 </td><td>47983.85 </td><td>56597.93 </td><td>107173.2 </td><td>72227.71 </td><td> 92833.33</td></tr>\n",
       "</tbody>\n",
       "</table>\n"
      ],
      "text/latex": [
       "\\begin{tabular}{r|llllllll}\n",
       "  & No High School Degree & High School Degree & Some College & Associates Degree & Bachelors Degree & Professional Degree & Masters Degree & Doctorate\\\\\n",
       "\\hline\n",
       "\tWhite & 37974.57  & 43240.16  & 49980.43  & 51984.14  & 74162.19  & 154120.7  & 86783.05  & 106358.69\\\\\n",
       "\tAsian & 32782.24  & 35315.66  & 46150.27  & 51620.54  & 73968.71  & 171861.4  & 93925.65  & 112262.50\\\\\n",
       "\tBlack & 34373.99  & 35208.50  & 39825.17  & 43522.08  & 56015.98  & 108073.3  & 70473.97  &  76682.76\\\\\n",
       "\tHispanic & 30264.26  & 35973.08  & 40952.24  & 47983.85  & 56597.93  & 107173.2  & 72227.71  &  92833.33\\\\\n",
       "\\end{tabular}\n"
      ],
      "text/markdown": [
       "\n",
       "| <!--/--> | No High School Degree | High School Degree | Some College | Associates Degree | Bachelors Degree | Professional Degree | Masters Degree | Doctorate | \n",
       "|---|---|---|---|\n",
       "| White | 37974.57  | 43240.16  | 49980.43  | 51984.14  | 74162.19  | 154120.7  | 86783.05  | 106358.69 | \n",
       "| Asian | 32782.24  | 35315.66  | 46150.27  | 51620.54  | 73968.71  | 171861.4  | 93925.65  | 112262.50 | \n",
       "| Black | 34373.99  | 35208.50  | 39825.17  | 43522.08  | 56015.98  | 108073.3  | 70473.97  |  76682.76 | \n",
       "| Hispanic | 30264.26  | 35973.08  | 40952.24  | 47983.85  | 56597.93  | 107173.2  | 72227.71  |  92833.33 | \n",
       "\n",
       "\n"
      ],
      "text/plain": [
       "         No High School Degree High School Degree Some College\n",
       "White    37974.57              43240.16           49980.43    \n",
       "Asian    32782.24              35315.66           46150.27    \n",
       "Black    34373.99              35208.50           39825.17    \n",
       "Hispanic 30264.26              35973.08           40952.24    \n",
       "         Associates Degree Bachelors Degree Professional Degree Masters Degree\n",
       "White    51984.14          74162.19         154120.7            86783.05      \n",
       "Asian    51620.54          73968.71         171861.4            93925.65      \n",
       "Black    43522.08          56015.98         108073.3            70473.97      \n",
       "Hispanic 47983.85          56597.93         107173.2            72227.71      \n",
       "         Doctorate\n",
       "White    106358.69\n",
       "Asian    112262.50\n",
       "Black     76682.76\n",
       "Hispanic  92833.33"
      ]
     },
     "metadata": {},
     "output_type": "display_data"
    }
   ],
   "source": [
    "# subsample descriptive statistics in table form\n",
    "tapply(lma_filtered_ethnicity$Earnings.Past.12.Months,list(lma_filtered_ethnicity$Race.Ethnicity, lma_filtered_ethnicity$Educational.Attainment),length)\n",
    "tapply(lma_filtered_ethnicity$Earnings.Past.12.Months,list(lma_filtered_ethnicity$Race.Ethnicity, lma_filtered_ethnicity$Educational.Attainment),median)\n",
    "tapply(lma_filtered_ethnicity$Earnings.Past.12.Months,list(lma_filtered_ethnicity$Race.Ethnicity, lma_filtered_ethnicity$Educational.Attainment),max)\n",
    "tapply(lma_filtered_ethnicity$Earnings.Past.12.Months,list(lma_filtered_ethnicity$Race.Ethnicity, lma_filtered_ethnicity$Educational.Attainment),min)\n",
    "tapply(lma_filtered_ethnicity$Earnings.Past.12.Months,list(lma_filtered_ethnicity$Race.Ethnicity, lma_filtered_ethnicity$Educational.Attainment),sd)\n",
    "tapply(lma_filtered_ethnicity$Earnings.Past.12.Months,list(lma_filtered_ethnicity$Race.Ethnicity, lma_filtered_ethnicity$Educational.Attainment),mean)\n"
   ]
  },
  {
   "cell_type": "code",
   "execution_count": 39,
   "metadata": {},
   "outputs": [
    {
     "data": {
      "text/html": [
       "<table>\n",
       "<thead><tr><th></th><th scope=col>No High School Degree</th><th scope=col>High School Degree</th><th scope=col>Some College</th><th scope=col>Associates Degree</th><th scope=col>Bachelors Degree</th><th scope=col>Professional Degree</th><th scope=col>Masters Degree</th><th scope=col>Doctorate</th></tr></thead>\n",
       "<tbody>\n",
       "\t<tr><th scope=row>Male</th><td>1243</td><td>4193</td><td>3428</td><td>1325</td><td>3560</td><td>457 </td><td>1433</td><td>300 </td></tr>\n",
       "\t<tr><th scope=row>Female</th><td> 530</td><td>2674</td><td>2775</td><td>1386</td><td>3130</td><td>305 </td><td>1521</td><td>172 </td></tr>\n",
       "</tbody>\n",
       "</table>\n"
      ],
      "text/latex": [
       "\\begin{tabular}{r|llllllll}\n",
       "  & No High School Degree & High School Degree & Some College & Associates Degree & Bachelors Degree & Professional Degree & Masters Degree & Doctorate\\\\\n",
       "\\hline\n",
       "\tMale & 1243 & 4193 & 3428 & 1325 & 3560 & 457  & 1433 & 300 \\\\\n",
       "\tFemale &  530 & 2674 & 2775 & 1386 & 3130 & 305  & 1521 & 172 \\\\\n",
       "\\end{tabular}\n"
      ],
      "text/markdown": [
       "\n",
       "| <!--/--> | No High School Degree | High School Degree | Some College | Associates Degree | Bachelors Degree | Professional Degree | Masters Degree | Doctorate | \n",
       "|---|---|\n",
       "| Male | 1243 | 4193 | 3428 | 1325 | 3560 | 457  | 1433 | 300  | \n",
       "| Female |  530 | 2674 | 2775 | 1386 | 3130 | 305  | 1521 | 172  | \n",
       "\n",
       "\n"
      ],
      "text/plain": [
       "       No High School Degree High School Degree Some College Associates Degree\n",
       "Male   1243                  4193               3428         1325             \n",
       "Female  530                  2674               2775         1386             \n",
       "       Bachelors Degree Professional Degree Masters Degree Doctorate\n",
       "Male   3560             457                 1433           300      \n",
       "Female 3130             305                 1521           172      "
      ]
     },
     "metadata": {},
     "output_type": "display_data"
    },
    {
     "data": {
      "text/plain": [
       "        \n",
       "         No High School Degree High School Degree Some College\n",
       "  Male               0.7010716          0.6106014    0.5526358\n",
       "  Female             0.2989284          0.3893986    0.4473642\n",
       "        \n",
       "         Associates Degree Bachelors Degree Professional Degree Masters Degree\n",
       "  Male           0.4887495        0.5321375           0.5997375      0.4851049\n",
       "  Female         0.5112505        0.4678625           0.4002625      0.5148951\n",
       "        \n",
       "         Doctorate\n",
       "  Male   0.6355932\n",
       "  Female 0.3644068"
      ]
     },
     "metadata": {},
     "output_type": "display_data"
    },
    {
     "data": {
      "text/plain": [
       "           \n",
       "            No High School Degree High School Degree Some College\n",
       "  Unmarried             0.4043993          0.3815349    0.3930356\n",
       "  Married               0.5956007          0.6184651    0.6069644\n",
       "           \n",
       "            Associates Degree Bachelors Degree Professional Degree\n",
       "  Unmarried         0.3526374        0.3473842           0.2637795\n",
       "  Married           0.6473626        0.6526158           0.7362205\n",
       "           \n",
       "            Masters Degree Doctorate\n",
       "  Unmarried      0.2921462 0.2627119\n",
       "  Married        0.7078538 0.7372881"
      ]
     },
     "metadata": {},
     "output_type": "display_data"
    }
   ],
   "source": [
    "tapply(lma_filtered_ethnicity$Earnings.Past.12.Months,list(lma_filtered_ethnicity$Female, lma_filtered_ethnicity$Educational.Attainment),length)\n",
    "\n",
    "# Percentage by Gender for each Educational Attainment\n",
    "prop.table(table(lma_filtered_ethnicity$Female, lma_filtered_ethnicity$Educational.Attainment), 2)\n",
    "\n",
    "# Percentage by Married for each Educational Attainment\n",
    "prop.table(table(lma_filtered_ethnicity$Married, lma_filtered_ethnicity$Educational.Attainment), 2)\n"
   ]
  },
  {
   "cell_type": "code",
   "execution_count": 40,
   "metadata": {},
   "outputs": [
    {
     "data": {},
     "metadata": {},
     "output_type": "display_data"
    },
    {
     "data": {
      "image/png": "[encoded data removed]",
      "text/plain": [
       "plot without title"
      ]
     },
     "metadata": {},
     "output_type": "display_data"
    }
   ],
   "source": [
    "# How does average earnings look across ages and split by ethnicity?\n",
    "lma_filtered_ethnicity %>%\n",
    "  group_by(Age, Race.Ethnicity) %>%\n",
    "  summarise(avg_earnings = mean(Earnings.Past.12.Months)) %>%\n",
    "  ggplot(aes(x = Age, y = avg_earnings, color = Race.Ethnicity)) +\n",
    "  geom_line() + \n",
    "  theme_minimal()"
   ]
  },
  {
   "cell_type": "markdown",
   "metadata": {},
   "source": [
    "#### White, Black and Hispanic have in general upward trending graphs\n",
    "\n",
    "#### Asian appears more variable across ages\n",
    "\n",
    "#### Shape indicates quadradic for Age\n",
    "\n",
    "### Updated Econometric Estimates"
   ]
  },
  {
   "cell_type": "code",
   "execution_count": 41,
   "metadata": {},
   "outputs": [
    {
     "data": {
      "text/plain": [
       "\n",
       "Call:\n",
       "lm(formula = log(Earnings.Past.12.Months) ~ Age + I(Age^2) + \n",
       "    Female + Married + Educational.Attainment + Race.Ethnicity, \n",
       "    data = lma_filtered_ethnicity)\n",
       "\n",
       "Residuals:\n",
       "     Min       1Q   Median       3Q      Max \n",
       "-2.06302 -0.32844 -0.02557  0.29461  2.74961 \n",
       "\n",
       "Coefficients:\n",
       "                                            Estimate Std. Error t value\n",
       "(Intercept)                                8.897e+00  4.325e-02 205.698\n",
       "Age                                        6.310e-02  2.045e-03  30.851\n",
       "I(Age^2)                                  -6.118e-04  2.364e-05 -25.886\n",
       "FemaleFemale                              -2.648e-01  6.093e-03 -43.454\n",
       "MarriedMarried                             8.734e-02  6.539e-03  13.358\n",
       "Educational.AttainmentHigh School Degree   1.609e-01  1.373e-02  11.716\n",
       "Educational.AttainmentSome College         3.165e-01  1.392e-02  22.731\n",
       "Educational.AttainmentAssociates Degree    3.865e-01  1.577e-02  24.504\n",
       "Educational.AttainmentBachelors Degree     6.641e-01  1.399e-02  47.467\n",
       "Educational.AttainmentProfessional Degree  1.240e+00  2.207e-02  56.179\n",
       "Educational.AttainmentMasters Degree       8.186e-01  1.562e-02  52.390\n",
       "Educational.AttainmentDoctorate            9.507e-01  2.634e-02  36.087\n",
       "Race.EthnicityAsian                        3.598e-04  1.330e-02   0.027\n",
       "Race.EthnicityBlack                       -1.137e-01  1.066e-02 -10.664\n",
       "Race.EthnicityHispanic                    -1.169e-01  9.800e-03 -11.932\n",
       "                                          Pr(>|t|)    \n",
       "(Intercept)                                 <2e-16 ***\n",
       "Age                                         <2e-16 ***\n",
       "I(Age^2)                                    <2e-16 ***\n",
       "FemaleFemale                                <2e-16 ***\n",
       "MarriedMarried                              <2e-16 ***\n",
       "Educational.AttainmentHigh School Degree    <2e-16 ***\n",
       "Educational.AttainmentSome College          <2e-16 ***\n",
       "Educational.AttainmentAssociates Degree     <2e-16 ***\n",
       "Educational.AttainmentBachelors Degree      <2e-16 ***\n",
       "Educational.AttainmentProfessional Degree   <2e-16 ***\n",
       "Educational.AttainmentMasters Degree        <2e-16 ***\n",
       "Educational.AttainmentDoctorate             <2e-16 ***\n",
       "Race.EthnicityAsian                          0.978    \n",
       "Race.EthnicityBlack                         <2e-16 ***\n",
       "Race.EthnicityHispanic                      <2e-16 ***\n",
       "---\n",
       "Signif. codes:  0 '***' 0.001 '**' 0.01 '*' 0.05 '.' 0.1 ' ' 1\n",
       "\n",
       "Residual standard error: 0.5016 on 28417 degrees of freedom\n",
       "Multiple R-squared:  0.3478,\tAdjusted R-squared:  0.3475 \n",
       "F-statistic:  1082 on 14 and 28417 DF,  p-value: < 2.2e-16\n"
      ]
     },
     "metadata": {},
     "output_type": "display_data"
    }
   ],
   "source": [
    "# Add Age^2, ln(Earnings.Past.12.Months)\n",
    "updated <- lm(log(Earnings.Past.12.Months) ~ Age + I(Age^2) + Female + Married + Educational.Attainment + Race.Ethnicity, data = lma_filtered_ethnicity)\n",
    "summary(updated)"
   ]
  },
  {
   "cell_type": "code",
   "execution_count": 42,
   "metadata": {},
   "outputs": [
    {
     "name": "stdout",
     "output_type": "stream",
     "text": [
      "\n",
      "=======================================================================\n",
      "                                               Dependent variable:     \n",
      "                                          -----------------------------\n",
      "                                          log(Earnings.Past.12.Months) \n",
      "-----------------------------------------------------------------------\n",
      "Age                                                 0.063***           \n",
      "                                                     (0.002)           \n",
      "                                                                       \n",
      "I(Age2)                                             -0.001***          \n",
      "                                                    (0.00002)          \n",
      "                                                                       \n",
      "FemaleFemale                                        -0.265***          \n",
      "                                                     (0.006)           \n",
      "                                                                       \n",
      "MarriedMarried                                      0.087***           \n",
      "                                                     (0.007)           \n",
      "                                                                       \n",
      "Educational.AttainmentHigh School Degree            0.161***           \n",
      "                                                     (0.014)           \n",
      "                                                                       \n",
      "Educational.AttainmentSome College                  0.317***           \n",
      "                                                     (0.014)           \n",
      "                                                                       \n",
      "Educational.AttainmentAssociates Degree             0.387***           \n",
      "                                                     (0.016)           \n",
      "                                                                       \n",
      "Educational.AttainmentBachelors Degree              0.664***           \n",
      "                                                     (0.014)           \n",
      "                                                                       \n",
      "Educational.AttainmentProfessional Degree           1.240***           \n",
      "                                                     (0.022)           \n",
      "                                                                       \n",
      "Educational.AttainmentMasters Degree                0.819***           \n",
      "                                                     (0.016)           \n",
      "                                                                       \n",
      "Educational.AttainmentDoctorate                     0.951***           \n",
      "                                                     (0.026)           \n",
      "                                                                       \n",
      "Race.EthnicityAsian                                  0.0004            \n",
      "                                                     (0.013)           \n",
      "                                                                       \n",
      "Race.EthnicityBlack                                 -0.114***          \n",
      "                                                     (0.011)           \n",
      "                                                                       \n",
      "Race.EthnicityHispanic                              -0.117***          \n",
      "                                                     (0.010)           \n",
      "                                                                       \n",
      "Constant                                            8.897***           \n",
      "                                                     (0.043)           \n",
      "                                                                       \n",
      "-----------------------------------------------------------------------\n",
      "Observations                                         28,432            \n",
      "R2                                                    0.348            \n",
      "Adjusted R2                                           0.347            \n",
      "Residual Std. Error                            0.502 (df = 28417)      \n",
      "F Statistic                               1,082.375*** (df = 14; 28417)\n",
      "=======================================================================\n",
      "Note:                                       *p<0.1; **p<0.05; ***p<0.01\n"
     ]
    }
   ],
   "source": [
    "stargazer(updated, type=\"text\")"
   ]
  },
  {
   "cell_type": "markdown",
   "metadata": {},
   "source": [
    "### Models by Ethnicity"
   ]
  },
  {
   "cell_type": "code",
   "execution_count": 43,
   "metadata": {},
   "outputs": [
    {
     "data": {
      "text/plain": [
       "\n",
       "Call:\n",
       "lm(formula = log(Earnings.Past.12.Months) ~ Age + I(Age^2) + \n",
       "    Female + Married + Educational.Attainment, data = lma_filtered_ethnicity[lma_filtered_ethnicity$Race.Ethnicity == \n",
       "    \"White\", ])\n",
       "\n",
       "Residuals:\n",
       "     Min       1Q   Median       3Q      Max \n",
       "-2.06830 -0.33215 -0.02354  0.29668  2.78265 \n",
       "\n",
       "Coefficients:\n",
       "                                            Estimate Std. Error t value\n",
       "(Intercept)                                8.766e+00  5.292e-02 165.645\n",
       "Age                                        7.021e-02  2.434e-03  28.847\n",
       "I(Age^2)                                  -6.839e-04  2.796e-05 -24.457\n",
       "FemaleFemale                              -2.944e-01  7.177e-03 -41.025\n",
       "MarriedMarried                             1.023e-01  7.770e-03  13.164\n",
       "Educational.AttainmentHigh School Degree   1.291e-01  2.048e-02   6.305\n",
       "Educational.AttainmentSome College         2.851e-01  2.063e-02  13.817\n",
       "Educational.AttainmentAssociates Degree    3.448e-01  2.223e-02  15.511\n",
       "Educational.AttainmentBachelors Degree     6.390e-01  2.048e-02  31.209\n",
       "Educational.AttainmentProfessional Degree  1.213e+00  2.840e-02  42.722\n",
       "Educational.AttainmentMasters Degree       7.780e-01  2.203e-02  35.308\n",
       "Educational.AttainmentDoctorate            9.100e-01  3.328e-02  27.342\n",
       "                                          Pr(>|t|)    \n",
       "(Intercept)                                < 2e-16 ***\n",
       "Age                                        < 2e-16 ***\n",
       "I(Age^2)                                   < 2e-16 ***\n",
       "FemaleFemale                               < 2e-16 ***\n",
       "MarriedMarried                             < 2e-16 ***\n",
       "Educational.AttainmentHigh School Degree  2.94e-10 ***\n",
       "Educational.AttainmentSome College         < 2e-16 ***\n",
       "Educational.AttainmentAssociates Degree    < 2e-16 ***\n",
       "Educational.AttainmentBachelors Degree     < 2e-16 ***\n",
       "Educational.AttainmentProfessional Degree  < 2e-16 ***\n",
       "Educational.AttainmentMasters Degree       < 2e-16 ***\n",
       "Educational.AttainmentDoctorate            < 2e-16 ***\n",
       "---\n",
       "Signif. codes:  0 '***' 0.001 '**' 0.01 '*' 0.05 '.' 0.1 ' ' 1\n",
       "\n",
       "Residual standard error: 0.5089 on 20942 degrees of freedom\n",
       "Multiple R-squared:  0.3302,\tAdjusted R-squared:  0.3299 \n",
       "F-statistic: 938.7 on 11 and 20942 DF,  p-value: < 2.2e-16\n"
      ]
     },
     "metadata": {},
     "output_type": "display_data"
    }
   ],
   "source": [
    "# Create 4 models - one for each ethnicity (White, Asian, Black, Hispanic)\n",
    "lma_white <- lm(log(Earnings.Past.12.Months) ~ Age + I(Age^2) + Female + Married + Educational.Attainment, data = lma_filtered_ethnicity[lma_filtered_ethnicity$Race.Ethnicity == \"White\",])\n",
    "summary(lma_white)\n"
   ]
  },
  {
   "cell_type": "code",
   "execution_count": 44,
   "metadata": {},
   "outputs": [
    {
     "data": {
      "text/plain": [
       "\n",
       "Call:\n",
       "lm(formula = log(Earnings.Past.12.Months) ~ Age + I(Age^2) + \n",
       "    Female + Married + Educational.Attainment, data = lma_filtered_ethnicity[lma_filtered_ethnicity$Race.Ethnicity == \n",
       "    \"Black\", ])\n",
       "\n",
       "Residuals:\n",
       "     Min       1Q   Median       3Q      Max \n",
       "-1.87691 -0.29731 -0.03552  0.28072  2.48242 \n",
       "\n",
       "Coefficients:\n",
       "                                            Estimate Std. Error t value\n",
       "(Intercept)                                9.012e+00  1.256e-01  71.756\n",
       "Age                                        5.513e-02  6.027e-03   9.147\n",
       "I(Age^2)                                  -5.401e-04  6.998e-05  -7.717\n",
       "FemaleFemale                              -1.510e-01  1.799e-02  -8.398\n",
       "MarriedMarried                             7.369e-02  1.820e-02   4.048\n",
       "Educational.AttainmentHigh School Degree   7.871e-02  3.772e-02   2.087\n",
       "Educational.AttainmentSome College         2.335e-01  3.771e-02   6.191\n",
       "Educational.AttainmentAssociates Degree    3.129e-01  4.458e-02   7.018\n",
       "Educational.AttainmentBachelors Degree     5.318e-01  4.020e-02  13.229\n",
       "Educational.AttainmentProfessional Degree  1.055e+00  8.754e-02  12.046\n",
       "Educational.AttainmentMasters Degree       7.476e-01  4.456e-02  16.778\n",
       "Educational.AttainmentDoctorate            8.625e-01  8.880e-02   9.714\n",
       "                                          Pr(>|t|)    \n",
       "(Intercept)                                < 2e-16 ***\n",
       "Age                                        < 2e-16 ***\n",
       "I(Age^2)                                  1.69e-14 ***\n",
       "FemaleFemale                               < 2e-16 ***\n",
       "MarriedMarried                            5.32e-05 ***\n",
       "Educational.AttainmentHigh School Degree     0.037 *  \n",
       "Educational.AttainmentSome College        6.94e-10 ***\n",
       "Educational.AttainmentAssociates Degree   2.88e-12 ***\n",
       "Educational.AttainmentBachelors Degree     < 2e-16 ***\n",
       "Educational.AttainmentProfessional Degree  < 2e-16 ***\n",
       "Educational.AttainmentMasters Degree       < 2e-16 ***\n",
       "Educational.AttainmentDoctorate            < 2e-16 ***\n",
       "---\n",
       "Signif. codes:  0 '***' 0.001 '**' 0.01 '*' 0.05 '.' 0.1 ' ' 1\n",
       "\n",
       "Residual standard error: 0.4413 on 2549 degrees of freedom\n",
       "Multiple R-squared:  0.2966,\tAdjusted R-squared:  0.2936 \n",
       "F-statistic: 97.73 on 11 and 2549 DF,  p-value: < 2.2e-16\n"
      ]
     },
     "metadata": {},
     "output_type": "display_data"
    }
   ],
   "source": [
    "lma_black <- lm(log(Earnings.Past.12.Months) ~ Age + I(Age^2) + Female + Married + Educational.Attainment, lma_filtered_ethnicity[lma_filtered_ethnicity$Race.Ethnicity == \"Black\",])\n",
    "summary(lma_black)"
   ]
  },
  {
   "cell_type": "code",
   "execution_count": 45,
   "metadata": {},
   "outputs": [
    {
     "data": {
      "text/plain": [
       "\n",
       "Call:\n",
       "lm(formula = log(Earnings.Past.12.Months) ~ Age + I(Age^2) + \n",
       "    Female + Married + Educational.Attainment, data = lma_filtered_ethnicity[lma_filtered_ethnicity$Race.Ethnicity == \n",
       "    \"Asian\", ])\n",
       "\n",
       "Residuals:\n",
       "     Min       1Q   Median       3Q      Max \n",
       "-1.63083 -0.36917  0.00407  0.33675  2.46019 \n",
       "\n",
       "Coefficients:\n",
       "                                            Estimate Std. Error t value\n",
       "(Intercept)                                8.9377973  0.2289804  39.033\n",
       "Age                                        0.0597279  0.0108786   5.490\n",
       "I(Age^2)                                  -0.0006141  0.0001249  -4.917\n",
       "FemaleFemale                              -0.1971861  0.0286830  -6.875\n",
       "MarriedMarried                             0.0453526  0.0337989   1.342\n",
       "Educational.AttainmentHigh School Degree   0.1076872  0.0661956   1.627\n",
       "Educational.AttainmentSome College         0.3828855  0.0671906   5.698\n",
       "Educational.AttainmentAssociates Degree    0.4467246  0.0746197   5.987\n",
       "Educational.AttainmentBachelors Degree     0.7976626  0.0588934  13.544\n",
       "Educational.AttainmentProfessional Degree  1.5168886  0.0807559  18.784\n",
       "Educational.AttainmentMasters Degree       1.0129537  0.0634256  15.971\n",
       "Educational.AttainmentDoctorate            1.1084507  0.0818563  13.541\n",
       "                                          Pr(>|t|)    \n",
       "(Intercept)                                < 2e-16 ***\n",
       "Age                                       4.68e-08 ***\n",
       "I(Age^2)                                  9.72e-07 ***\n",
       "FemaleFemale                              8.99e-12 ***\n",
       "MarriedMarried                               0.180    \n",
       "Educational.AttainmentHigh School Degree     0.104    \n",
       "Educational.AttainmentSome College        1.45e-08 ***\n",
       "Educational.AttainmentAssociates Degree   2.66e-09 ***\n",
       "Educational.AttainmentBachelors Degree     < 2e-16 ***\n",
       "Educational.AttainmentProfessional Degree  < 2e-16 ***\n",
       "Educational.AttainmentMasters Degree       < 2e-16 ***\n",
       "Educational.AttainmentDoctorate            < 2e-16 ***\n",
       "---\n",
       "Signif. codes:  0 '***' 0.001 '**' 0.01 '*' 0.05 '.' 0.1 ' ' 1\n",
       "\n",
       "Residual standard error: 0.5509 on 1543 degrees of freedom\n",
       "Multiple R-squared:  0.3821,\tAdjusted R-squared:  0.3777 \n",
       "F-statistic: 86.75 on 11 and 1543 DF,  p-value: < 2.2e-16\n"
      ]
     },
     "metadata": {},
     "output_type": "display_data"
    }
   ],
   "source": [
    "lma_asian <- lm(log(Earnings.Past.12.Months) ~ Age + I(Age^2) + Female + Married + Educational.Attainment, data = lma_filtered_ethnicity[lma_filtered_ethnicity$Race.Ethnicity == \"Asian\",])\n",
    "summary(lma_asian)"
   ]
  },
  {
   "cell_type": "code",
   "execution_count": 46,
   "metadata": {},
   "outputs": [
    {
     "data": {
      "text/plain": [
       "\n",
       "Call:\n",
       "lm(formula = log(Earnings.Past.12.Months) ~ Age + I(Age^2) + \n",
       "    Female + Married + Educational.Attainment, data = lma_filtered_ethnicity[lma_filtered_ethnicity$Race.Ethnicity == \n",
       "    \"Hispanic\", ])\n",
       "\n",
       "Residuals:\n",
       "     Min       1Q   Median       3Q      Max \n",
       "-1.46486 -0.30554 -0.03858  0.27204  2.16689 \n",
       "\n",
       "Coefficients:\n",
       "                                            Estimate Std. Error t value\n",
       "(Intercept)                                9.278e+00  1.019e-01  91.086\n",
       "Age                                        3.842e-02  5.194e-03   7.396\n",
       "I(Age^2)                                  -3.425e-04  6.241e-05  -5.487\n",
       "FemaleFemale                              -1.825e-01  1.658e-02 -11.013\n",
       "MarriedMarried                             5.044e-02  1.694e-02   2.978\n",
       "Educational.AttainmentHigh School Degree   2.075e-01  2.227e-02   9.318\n",
       "Educational.AttainmentSome College         3.279e-01  2.372e-02  13.820\n",
       "Educational.AttainmentAssociates Degree    4.880e-01  3.287e-02  14.846\n",
       "Educational.AttainmentBachelors Degree     6.177e-01  2.767e-02  22.326\n",
       "Educational.AttainmentProfessional Degree  9.722e-01  6.309e-02  15.410\n",
       "Educational.AttainmentMasters Degree       8.189e-01  3.922e-02  20.881\n",
       "Educational.AttainmentDoctorate            9.422e-01  1.326e-01   7.104\n",
       "                                          Pr(>|t|)    \n",
       "(Intercept)                                < 2e-16 ***\n",
       "Age                                       1.76e-13 ***\n",
       "I(Age^2)                                  4.38e-08 ***\n",
       "FemaleFemale                               < 2e-16 ***\n",
       "MarriedMarried                             0.00292 ** \n",
       "Educational.AttainmentHigh School Degree   < 2e-16 ***\n",
       "Educational.AttainmentSome College         < 2e-16 ***\n",
       "Educational.AttainmentAssociates Degree    < 2e-16 ***\n",
       "Educational.AttainmentBachelors Degree     < 2e-16 ***\n",
       "Educational.AttainmentProfessional Degree  < 2e-16 ***\n",
       "Educational.AttainmentMasters Degree       < 2e-16 ***\n",
       "Educational.AttainmentDoctorate           1.47e-12 ***\n",
       "---\n",
       "Signif. codes:  0 '***' 0.001 '**' 0.01 '*' 0.05 '.' 0.1 ' ' 1\n",
       "\n",
       "Residual standard error: 0.4553 on 3350 degrees of freedom\n",
       "Multiple R-squared:  0.2818,\tAdjusted R-squared:  0.2795 \n",
       "F-statistic: 119.5 on 11 and 3350 DF,  p-value: < 2.2e-16\n"
      ]
     },
     "metadata": {},
     "output_type": "display_data"
    }
   ],
   "source": [
    "lma_hispanic <- lm(log(Earnings.Past.12.Months) ~ Age + I(Age^2) + Female + Married + Educational.Attainment, data = lma_filtered_ethnicity[lma_filtered_ethnicity$Race.Ethnicity == \"Hispanic\",])\n",
    "summary(lma_hispanic)"
   ]
  },
  {
   "cell_type": "markdown",
   "metadata": {},
   "source": [
    "\n",
    "### Residual Diagnostics by visual inspection\n",
    "\n",
    "### Prelim Model  "
   ]
  },
  {
   "cell_type": "code",
   "execution_count": 47,
   "metadata": {},
   "outputs": [
    {
     "data": {
      "image/png": "[encoded data removed]",
      "text/plain": [
       "plot without title"
      ]
     },
     "metadata": {},
     "output_type": "display_data"
    }
   ],
   "source": [
    "# Preliminary Model \n",
    "# Standardized residuals plotted against predicted values\n",
    "standardized.residual <- rstandard(prelim)\n",
    "predicted   <- predict(prelim)\n",
    "plot(standardized.residual~ predicted, col = \"grey\", pch = 19, \n",
    "     xlab= \"Predicted Earnings (in $)\", ylab = \"Standardized Residuals\")\n",
    "abline(h =  2, lty = 2, col = \"red\")\n",
    "abline(h = -2, lty =2, col = \"red\")\n",
    "mtext (\"Standardized Residulas vs. Predicted Earnings \\n (Preliminary Model)\", font =2,  outer = TRUE)"
   ]
  },
  {
   "cell_type": "markdown",
   "metadata": {},
   "source": [
    "#### Heteroscedasticity is present as the residuals have patterns\n",
    "#### Residual Diagnostics by BPG test : Prelim Model   "
   ]
  },
  {
   "cell_type": "code",
   "execution_count": 48,
   "metadata": {},
   "outputs": [
    {
     "data": {
      "text/plain": [
       "\n",
       "\tstudentized Breusch-Pagan test\n",
       "\n",
       "data:  prelim\n",
       "BP = 1634.5, df = 13, p-value < 2.2e-16\n"
      ]
     },
     "metadata": {},
     "output_type": "display_data"
    }
   ],
   "source": [
    "## BPG test - Prelim \n",
    "bpg_prelim <- bptest(prelim) \n",
    "bpg_prelim"
   ]
  },
  {
   "cell_type": "markdown",
   "metadata": {},
   "source": [
    "#### Heteroscedasticity is present, as supported by a stat-sig. p-value\n",
    "### Updated Model"
   ]
  },
  {
   "cell_type": "code",
   "execution_count": 49,
   "metadata": {},
   "outputs": [
    {
     "data": {
      "image/png": "[encoded data removed]",
      "text/plain": [
       "plot without title"
      ]
     },
     "metadata": {},
     "output_type": "display_data"
    }
   ],
   "source": [
    "# Updated Model \n",
    "# Standardized residuals plotted against predicted values\n",
    "standardized.residual2 <- rstandard(updated)\n",
    "predicted2   <- predict(updated)\n",
    "plot(standardized.residual2 ~ predicted2, col = \"grey\", pch = 19, \n",
    "     xlab= \"Predicted Earnings (in $)\", ylab = \"Standardized Residuals\")\n",
    "abline(h =  2, lty = 2, col = \"red\")\n",
    "abline(h = -2, lty =2, col = \"red\")\n",
    "mtext (\"Standardized Residulas vs. Predicted Earnings \\n (Updated Model)\", font =2,  outer = TRUE)"
   ]
  },
  {
   "cell_type": "markdown",
   "metadata": {},
   "source": [
    "#### Can't reject Heteroscedasticity by visual inspection, althoughly model has improved over the prelim \n",
    "#### Residual Diagnostics by BPG test : Updated Model   "
   ]
  },
  {
   "cell_type": "code",
   "execution_count": 50,
   "metadata": {},
   "outputs": [
    {
     "data": {
      "text/plain": [
       "\n",
       "\tstudentized Breusch-Pagan test\n",
       "\n",
       "data:  updated\n",
       "BP = 1159.2, df = 14, p-value < 2.2e-16\n"
      ]
     },
     "metadata": {},
     "output_type": "display_data"
    }
   ],
   "source": [
    "# BPG test - Prelim \n",
    "bpg_updated <- bptest(updated) \n",
    "bpg_updated"
   ]
  },
  {
   "cell_type": "markdown",
   "metadata": {},
   "source": [
    "#### Heteroscedasticity still present, as supported by a stat-sig. p-value\n",
    "### Robust Errors"
   ]
  },
  {
   "cell_type": "code",
   "execution_count": 51,
   "metadata": {},
   "outputs": [
    {
     "data": {
      "text/html": [
       "<dl class=dl-horizontal>\n",
       "\t<dt>(Intercept)</dt>\n",
       "\t\t<dd>0.0400991474999667</dd>\n",
       "\t<dt>Age</dt>\n",
       "\t\t<dd>0.00196113451525835</dd>\n",
       "\t<dt>I(Age^2)</dt>\n",
       "\t\t<dd>2.31623023332353e-05</dd>\n",
       "\t<dt>FemaleFemale</dt>\n",
       "\t\t<dd>0.00602319123240675</dd>\n",
       "\t<dt>MarriedMarried</dt>\n",
       "\t\t<dd>0.00640580701639081</dd>\n",
       "\t<dt>Educational.AttainmentHigh School Degree</dt>\n",
       "\t\t<dd>0.0121209878394797</dd>\n",
       "\t<dt>Educational.AttainmentSome College</dt>\n",
       "\t\t<dd>0.0124896806052749</dd>\n",
       "\t<dt>Educational.AttainmentAssociates Degree</dt>\n",
       "\t\t<dd>0.0142799021883623</dd>\n",
       "\t<dt>Educational.AttainmentBachelors Degree</dt>\n",
       "\t\t<dd>0.0131121298864363</dd>\n",
       "\t<dt>Educational.AttainmentProfessional Degree</dt>\n",
       "\t\t<dd>0.0288414844790223</dd>\n",
       "\t<dt>Educational.AttainmentMasters Degree</dt>\n",
       "\t\t<dd>0.0151515132458292</dd>\n",
       "\t<dt>Educational.AttainmentDoctorate</dt>\n",
       "\t\t<dd>0.0302703009491118</dd>\n",
       "\t<dt>Race.EthnicityAsian</dt>\n",
       "\t\t<dd>0.0147412989648968</dd>\n",
       "\t<dt>Race.EthnicityBlack</dt>\n",
       "\t\t<dd>0.0096367548629602</dd>\n",
       "\t<dt>Race.EthnicityHispanic</dt>\n",
       "\t\t<dd>0.00929367358381183</dd>\n",
       "</dl>\n"
      ],
      "text/latex": [
       "\\begin{description*}\n",
       "\\item[(Intercept)] 0.0400991474999667\n",
       "\\item[Age] 0.00196113451525835\n",
       "\\item[I(Age\\textbackslash{}textasciicircum\\{\\}2)] 2.31623023332353e-05\n",
       "\\item[FemaleFemale] 0.00602319123240675\n",
       "\\item[MarriedMarried] 0.00640580701639081\n",
       "\\item[Educational.AttainmentHigh School Degree] 0.0121209878394797\n",
       "\\item[Educational.AttainmentSome College] 0.0124896806052749\n",
       "\\item[Educational.AttainmentAssociates Degree] 0.0142799021883623\n",
       "\\item[Educational.AttainmentBachelors Degree] 0.0131121298864363\n",
       "\\item[Educational.AttainmentProfessional Degree] 0.0288414844790223\n",
       "\\item[Educational.AttainmentMasters Degree] 0.0151515132458292\n",
       "\\item[Educational.AttainmentDoctorate] 0.0302703009491118\n",
       "\\item[Race.EthnicityAsian] 0.0147412989648968\n",
       "\\item[Race.EthnicityBlack] 0.0096367548629602\n",
       "\\item[Race.EthnicityHispanic] 0.00929367358381183\n",
       "\\end{description*}\n"
      ],
      "text/markdown": [
       "(Intercept)\n",
       ":   0.0400991474999667Age\n",
       ":   0.00196113451525835I(Age^2)\n",
       ":   2.31623023332353e-05FemaleFemale\n",
       ":   0.00602319123240675MarriedMarried\n",
       ":   0.00640580701639081Educational.AttainmentHigh School Degree\n",
       ":   0.0121209878394797Educational.AttainmentSome College\n",
       ":   0.0124896806052749Educational.AttainmentAssociates Degree\n",
       ":   0.0142799021883623Educational.AttainmentBachelors Degree\n",
       ":   0.0131121298864363Educational.AttainmentProfessional Degree\n",
       ":   0.0288414844790223Educational.AttainmentMasters Degree\n",
       ":   0.0151515132458292Educational.AttainmentDoctorate\n",
       ":   0.0302703009491118Race.EthnicityAsian\n",
       ":   0.0147412989648968Race.EthnicityBlack\n",
       ":   0.0096367548629602Race.EthnicityHispanic\n",
       ":   0.00929367358381183\n",
       "\n"
      ],
      "text/plain": [
       "                              (Intercept) \n",
       "                             0.0400991475 \n",
       "                                      Age \n",
       "                             0.0019611345 \n",
       "                                 I(Age^2) \n",
       "                             0.0000231623 \n",
       "                             FemaleFemale \n",
       "                             0.0060231912 \n",
       "                           MarriedMarried \n",
       "                             0.0064058070 \n",
       " Educational.AttainmentHigh School Degree \n",
       "                             0.0121209878 \n",
       "       Educational.AttainmentSome College \n",
       "                             0.0124896806 \n",
       "  Educational.AttainmentAssociates Degree \n",
       "                             0.0142799022 \n",
       "   Educational.AttainmentBachelors Degree \n",
       "                             0.0131121299 \n",
       "Educational.AttainmentProfessional Degree \n",
       "                             0.0288414845 \n",
       "     Educational.AttainmentMasters Degree \n",
       "                             0.0151515132 \n",
       "          Educational.AttainmentDoctorate \n",
       "                             0.0302703009 \n",
       "                      Race.EthnicityAsian \n",
       "                             0.0147412990 \n",
       "                      Race.EthnicityBlack \n",
       "                             0.0096367549 \n",
       "                   Race.EthnicityHispanic \n",
       "                             0.0092936736 "
      ]
     },
     "metadata": {},
     "output_type": "display_data"
    }
   ],
   "source": [
    "(sandwich_se <- diag(vcovHC(updated, type = \"HC\"))^0.5)"
   ]
  },
  {
   "cell_type": "markdown",
   "metadata": {},
   "source": [
    "#### Non-Hispanic White"
   ]
  },
  {
   "cell_type": "code",
   "execution_count": 52,
   "metadata": {},
   "outputs": [
    {
     "data": {
      "image/png": "[encoded data removed]",
      "text/plain": [
       "plot without title"
      ]
     },
     "metadata": {},
     "output_type": "display_data"
    }
   ],
   "source": [
    "# Non-Hispanic White Model \n",
    "# Standardized residuals plotted against predicted values\n",
    "standardized.residual2 <- rstandard(lma_white)\n",
    "predicted2   <- predict(lma_white)\n",
    "plot(standardized.residual2 ~ predicted2, col = \"grey\", pch = 19, \n",
    "     xlab= \"Predicted Earnings (in $)\", ylab = \"Standardized Residuals\")\n",
    "abline(h =  2, lty = 2, col = \"red\")\n",
    "abline(h = -2, lty =2, col = \"red\")\n",
    "mtext (\"Standardized Residulas vs. Predicted Earnings \\n (Non-Hispanic White Model)\", font =2,  outer = TRUE)"
   ]
  },
  {
   "cell_type": "code",
   "execution_count": 53,
   "metadata": {},
   "outputs": [
    {
     "data": {
      "text/plain": [
       "\n",
       "\tstudentized Breusch-Pagan test\n",
       "\n",
       "data:  lma_white\n",
       "BP = 777.37, df = 11, p-value < 2.2e-16\n"
      ]
     },
     "metadata": {},
     "output_type": "display_data"
    }
   ],
   "source": [
    "# BPG test - Prelim \n",
    "bpg_white <- bptest(lma_white) \n",
    "bpg_white"
   ]
  },
  {
   "cell_type": "markdown",
   "metadata": {},
   "source": [
    "#### Heteroscedasticity still present, as supported by a stat-sig. p-value\n",
    "### Robust Errors"
   ]
  },
  {
   "cell_type": "code",
   "execution_count": 54,
   "metadata": {},
   "outputs": [
    {
     "data": {
      "text/html": [
       "<dl class=dl-horizontal>\n",
       "\t<dt>(Intercept)</dt>\n",
       "\t\t<dd>0.0486522379105419</dd>\n",
       "\t<dt>Age</dt>\n",
       "\t\t<dd>0.00232649427947563</dd>\n",
       "\t<dt>I(Age^2)</dt>\n",
       "\t\t<dd>2.73191753031155e-05</dd>\n",
       "\t<dt>FemaleFemale</dt>\n",
       "\t\t<dd>0.00708177585768308</dd>\n",
       "\t<dt>MarriedMarried</dt>\n",
       "\t\t<dd>0.00764422876236352</dd>\n",
       "\t<dt>Educational.AttainmentHigh School Degree</dt>\n",
       "\t\t<dd>0.0180758671310168</dd>\n",
       "\t<dt>Educational.AttainmentSome College</dt>\n",
       "\t\t<dd>0.018330058634372</dd>\n",
       "\t<dt>Educational.AttainmentAssociates Degree</dt>\n",
       "\t\t<dd>0.0198191507009029</dd>\n",
       "\t<dt>Educational.AttainmentBachelors Degree</dt>\n",
       "\t\t<dd>0.0186811757342461</dd>\n",
       "\t<dt>Educational.AttainmentProfessional Degree</dt>\n",
       "\t\t<dd>0.0339372752989708</dd>\n",
       "\t<dt>Educational.AttainmentMasters Degree</dt>\n",
       "\t\t<dd>0.0207216080754777</dd>\n",
       "\t<dt>Educational.AttainmentDoctorate</dt>\n",
       "\t\t<dd>0.0376397509883311</dd>\n",
       "</dl>\n"
      ],
      "text/latex": [
       "\\begin{description*}\n",
       "\\item[(Intercept)] 0.0486522379105419\n",
       "\\item[Age] 0.00232649427947563\n",
       "\\item[I(Age\\textbackslash{}textasciicircum\\{\\}2)] 2.73191753031155e-05\n",
       "\\item[FemaleFemale] 0.00708177585768308\n",
       "\\item[MarriedMarried] 0.00764422876236352\n",
       "\\item[Educational.AttainmentHigh School Degree] 0.0180758671310168\n",
       "\\item[Educational.AttainmentSome College] 0.018330058634372\n",
       "\\item[Educational.AttainmentAssociates Degree] 0.0198191507009029\n",
       "\\item[Educational.AttainmentBachelors Degree] 0.0186811757342461\n",
       "\\item[Educational.AttainmentProfessional Degree] 0.0339372752989708\n",
       "\\item[Educational.AttainmentMasters Degree] 0.0207216080754777\n",
       "\\item[Educational.AttainmentDoctorate] 0.0376397509883311\n",
       "\\end{description*}\n"
      ],
      "text/markdown": [
       "(Intercept)\n",
       ":   0.0486522379105419Age\n",
       ":   0.00232649427947563I(Age^2)\n",
       ":   2.73191753031155e-05FemaleFemale\n",
       ":   0.00708177585768308MarriedMarried\n",
       ":   0.00764422876236352Educational.AttainmentHigh School Degree\n",
       ":   0.0180758671310168Educational.AttainmentSome College\n",
       ":   0.018330058634372Educational.AttainmentAssociates Degree\n",
       ":   0.0198191507009029Educational.AttainmentBachelors Degree\n",
       ":   0.0186811757342461Educational.AttainmentProfessional Degree\n",
       ":   0.0339372752989708Educational.AttainmentMasters Degree\n",
       ":   0.0207216080754777Educational.AttainmentDoctorate\n",
       ":   0.0376397509883311\n",
       "\n"
      ],
      "text/plain": [
       "                              (Intercept) \n",
       "                             4.865224e-02 \n",
       "                                      Age \n",
       "                             2.326494e-03 \n",
       "                                 I(Age^2) \n",
       "                             2.731918e-05 \n",
       "                             FemaleFemale \n",
       "                             7.081776e-03 \n",
       "                           MarriedMarried \n",
       "                             7.644229e-03 \n",
       " Educational.AttainmentHigh School Degree \n",
       "                             1.807587e-02 \n",
       "       Educational.AttainmentSome College \n",
       "                             1.833006e-02 \n",
       "  Educational.AttainmentAssociates Degree \n",
       "                             1.981915e-02 \n",
       "   Educational.AttainmentBachelors Degree \n",
       "                             1.868118e-02 \n",
       "Educational.AttainmentProfessional Degree \n",
       "                             3.393728e-02 \n",
       "     Educational.AttainmentMasters Degree \n",
       "                             2.072161e-02 \n",
       "          Educational.AttainmentDoctorate \n",
       "                             3.763975e-02 "
      ]
     },
     "metadata": {},
     "output_type": "display_data"
    }
   ],
   "source": [
    "(sandwich_se <- diag(vcovHC(lma_white, type = \"HC\"))^0.5)"
   ]
  },
  {
   "cell_type": "markdown",
   "metadata": {},
   "source": [
    "#### Black"
   ]
  },
  {
   "cell_type": "code",
   "execution_count": 55,
   "metadata": {},
   "outputs": [
    {
     "data": {
      "image/png": "[encoded data removed]",
      "text/plain": [
       "plot without title"
      ]
     },
     "metadata": {},
     "output_type": "display_data"
    }
   ],
   "source": [
    "# Black Model \n",
    "# Standardized residuals plotted against predicted values\n",
    "standardized.residual2 <- rstandard(lma_black)\n",
    "predicted2   <- predict(lma_black)\n",
    "plot(standardized.residual2 ~ predicted2, col = \"grey\", pch = 19, \n",
    "     xlab= \"Predicted Earnings (in $)\", ylab = \"Standardized Residuals\")\n",
    "abline(h =  2, lty = 2, col = \"red\")\n",
    "abline(h = -2, lty =2, col = \"red\")\n",
    "mtext (\"Standardized Residulas vs. Predicted Earnings \\n (Black Model)\", font =2,  outer = TRUE)"
   ]
  },
  {
   "cell_type": "code",
   "execution_count": 56,
   "metadata": {},
   "outputs": [
    {
     "data": {
      "text/plain": [
       "\n",
       "\tstudentized Breusch-Pagan test\n",
       "\n",
       "data:  lma_black\n",
       "BP = 76.634, df = 11, p-value = 6.579e-12\n"
      ]
     },
     "metadata": {},
     "output_type": "display_data"
    }
   ],
   "source": [
    "# BPG test - Prelim \n",
    "bpg_white <- bptest(lma_black) \n",
    "bpg_white"
   ]
  },
  {
   "cell_type": "markdown",
   "metadata": {},
   "source": [
    "#### Heteroscedasticity still present, as supported by a stat-sig. p-value\n",
    "### Robust Errors"
   ]
  },
  {
   "cell_type": "code",
   "execution_count": 57,
   "metadata": {},
   "outputs": [
    {
     "data": {
      "text/html": [
       "<dl class=dl-horizontal>\n",
       "\t<dt>(Intercept)</dt>\n",
       "\t\t<dd>0.114760340561159</dd>\n",
       "\t<dt>Age</dt>\n",
       "\t\t<dd>0.0056396911961543</dd>\n",
       "\t<dt>I(Age^2)</dt>\n",
       "\t\t<dd>6.65192529517676e-05</dd>\n",
       "\t<dt>FemaleFemale</dt>\n",
       "\t\t<dd>0.0183696635326098</dd>\n",
       "\t<dt>MarriedMarried</dt>\n",
       "\t\t<dd>0.0184772020268953</dd>\n",
       "\t<dt>Educational.AttainmentHigh School Degree</dt>\n",
       "\t\t<dd>0.0395438747575239</dd>\n",
       "\t<dt>Educational.AttainmentSome College</dt>\n",
       "\t\t<dd>0.0395382722496371</dd>\n",
       "\t<dt>Educational.AttainmentAssociates Degree</dt>\n",
       "\t\t<dd>0.0462672110999141</dd>\n",
       "\t<dt>Educational.AttainmentBachelors Degree</dt>\n",
       "\t\t<dd>0.0431825307376661</dd>\n",
       "\t<dt>Educational.AttainmentProfessional Degree</dt>\n",
       "\t\t<dd>0.137647726319708</dd>\n",
       "\t<dt>Educational.AttainmentMasters Degree</dt>\n",
       "\t\t<dd>0.0476871557042907</dd>\n",
       "\t<dt>Educational.AttainmentDoctorate</dt>\n",
       "\t\t<dd>0.0849121430405336</dd>\n",
       "</dl>\n"
      ],
      "text/latex": [
       "\\begin{description*}\n",
       "\\item[(Intercept)] 0.114760340561159\n",
       "\\item[Age] 0.0056396911961543\n",
       "\\item[I(Age\\textbackslash{}textasciicircum\\{\\}2)] 6.65192529517676e-05\n",
       "\\item[FemaleFemale] 0.0183696635326098\n",
       "\\item[MarriedMarried] 0.0184772020268953\n",
       "\\item[Educational.AttainmentHigh School Degree] 0.0395438747575239\n",
       "\\item[Educational.AttainmentSome College] 0.0395382722496371\n",
       "\\item[Educational.AttainmentAssociates Degree] 0.0462672110999141\n",
       "\\item[Educational.AttainmentBachelors Degree] 0.0431825307376661\n",
       "\\item[Educational.AttainmentProfessional Degree] 0.137647726319708\n",
       "\\item[Educational.AttainmentMasters Degree] 0.0476871557042907\n",
       "\\item[Educational.AttainmentDoctorate] 0.0849121430405336\n",
       "\\end{description*}\n"
      ],
      "text/markdown": [
       "(Intercept)\n",
       ":   0.114760340561159Age\n",
       ":   0.0056396911961543I(Age^2)\n",
       ":   6.65192529517676e-05FemaleFemale\n",
       ":   0.0183696635326098MarriedMarried\n",
       ":   0.0184772020268953Educational.AttainmentHigh School Degree\n",
       ":   0.0395438747575239Educational.AttainmentSome College\n",
       ":   0.0395382722496371Educational.AttainmentAssociates Degree\n",
       ":   0.0462672110999141Educational.AttainmentBachelors Degree\n",
       ":   0.0431825307376661Educational.AttainmentProfessional Degree\n",
       ":   0.137647726319708Educational.AttainmentMasters Degree\n",
       ":   0.0476871557042907Educational.AttainmentDoctorate\n",
       ":   0.0849121430405336\n",
       "\n"
      ],
      "text/plain": [
       "                              (Intercept) \n",
       "                             1.147603e-01 \n",
       "                                      Age \n",
       "                             5.639691e-03 \n",
       "                                 I(Age^2) \n",
       "                             6.651925e-05 \n",
       "                             FemaleFemale \n",
       "                             1.836966e-02 \n",
       "                           MarriedMarried \n",
       "                             1.847720e-02 \n",
       " Educational.AttainmentHigh School Degree \n",
       "                             3.954387e-02 \n",
       "       Educational.AttainmentSome College \n",
       "                             3.953827e-02 \n",
       "  Educational.AttainmentAssociates Degree \n",
       "                             4.626721e-02 \n",
       "   Educational.AttainmentBachelors Degree \n",
       "                             4.318253e-02 \n",
       "Educational.AttainmentProfessional Degree \n",
       "                             1.376477e-01 \n",
       "     Educational.AttainmentMasters Degree \n",
       "                             4.768716e-02 \n",
       "          Educational.AttainmentDoctorate \n",
       "                             8.491214e-02 "
      ]
     },
     "metadata": {},
     "output_type": "display_data"
    }
   ],
   "source": [
    "(sandwich_se <- diag(vcovHC(lma_black, type = \"HC\"))^0.5)"
   ]
  },
  {
   "cell_type": "markdown",
   "metadata": {},
   "source": [
    "### Asian"
   ]
  },
  {
   "cell_type": "code",
   "execution_count": 58,
   "metadata": {},
   "outputs": [
    {
     "data": {
      "image/png": "[encoded data removed]",
      "text/plain": [
       "plot without title"
      ]
     },
     "metadata": {},
     "output_type": "display_data"
    }
   ],
   "source": [
    "# Asian Model \n",
    "# Standardized residuals plotted against predicted values\n",
    "standardized.residual2 <- rstandard(lma_asian)\n",
    "predicted2   <- predict(lma_asian)\n",
    "plot(standardized.residual2 ~ predicted2, col = \"grey\", pch = 19, \n",
    "     xlab= \"Predicted Earnings (in $)\", ylab = \"Standardized Residuals\")\n",
    "abline(h =  2, lty = 2, col = \"red\")\n",
    "abline(h = -2, lty =2, col = \"red\")\n",
    "mtext (\"Standardized Residulas vs. Predicted Earnings \\n (Asian Model)\", font =2,  outer = TRUE)"
   ]
  },
  {
   "cell_type": "code",
   "execution_count": 59,
   "metadata": {},
   "outputs": [
    {
     "data": {
      "text/plain": [
       "\n",
       "\tstudentized Breusch-Pagan test\n",
       "\n",
       "data:  lma_asian\n",
       "BP = 55.013, df = 11, p-value = 7.708e-08\n"
      ]
     },
     "metadata": {},
     "output_type": "display_data"
    }
   ],
   "source": [
    "# BPG test - Prelim \n",
    "bpg_white <- bptest(lma_asian) \n",
    "bpg_white"
   ]
  },
  {
   "cell_type": "markdown",
   "metadata": {},
   "source": [
    "#### Heteroscedasticity still present, as supported by a stat-sig. p-value\n",
    "\n",
    "### Robust Errors"
   ]
  },
  {
   "cell_type": "code",
   "execution_count": 60,
   "metadata": {},
   "outputs": [
    {
     "data": {
      "text/html": [
       "<dl class=dl-horizontal>\n",
       "\t<dt>(Intercept)</dt>\n",
       "\t\t<dd>0.22057145872392</dd>\n",
       "\t<dt>Age</dt>\n",
       "\t\t<dd>0.0109111818087531</dd>\n",
       "\t<dt>I(Age^2)</dt>\n",
       "\t\t<dd>0.000127573136411142</dd>\n",
       "\t<dt>FemaleFemale</dt>\n",
       "\t\t<dd>0.0280953491098093</dd>\n",
       "\t<dt>MarriedMarried</dt>\n",
       "\t\t<dd>0.0317392699752748</dd>\n",
       "\t<dt>Educational.AttainmentHigh School Degree</dt>\n",
       "\t\t<dd>0.054831154167393</dd>\n",
       "\t<dt>Educational.AttainmentSome College</dt>\n",
       "\t\t<dd>0.056605371207922</dd>\n",
       "\t<dt>Educational.AttainmentAssociates Degree</dt>\n",
       "\t\t<dd>0.0686728257546043</dd>\n",
       "\t<dt>Educational.AttainmentBachelors Degree</dt>\n",
       "\t\t<dd>0.0522521915108074</dd>\n",
       "\t<dt>Educational.AttainmentProfessional Degree</dt>\n",
       "\t\t<dd>0.0900599843912915</dd>\n",
       "\t<dt>Educational.AttainmentMasters Degree</dt>\n",
       "\t\t<dd>0.0557914524281498</dd>\n",
       "\t<dt>Educational.AttainmentDoctorate</dt>\n",
       "\t\t<dd>0.0824499907442751</dd>\n",
       "</dl>\n"
      ],
      "text/latex": [
       "\\begin{description*}\n",
       "\\item[(Intercept)] 0.22057145872392\n",
       "\\item[Age] 0.0109111818087531\n",
       "\\item[I(Age\\textbackslash{}textasciicircum\\{\\}2)] 0.000127573136411142\n",
       "\\item[FemaleFemale] 0.0280953491098093\n",
       "\\item[MarriedMarried] 0.0317392699752748\n",
       "\\item[Educational.AttainmentHigh School Degree] 0.054831154167393\n",
       "\\item[Educational.AttainmentSome College] 0.056605371207922\n",
       "\\item[Educational.AttainmentAssociates Degree] 0.0686728257546043\n",
       "\\item[Educational.AttainmentBachelors Degree] 0.0522521915108074\n",
       "\\item[Educational.AttainmentProfessional Degree] 0.0900599843912915\n",
       "\\item[Educational.AttainmentMasters Degree] 0.0557914524281498\n",
       "\\item[Educational.AttainmentDoctorate] 0.0824499907442751\n",
       "\\end{description*}\n"
      ],
      "text/markdown": [
       "(Intercept)\n",
       ":   0.22057145872392Age\n",
       ":   0.0109111818087531I(Age^2)\n",
       ":   0.000127573136411142FemaleFemale\n",
       ":   0.0280953491098093MarriedMarried\n",
       ":   0.0317392699752748Educational.AttainmentHigh School Degree\n",
       ":   0.054831154167393Educational.AttainmentSome College\n",
       ":   0.056605371207922Educational.AttainmentAssociates Degree\n",
       ":   0.0686728257546043Educational.AttainmentBachelors Degree\n",
       ":   0.0522521915108074Educational.AttainmentProfessional Degree\n",
       ":   0.0900599843912915Educational.AttainmentMasters Degree\n",
       ":   0.0557914524281498Educational.AttainmentDoctorate\n",
       ":   0.0824499907442751\n",
       "\n"
      ],
      "text/plain": [
       "                              (Intercept) \n",
       "                             0.2205714587 \n",
       "                                      Age \n",
       "                             0.0109111818 \n",
       "                                 I(Age^2) \n",
       "                             0.0001275731 \n",
       "                             FemaleFemale \n",
       "                             0.0280953491 \n",
       "                           MarriedMarried \n",
       "                             0.0317392700 \n",
       " Educational.AttainmentHigh School Degree \n",
       "                             0.0548311542 \n",
       "       Educational.AttainmentSome College \n",
       "                             0.0566053712 \n",
       "  Educational.AttainmentAssociates Degree \n",
       "                             0.0686728258 \n",
       "   Educational.AttainmentBachelors Degree \n",
       "                             0.0522521915 \n",
       "Educational.AttainmentProfessional Degree \n",
       "                             0.0900599844 \n",
       "     Educational.AttainmentMasters Degree \n",
       "                             0.0557914524 \n",
       "          Educational.AttainmentDoctorate \n",
       "                             0.0824499907 "
      ]
     },
     "metadata": {},
     "output_type": "display_data"
    }
   ],
   "source": [
    "(sandwich_se <- diag(vcovHC(lma_asian, type = \"HC\"))^0.5)"
   ]
  },
  {
   "cell_type": "markdown",
   "metadata": {},
   "source": [
    "### Hispanic"
   ]
  },
  {
   "cell_type": "code",
   "execution_count": 61,
   "metadata": {},
   "outputs": [
    {
     "data": {
      "image/png": "[encoded data removed]",
      "text/plain": [
       "plot without title"
      ]
     },
     "metadata": {},
     "output_type": "display_data"
    }
   ],
   "source": [
    "##==## Hispanic Model \n",
    "#==# Standardized residuals plotted against predicted values\n",
    "standardized.residual2 <- rstandard(lma_hispanic)\n",
    "predicted2   <- predict(lma_hispanic)\n",
    "plot(standardized.residual2 ~ predicted2, col = \"grey\", pch = 19, \n",
    "     xlab= \"Predicted Earnings (in $)\", ylab = \"Standardized Residuals\")\n",
    "abline(h =  2, lty = 2, col = \"red\")\n",
    "abline(h = -2, lty =2, col = \"red\")\n",
    "mtext (\"Standardized Residulas vs. Predicted Earnings \\n (Hispanic Model)\", font =2,  outer = TRUE)"
   ]
  },
  {
   "cell_type": "code",
   "execution_count": 62,
   "metadata": {},
   "outputs": [
    {
     "data": {
      "text/plain": [
       "\n",
       "\tstudentized Breusch-Pagan test\n",
       "\n",
       "data:  lma_hispanic\n",
       "BP = 226.91, df = 11, p-value < 2.2e-16\n"
      ]
     },
     "metadata": {},
     "output_type": "display_data"
    }
   ],
   "source": [
    "# BPG test - Prelim \n",
    "bpg_white <- bptest(lma_hispanic) \n",
    "bpg_white"
   ]
  },
  {
   "cell_type": "markdown",
   "metadata": {},
   "source": [
    "#### Heteroscedasticity still present, as supported by a stat-sig. p-value\n",
    "\n",
    "### Robust Errors"
   ]
  },
  {
   "cell_type": "code",
   "execution_count": 63,
   "metadata": {},
   "outputs": [
    {
     "data": {
      "text/html": [
       "<dl class=dl-horizontal>\n",
       "\t<dt>(Intercept)</dt>\n",
       "\t\t<dd>0.0956529824857887</dd>\n",
       "\t<dt>Age</dt>\n",
       "\t\t<dd>0.00504280247363752</dd>\n",
       "\t<dt>I(Age^2)</dt>\n",
       "\t\t<dd>6.21311833787343e-05</dd>\n",
       "\t<dt>FemaleFemale</dt>\n",
       "\t\t<dd>0.0164023048110065</dd>\n",
       "\t<dt>MarriedMarried</dt>\n",
       "\t\t<dd>0.0167154512765557</dd>\n",
       "\t<dt>Educational.AttainmentHigh School Degree</dt>\n",
       "\t\t<dd>0.0196930372866138</dd>\n",
       "\t<dt>Educational.AttainmentSome College</dt>\n",
       "\t\t<dd>0.0229487804294251</dd>\n",
       "\t<dt>Educational.AttainmentAssociates Degree</dt>\n",
       "\t\t<dd>0.0315968966255292</dd>\n",
       "\t<dt>Educational.AttainmentBachelors Degree</dt>\n",
       "\t\t<dd>0.0297306534742351</dd>\n",
       "\t<dt>Educational.AttainmentProfessional Degree</dt>\n",
       "\t\t<dd>0.110459460301899</dd>\n",
       "\t<dt>Educational.AttainmentMasters Degree</dt>\n",
       "\t\t<dd>0.0433726971248327</dd>\n",
       "\t<dt>Educational.AttainmentDoctorate</dt>\n",
       "\t\t<dd>0.16855508655001</dd>\n",
       "</dl>\n"
      ],
      "text/latex": [
       "\\begin{description*}\n",
       "\\item[(Intercept)] 0.0956529824857887\n",
       "\\item[Age] 0.00504280247363752\n",
       "\\item[I(Age\\textbackslash{}textasciicircum\\{\\}2)] 6.21311833787343e-05\n",
       "\\item[FemaleFemale] 0.0164023048110065\n",
       "\\item[MarriedMarried] 0.0167154512765557\n",
       "\\item[Educational.AttainmentHigh School Degree] 0.0196930372866138\n",
       "\\item[Educational.AttainmentSome College] 0.0229487804294251\n",
       "\\item[Educational.AttainmentAssociates Degree] 0.0315968966255292\n",
       "\\item[Educational.AttainmentBachelors Degree] 0.0297306534742351\n",
       "\\item[Educational.AttainmentProfessional Degree] 0.110459460301899\n",
       "\\item[Educational.AttainmentMasters Degree] 0.0433726971248327\n",
       "\\item[Educational.AttainmentDoctorate] 0.16855508655001\n",
       "\\end{description*}\n"
      ],
      "text/markdown": [
       "(Intercept)\n",
       ":   0.0956529824857887Age\n",
       ":   0.00504280247363752I(Age^2)\n",
       ":   6.21311833787343e-05FemaleFemale\n",
       ":   0.0164023048110065MarriedMarried\n",
       ":   0.0167154512765557Educational.AttainmentHigh School Degree\n",
       ":   0.0196930372866138Educational.AttainmentSome College\n",
       ":   0.0229487804294251Educational.AttainmentAssociates Degree\n",
       ":   0.0315968966255292Educational.AttainmentBachelors Degree\n",
       ":   0.0297306534742351Educational.AttainmentProfessional Degree\n",
       ":   0.110459460301899Educational.AttainmentMasters Degree\n",
       ":   0.0433726971248327Educational.AttainmentDoctorate\n",
       ":   0.16855508655001\n",
       "\n"
      ],
      "text/plain": [
       "                              (Intercept) \n",
       "                             9.565298e-02 \n",
       "                                      Age \n",
       "                             5.042802e-03 \n",
       "                                 I(Age^2) \n",
       "                             6.213118e-05 \n",
       "                             FemaleFemale \n",
       "                             1.640230e-02 \n",
       "                           MarriedMarried \n",
       "                             1.671545e-02 \n",
       " Educational.AttainmentHigh School Degree \n",
       "                             1.969304e-02 \n",
       "       Educational.AttainmentSome College \n",
       "                             2.294878e-02 \n",
       "  Educational.AttainmentAssociates Degree \n",
       "                             3.159690e-02 \n",
       "   Educational.AttainmentBachelors Degree \n",
       "                             2.973065e-02 \n",
       "Educational.AttainmentProfessional Degree \n",
       "                             1.104595e-01 \n",
       "     Educational.AttainmentMasters Degree \n",
       "                             4.337270e-02 \n",
       "          Educational.AttainmentDoctorate \n",
       "                             1.685551e-01 "
      ]
     },
     "metadata": {},
     "output_type": "display_data"
    }
   ],
   "source": [
    "(sandwich_se <- diag(vcovHC(lma_hispanic, type = \"HC\"))^0.5)"
   ]
  },
  {
   "cell_type": "markdown",
   "metadata": {},
   "source": [
    "#### Ethnicity Models in Table"
   ]
  },
  {
   "cell_type": "code",
   "execution_count": 64,
   "metadata": {},
   "outputs": [
    {
     "name": "stdout",
     "output_type": "stream",
     "text": [
      "\n",
      "==============================================================================================================================\n",
      "                                                               Dependent variable:                                            \n",
      "                    ----------------------------------------------------------------------------------------------------------\n",
      "                                                                  log(Earnings)                                               \n",
      "                               White                      Black                     Asian                    Hispanic         \n",
      "                                (1)                        (2)                       (3)                       (4)            \n",
      "------------------------------------------------------------------------------------------------------------------------------\n",
      "Age                          0.070***                   0.055***                  0.060***                   0.038***         \n",
      "                              (0.002)                    (0.006)                   (0.011)                   (0.005)          \n",
      "                                                                                                                              \n",
      "Age*Age                      -0.001***                  -0.001***                 -0.001***                 -0.0003***        \n",
      "                             (0.00003)                  (0.0001)                  (0.0001)                   (0.0001)         \n",
      "                                                                                                                              \n",
      "Female                       -0.294***                  -0.151***                 -0.197***                 -0.183***         \n",
      "                              (0.007)                    (0.018)                   (0.029)                   (0.017)          \n",
      "                                                                                                                              \n",
      "Married                      0.102***                   0.074***                    0.045                    0.050***         \n",
      "                              (0.008)                    (0.018)                   (0.034)                   (0.017)          \n",
      "                                                                                                                              \n",
      "High School Degree           0.129***                    0.079**                    0.108                    0.208***         \n",
      "                              (0.020)                    (0.038)                   (0.066)                   (0.022)          \n",
      "                                                                                                                              \n",
      "Some College                 0.285***                   0.233***                  0.383***                   0.328***         \n",
      "                              (0.021)                    (0.038)                   (0.067)                   (0.024)          \n",
      "                                                                                                                              \n",
      "Associates Degree            0.345***                   0.313***                  0.447***                   0.488***         \n",
      "                              (0.022)                    (0.045)                   (0.075)                   (0.033)          \n",
      "                                                                                                                              \n",
      "Bachelors Degree             0.639***                   0.532***                  0.798***                   0.618***         \n",
      "                              (0.020)                    (0.040)                   (0.059)                   (0.028)          \n",
      "                                                                                                                              \n",
      "Professional Degree          1.213***                   1.055***                  1.517***                   0.972***         \n",
      "                              (0.028)                    (0.088)                   (0.081)                   (0.063)          \n",
      "                                                                                                                              \n",
      "Masters Degree               0.778***                   0.748***                  1.013***                   0.819***         \n",
      "                              (0.022)                    (0.045)                   (0.063)                   (0.039)          \n",
      "                                                                                                                              \n",
      "Doctorate                    0.910***                   0.863***                  1.108***                   0.942***         \n",
      "                              (0.033)                    (0.089)                   (0.082)                   (0.133)          \n",
      "                                                                                                                              \n",
      "Constant                     8.766***                   9.012***                  8.938***                   9.278***         \n",
      "                              (0.053)                    (0.126)                   (0.229)                   (0.102)          \n",
      "                                                                                                                              \n",
      "------------------------------------------------------------------------------------------------------------------------------\n",
      "Observations                  20,954                      2,561                     1,555                     3,362           \n",
      "R2                             0.330                      0.297                     0.382                     0.282           \n",
      "Adjusted R2                    0.330                      0.294                     0.378                     0.279           \n",
      "Residual Std. Error     0.509 (df = 20942)          0.441 (df = 2549)         0.551 (df = 1543)         0.455 (df = 3350)     \n",
      "F Statistic         938.740*** (df = 11; 20942) 97.733*** (df = 11; 2549) 86.747*** (df = 11; 1543) 119.504*** (df = 11; 3350)\n",
      "==============================================================================================================================\n",
      "Note:                                                                                              *p<0.1; **p<0.05; ***p<0.01\n"
     ]
    }
   ],
   "source": [
    "stargazer(lma_white, lma_black, lma_asian, lma_hispanic, type=\"text\", \n",
    "          column.labels = c(\"White\", \"Black\", \"Asian\", \"Hispanic\"), \n",
    "          dep.var.labels = c(\"log(Earnings)\"), \n",
    "          covariate.labels = c(\"Age\", \"Age*Age\", \"Female\", \"Married\", \"High School Degree\", \"Some College\", \"Associates Degree\", \"Bachelors Degree\", \"Professional Degree\", \"Masters Degree\", \"Doctorate\", \"Constant\"),\n",
    "          header=FALSE)"
   ]
  },
  {
   "cell_type": "markdown",
   "metadata": {},
   "source": [
    "### Plots of premia to education"
   ]
  },
  {
   "cell_type": "code",
   "execution_count": 65,
   "metadata": {},
   "outputs": [
    {
     "data": {},
     "metadata": {},
     "output_type": "display_data"
    },
    {
     "data": {
      "image/png": "[encoded data removed]",
      "text/plain": [
       "plot without title"
      ]
     },
     "metadata": {},
     "output_type": "display_data"
    }
   ],
   "source": [
    "lma_filtered_ethnicity %>%\n",
    "  group_by(Educational.Attainment, Race.Ethnicity) %>%\n",
    "  summarise(median_earnings = median(Earnings.Past.12.Months)) %>%\n",
    "  ggplot(aes(x = Educational.Attainment, y = median_earnings, fill = Race.Ethnicity)) +\n",
    "  geom_bar(stat = \"identity\", position = \"dodge\") +\n",
    "  scale_fill_grey(start = 0, end = .9) +\n",
    "  scale_x_discrete(name = \"Educational Attainment\", limit = c(\"No High School Degree\", \"High School Degree\", \"Some College\", \"Associates Degree\", \"Bachelors Degree\", \"Masters Degree\", \"Doctorate\", \"Professional Degree\")) +\n",
    "  scale_y_continuous(name =\"Median Earnings ($)\") +\n",
    "  theme_minimal() + \n",
    "  theme(axis.text.x = element_text(angle= 0)) +\n",
    "  coord_flip()"
   ]
  },
  {
   "cell_type": "code",
   "execution_count": 66,
   "metadata": {},
   "outputs": [
    {
     "data": {},
     "metadata": {},
     "output_type": "display_data"
    },
    {
     "data": {
      "image/png": "[encoded data removed]",
      "text/plain": [
       "plot without title"
      ]
     },
     "metadata": {},
     "output_type": "display_data"
    }
   ],
   "source": [
    "lma_filtered_ethnicity %>%\n",
    "  group_by(Educational.Attainment, Race.Ethnicity) %>%\n",
    "  summarise(median_earnings = median(Earnings.Past.12.Months)) %>%\n",
    "  ggplot(aes(x = Educational.Attainment, y = median_earnings, fill = Race.Ethnicity)) +\n",
    "  geom_bar(stat = \"identity\", position = \"dodge\") +\n",
    "  scale_fill_grey(start = 0, end = .9, breaks = c(\"Hispanic\", \"Black\", \"Asian\", \"White\")) +\n",
    "  scale_x_discrete(name = \"Educational Attainment\", limit = c(\"No High School Degree\", \"High School Degree\", \"Some College\", \"Associates Degree\", \"Bachelors Degree\", \"Masters Degree\", \"Doctorate\", \"Professional Degree\"), labels = c(\"No High School\", \"High School\", \"Some College\", \"Associates\", \"Bachelors\", \"Masters\", \"Doctorate\", \"Professional\")) + \n",
    "  scale_y_continuous(name =\"Median Earnings ($)\") +\n",
    "  guides(fill=guide_legend(title=\"Race/Ethnicity\")) +\n",
    "  theme_minimal() +\n",
    "  theme(panel.grid.major = element_blank(), \n",
    "        panel.grid.minor = element_blank()) +\n",
    "  coord_flip()"
   ]
  },
  {
   "cell_type": "code",
   "execution_count": 67,
   "metadata": {},
   "outputs": [
    {
     "data": {},
     "metadata": {},
     "output_type": "display_data"
    },
    {
     "data": {
      "image/png": "[encoded data removed]",
      "text/plain": [
       "plot without title"
      ]
     },
     "metadata": {},
     "output_type": "display_data"
    }
   ],
   "source": [
    "returns_to_earnings <- lma_filtered_ethnicity %>%\n",
    "  # filter(Educational.Attainment %in% c('No High School Degree', 'High School Degree')) %>%\n",
    "  group_by(Educational.Attainment, Race.Ethnicity) %>%\n",
    "  summarise(median_earnings = median(Earnings.Past.12.Months)) \n",
    "\n",
    "coeff_as_percentage <- c(0, 0, 0, 0\n",
    "                         , round(exp(lma_white$coefficients[\"Educational.AttainmentHigh School Degree\"]) - 1, 3),\tround(exp(lma_asian$coefficients[\"Educational.AttainmentHigh School Degree\"]) - 1, 3), round(exp(lma_black$coefficients[\"Educational.AttainmentHigh School Degree\"]) - 1, 3), round(exp(lma_hispanic$coefficients[\"Educational.AttainmentHigh School Degree\"]) - 1, 3)\n",
    "                         , round(exp(lma_white$coefficients[\"Educational.AttainmentSome College\"]) - 1, 3),\tround(exp(lma_asian$coefficients[\"Educational.AttainmentSome College\"]) - 1, 3), round(exp(lma_black$coefficients[\"Educational.AttainmentSome College\"]) - 1, 3), round(exp(lma_hispanic$coefficients[\"Educational.AttainmentSome College\"]) - 1, 3)\n",
    "                         , round(exp(lma_white$coefficients[\"Educational.AttainmentAssociates Degree\"]) - 1, 3),\tround(exp(lma_asian$coefficients[\"Educational.AttainmentAssociates Degree\"]) - 1, 3), round(exp(lma_black$coefficients[\"Educational.AttainmentAssociates Degree\"]) - 1, 3), round(exp(lma_hispanic$coefficients[\"Educational.AttainmentAssociates Degree\"]) - 1, 3)\n",
    "                         , round(exp(lma_white$coefficients[\"Educational.AttainmentBachelors Degree\"]) - 1, 3),\tround(exp(lma_asian$coefficients[\"Educational.AttainmentBachelors Degree\"]) - 1, 3), round(exp(lma_black$coefficients[\"Educational.AttainmentBachelors Degree\"]) - 1, 3), round(exp(lma_hispanic$coefficients[\"Educational.AttainmentBachelors Degree\"]) - 1, 3)\n",
    "                         , round(exp(lma_white$coefficients[\"Educational.AttainmentProfessional Degree\"]) - 1, 3),\tround(exp(lma_asian$coefficients[\"Educational.AttainmentProfessional Degree\"]) - 1, 3), round(exp(lma_black$coefficients[\"Educational.AttainmentProfessional Degree\"]) - 1, 3), round(exp(lma_hispanic$coefficients[\"Educational.AttainmentProfessional Degree\"]) - 1, 3)\n",
    "                         , round(exp(lma_white$coefficients[\"Educational.AttainmentMasters Degree\"]) - 1, 3),\tround(exp(lma_asian$coefficients[\"Educational.AttainmentMasters Degree\"]) - 1, 3), round(exp(lma_black$coefficients[\"Educational.AttainmentMasters Degree\"]) - 1, 3), round(exp(lma_hispanic$coefficients[\"Educational.AttainmentMasters Degree\"]) - 1, 3)\n",
    "                         , round(exp(lma_white$coefficients[\"Educational.AttainmentDoctorate\"]) - 1, 3),\tround(exp(lma_asian$coefficients[\"Educational.AttainmentDoctorate\"]) - 1, 3), round(exp(lma_black$coefficients[\"Educational.AttainmentDoctorate\"]) - 1, 3), round(exp(lma_hispanic$coefficients[\"Educational.AttainmentDoctorate\"]) - 1, 3))\n",
    "\n",
    "returns_to_earnings %>%\n",
    "  ungroup() %>%\n",
    "  arrange(Educational.Attainment, Race.Ethnicity) %>%\n",
    "  mutate(percentage = coeff_as_percentage) %>%\n",
    "  ggplot(aes(x = Educational.Attainment, y = percentage, fill = Race.Ethnicity)) +\n",
    "  geom_bar(stat = \"identity\", position = \"dodge\") +\n",
    "  scale_fill_grey(start = 0, end = .9, breaks = c(\"Hispanic\", \"Black\", \"Asian\", \"White\")) +\n",
    "  scale_x_discrete(name = \"Educational Attainment\", limit = c(\"High School Degree\", \"Some College\", \"Associates Degree\", \"Bachelors Degree\", \"Masters Degree\", \"Doctorate\", \"Professional Degree\"), labels = c(\"High School\", \"Some College\", \"Associates\", \"Bachelors\", \"Masters\", \"Doctorate\", \"Professional\")) + \n",
    "  scale_y_continuous(name =\"Premia on Earnings compared to No High School\",labels = scales::percent) +\n",
    "  guides(fill=guide_legend(title=\"Race/Ethnicity\")) +\n",
    "  theme_minimal() +\n",
    "  theme(panel.grid.major = element_blank(), \n",
    "        panel.grid.minor = element_blank()) +\n",
    "  coord_flip()"
   ]
  }
 ],
 "metadata": {
  "kernelspec": {
   "display_name": "R",
   "language": "R",
   "name": "ir"
  },
  "language_info": {
   "codemirror_mode": "r",
   "file_extension": ".r",
   "mimetype": "text/x-r-source",
   "name": "R",
   "pygments_lexer": "r",
   "version": "3.5.1"
  }
 },
 "nbformat": 4,
 "nbformat_minor": 2
}
